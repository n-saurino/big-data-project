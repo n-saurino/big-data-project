{
 "cells": [
  {
   "cell_type": "code",
   "execution_count": 1,
   "id": "ba5d37b7",
   "metadata": {},
   "outputs": [],
   "source": [
    "from sedona.register import SedonaRegistrator  \n",
    "from sedona.utils import SedonaKryoRegistrator, KryoSerializer\n",
    "import geopandas as gpd\n",
    "from shapely.geometry import Point, Polygon\n",
    "from pyspark.sql import functions as F\n",
    "from pyspark.sql.window import Window\n",
    "from haversine import haversine, Unit\n",
    "import pyspark.sql.types as types\n",
    "import matplotlib.pyplot as plt\n",
    "import matplotlib\n",
    "import matplotlib.dates as mdates\n",
    "import leafmap"
   ]
  },
  {
   "cell_type": "code",
   "execution_count": 2,
   "id": "27dc84a6",
   "metadata": {},
   "outputs": [],
   "source": [
    "import os\n",
    "import urllib\n",
    "import json\n",
    "from threading import Thread, Lock\n",
    "from tqdm import tqdm\n",
    "from kafka import KafkaConsumer, KafkaProducer\n",
    "import pyspark\n",
    "from pyspark.sql import SparkSession\n",
    "import pandas"
   ]
  },
  {
   "cell_type": "code",
   "execution_count": 3,
   "id": "65a8b0cf",
   "metadata": {},
   "outputs": [
    {
     "data": {
      "text/html": [
       "\n",
       "            <div>\n",
       "                <p><b>SparkSession - in-memory</b></p>\n",
       "                \n",
       "        <div>\n",
       "            <p><b>SparkContext</b></p>\n",
       "\n",
       "            <p><a href=\"http://10.20.174.116:4043\">Spark UI</a></p>\n",
       "\n",
       "            <dl>\n",
       "              <dt>Version</dt>\n",
       "                <dd><code>v3.4.0</code></dd>\n",
       "              <dt>Master</dt>\n",
       "                <dd><code>local[5]</code></dd>\n",
       "              <dt>AppName</dt>\n",
       "                <dd><code>main</code></dd>\n",
       "            </dl>\n",
       "        </div>\n",
       "        \n",
       "            </div>\n",
       "        "
      ],
      "text/plain": [
       "<pyspark.sql.session.SparkSession at 0x1f2c60b0f10>"
      ]
     },
     "execution_count": 3,
     "metadata": {},
     "output_type": "execute_result"
    }
   ],
   "source": [
    "# spark session initialization\n",
    "spark = SparkSession.builder\\\n",
    "    .master(\"local[5]\")\\\n",
    "    .appName(\"main\")\\\n",
    "    .config(\"spark.sql.debug.maxToStringFields\", 50)\\\n",
    "    .config(\"spark.driver.memory\", '8g')\\\n",
    "    .config(\"spark.executor.instances\", 4)\\\n",
    "    .config(\"spark.executor.cores\", 5)\\\n",
    "    .getOrCreate()\n",
    "\n",
    "spark"
   ]
  },
  {
   "cell_type": "code",
   "execution_count": 4,
   "id": "ef1b0655",
   "metadata": {},
   "outputs": [
    {
     "data": {
      "text/plain": [
       "'5'"
      ]
     },
     "execution_count": 4,
     "metadata": {},
     "output_type": "execute_result"
    }
   ],
   "source": [
    "spark.conf.get(\"spark.executor.cores\")"
   ]
  },
  {
   "cell_type": "code",
   "execution_count": 5,
   "id": "0bef6df1",
   "metadata": {},
   "outputs": [],
   "source": [
    "# data folder\n",
    "data_dir = 'data'\n",
    "intr_dir = 'results/ss_df.csv'\n",
    "\n",
    "# data url\n",
    "subway_loc = { 'url': 'http://web.mta.info/developers/data/nyct/subway/Stations.csv?$limit=15000000', 'filename': 'subway.csv' }\n"
   ]
  },
  {
   "cell_type": "code",
   "execution_count": 6,
   "id": "826b0136",
   "metadata": {},
   "outputs": [],
   "source": [
    "# download flags\n",
    "downloadflag = True\n",
    "redownload = False\n",
    "\n",
    "thread_lock = Lock()\n",
    "\n",
    "# download utils\n",
    "def download_dataset_thread(loc, folder):\n",
    "    with thread_lock:\n",
    "         if ((not os.path.exists(os.path.join(folder, loc['filename']))) or redownload) and downloadflag:\n",
    "            if os.path.isfile(os.path.join(folder, loc['filename'])):\n",
    "                os.remove(os.path.join(folder, loc['filename']))\n",
    "            if not os.path.exists(folder):\n",
    "                os.makedirs(folder) \n",
    "            with tqdm(unit=\"B\", unit_scale=True, desc=loc['filename'], miniters=1) as progress_bar:\n",
    "                urllib.request.urlretrieve(loc['url'], os.path.join(folder, loc['filename']), lambda block_num, block_size, total_size: progress_bar.update(block_size))\n",
    "            progress_bar.display()\n",
    "        \n",
    "def download_dataset(loc, folder):\n",
    "    thread = Thread(target=download_dataset_thread, args=(loc, folder))\n",
    "    thread.start()\n",
    "    thread.join()"
   ]
  },
  {
   "cell_type": "code",
   "execution_count": 7,
   "id": "8f74c973",
   "metadata": {},
   "outputs": [],
   "source": [
    "# download datasets\n",
    "for dataset in [subway_loc]:\n",
    "    download_dataset(dataset, data_dir)"
   ]
  },
  {
   "cell_type": "code",
   "execution_count": 8,
   "id": "fa441ee0",
   "metadata": {},
   "outputs": [],
   "source": [
    "subway_rdd = spark.read.csv(os.path.join(data_dir, subway_loc['filename']), header=True, inferSchema=True)"
   ]
  },
  {
   "cell_type": "code",
   "execution_count": 9,
   "id": "cc0befa1",
   "metadata": {},
   "outputs": [],
   "source": [
    "subway_DF = subway_rdd.toDF(\"Station ID\", \"Complex ID\", \"GTFS Stop ID\", \"Division\", \"Line\", \"Stop Name\", \"Borough\", \"Daytime Routes\", \"Structure\", \"GTFS Latitude\", \"GTFS Longitude\", \"North Direction Label\", \"South Direction Label\", \"ADA\", \"ADA Direction Notes\", \"ADA NB\", \"ADA SB\", \"Capital Outage NB\", \"Capital Outage SB\")\n",
    "subway_DF = subway_DF.select('Station ID', 'Complex ID', 'GTFS Stop ID', 'Stop Name', 'Borough', 'GTFS Latitude','GTFS Longitude')\\\n",
    "                     .filter(F.col('GTFS Latitude').isNotNull() & F.col('GTFS Longitude').isNotNull())"
   ]
  },
  {
   "cell_type": "code",
   "execution_count": 10,
   "id": "3ae2e64d",
   "metadata": {},
   "outputs": [
    {
     "name": "stdout",
     "output_type": "stream",
     "text": [
      "+----------+----------+------------+--------------------+-------+-------------+--------------+\n",
      "|Station ID|Complex ID|GTFS Stop ID|           Stop Name|Borough|GTFS Latitude|GTFS Longitude|\n",
      "+----------+----------+------------+--------------------+-------+-------------+--------------+\n",
      "|         1|         1|         R01|Astoria-Ditmars Blvd|      Q|    40.775036|    -73.912034|\n",
      "|         2|         2|         R03|        Astoria Blvd|      Q|    40.770258|    -73.917843|\n",
      "|         3|         3|         R04|               30 Av|      Q|    40.766779|    -73.921479|\n",
      "|         4|         4|         R05|            Broadway|      Q|     40.76182|    -73.925508|\n",
      "|         5|         5|         R06|               36 Av|      Q|    40.756804|    -73.929575|\n",
      "|         6|         6|         R08|   39 Av-Dutch Kills|      Q|    40.752882|    -73.932755|\n",
      "|         7|       613|         R11|  Lexington Av/59 St|      M|     40.76266|    -73.967258|\n",
      "|         8|         8|         R13|          5 Av/59 St|      M|    40.764811|    -73.973347|\n",
      "|         9|         9|         R14|          57 St-7 Av|      M|    40.764664|    -73.980658|\n",
      "|        10|        10|         R15|               49 St|      M|    40.759901|    -73.984139|\n",
      "|        11|       611|         R16|      Times Sq-42 St|      M|    40.754672|    -73.986754|\n",
      "|        12|       607|         R17|     34 St-Herald Sq|      M|    40.749567|     -73.98795|\n",
      "|        13|        13|         R18|               28 St|      M|    40.745494|    -73.988691|\n",
      "|        14|        14|         R19|               23 St|      M|    40.741303|    -73.989344|\n",
      "|        15|       602|         R20|      14 St-Union Sq|      M|    40.735736|    -73.990568|\n",
      "|        16|        16|         R21|            8 St-NYU|      M|    40.730328|    -73.992629|\n",
      "|        17|        17|         R22|           Prince St|      M|    40.724329|    -73.997702|\n",
      "|        18|       623|         R23|            Canal St|      M|    40.719527|    -74.001775|\n",
      "|        19|       623|         Q01|            Canal St|      M|    40.718383|     -74.00046|\n",
      "|        20|        20|         R24|           City Hall|      M|    40.713282|    -74.006978|\n",
      "+----------+----------+------------+--------------------+-------+-------------+--------------+\n",
      "only showing top 20 rows\n",
      "\n"
     ]
    }
   ],
   "source": [
    "subway_DF.show()"
   ]
  },
  {
   "cell_type": "code",
   "execution_count": 11,
   "id": "57eff9d4",
   "metadata": {},
   "outputs": [
    {
     "name": "stdout",
     "output_type": "stream",
     "text": [
      "root\n",
      " |-- Station ID: integer (nullable = true)\n",
      " |-- Complex ID: integer (nullable = true)\n",
      " |-- GTFS Stop ID: string (nullable = true)\n",
      " |-- Stop Name: string (nullable = true)\n",
      " |-- Borough: string (nullable = true)\n",
      " |-- GTFS Latitude: double (nullable = true)\n",
      " |-- GTFS Longitude: double (nullable = true)\n",
      "\n"
     ]
    }
   ],
   "source": [
    "subway_DF.printSchema()"
   ]
  },
  {
   "cell_type": "code",
   "execution_count": 12,
   "id": "55bb1c55",
   "metadata": {},
   "outputs": [
    {
     "data": {
      "text/plain": [
       "496"
      ]
     },
     "execution_count": 12,
     "metadata": {},
     "output_type": "execute_result"
    }
   ],
   "source": [
    "subway_DF.count()"
   ]
  },
  {
   "cell_type": "code",
   "execution_count": 13,
   "id": "999cc670",
   "metadata": {},
   "outputs": [
    {
     "name": "stdout",
     "output_type": "stream",
     "text": [
      "+---+-------------------+--------------------+-------+---------+----------+------------------+--------------------+-----------------+-----------------+-------+----------+-------+\n",
      "| id|               line|           stop_name|borough|      lat|      long|           n_label|             s_label|          entries|            exits|arrests|complaints|summons|\n",
      "+---+-------------------+--------------------+-------+---------+----------+------------------+--------------------+-----------------+-----------------+-------+----------+-------+\n",
      "|F12|        Queens Blvd|          5 Av/53 St|      M|40.760167|-73.975224|            Queens| Downtown & Brooklyn| 1.71540057484E11| 1.83989511603E11|   1811|      3603|   1056|\n",
      "|637|       Lexington Av|         Bleecker St|      M|40.725915|-73.994659|Uptown & The Bronx|            Downtown| 1.96565180833E11| 1.53466659135E11|   3444|      5079|   1046|\n",
      "|603|             Pelham|       Middletown Rd|     Bx|40.843863|-73.836322|   Pelham Bay Park|           Manhattan|  1.6027568106E10|    9.955781892E9|    442|      1094|    842|\n",
      "|725|           Flushing|      Times Sq-42 St|      M|40.755477|-73.987691|            Queens|34 St - Hudson Yards| 4.94357936177E11| 1.84005946083E11|  11199|     12406|  14342|\n",
      "|606|             Pelham|           Zerega Av|     Bx|40.836488|-73.847036|   Pelham Bay Park|           Manhattan|    9.471627557E9|    5.313407168E9|    649|      1661|    996|\n",
      "|H12|           Rockaway|         Beach 90 St|      Q|40.588034|-73.813641|         Manhattan|       Rockaway Park|    9.282437234E9|  1.0399036521E10|   1223|      1715|    858|\n",
      "|R45|             4th Av|     Bay Ridge-95 St|     Bk|40.616622|-74.030876|         Manhattan|                null| 5.73184034882E11|  3.2220541569E10|    718|      1908|    380|\n",
      "|D40|Broadway - Brighton|      Brighton Beach|     Bk|40.577621|-73.961376|         Manhattan|        Coney Island|  1.3421971921E11| 1.29853126782E11|   2258|      3553|   1629|\n",
      "|R41|             4th Av|               59 St|     Bk|40.641362|-74.017881|         Manhattan|Coney Island - Ba...|  8.2568001773E10|  6.6395366214E10|   2674|      3121|   2027|\n",
      "|N03|          Sea Beach|  Fort Hamilton Pkwy|     Bk|40.631386|-74.005351|         Manhattan|        Coney Island|  2.2170524548E10|  1.4520606962E10|    306|       751|    360|\n",
      "|G22|          Crosstown|            Court Sq|      Q|40.746554|-73.943832|              null|            Brooklyn| 4.82716797127E11|  3.5964369312E10|    253|       871|    210|\n",
      "|G32|          Crosstown|Myrtle-Willoughby...|     Bk|40.694568|-73.949046|            Queens|           Church Av|   3.465443354E10|  2.3964479413E10|   2759|      2986|   4967|\n",
      "|A28| 8th Av - Fulton St|  34 St-Penn Station|      M|40.752287|-73.993391|   Uptown - Queens| Downtown & Brooklyn|  9.9819375916E10| 1.70757933631E11|  22090|     12041|   5343|\n",
      "|D18|    6th Av - Culver|               23 St|      M|40.742878|-73.992821|   Uptown & Queens| Downtown & Brooklyn|4.317803557209E12|4.534623614847E12|   2968|      5979|   2197|\n",
      "|R11|            Astoria|  Lexington Av/59 St|      M| 40.76266|-73.967258|            Queens| Downtown & Brooklyn| 2.57105386954E11| 2.08594554314E11|   8669|      9719|   1692|\n",
      "|711|           Flushing|               69 St|      Q|40.746325|-73.896403|          Flushing|           Manhattan|  6.5598906739E10|  5.0763211111E10|   1583|      1704|   2171|\n",
      "|A33| 8th Av - Fulton St|           Spring St|      M|40.726227|-74.003739|   Uptown - Queens| Downtown & Brooklyn| 4.66642894831E11| 1.19900802984E11|    740|      2196|    667|\n",
      "|A52| 8th Av - Fulton St|          Liberty Av|     Bk|40.674542|-73.896548|         Manhattan|           Euclid Av|  1.8620626053E10|   1.100283281E10|   2081|      2181|   2418|\n",
      "|J28|            Jamaica|         Chauncey St|     Bk|40.682893|-73.910456|           Jamaica|           Manhattan|  1.5507768821E10|    7.016570014E9|   3586|      2896|   1820|\n",
      "|L06|           Canarsie|                1 Av|      M|40.730953|-73.981628|              8 Av|            Brooklyn|  8.2099544596E10|  1.1128450234E11|   2515|      3658|   1300|\n",
      "+---+-------------------+--------------------+-------+---------+----------+------------------+--------------------+-----------------+-----------------+-------+----------+-------+\n",
      "only showing top 20 rows\n",
      "\n"
     ]
    }
   ],
   "source": [
    "ss_df = spark.read.csv(os.path.join(intr_dir, 'part-00000-0c0c6c23-ad4e-4192-9a8c-caa3fa4bf304-c000.csv'), header=True, inferSchema=True)\n",
    "ss_df.show()"
   ]
  },
  {
   "cell_type": "code",
   "execution_count": 14,
   "id": "0f191a39",
   "metadata": {},
   "outputs": [
    {
     "data": {
      "text/plain": [
       "447"
      ]
     },
     "execution_count": 14,
     "metadata": {},
     "output_type": "execute_result"
    }
   ],
   "source": [
    "ss_df.count()"
   ]
  },
  {
   "cell_type": "code",
   "execution_count": 15,
   "id": "3cb07cfc",
   "metadata": {},
   "outputs": [],
   "source": [
    "ss_df = ss_df.toPandas()"
   ]
  },
  {
   "cell_type": "code",
   "execution_count": 16,
   "id": "885b2b48-462c-48f4-aa1b-03268860e182",
   "metadata": {},
   "outputs": [],
   "source": [
    "ss_df['geometry'] = [Point(xy) for xy in zip(ss_df['long'],ss_df['lat'])]"
   ]
  },
  {
   "cell_type": "code",
   "execution_count": 17,
   "id": "33bf12dd",
   "metadata": {},
   "outputs": [],
   "source": [
    "ss_df[\"arrest_pct_total\"] = (ss_df[\"arrests\"] / ss_df[\"arrests\"].sum()) * 100"
   ]
  },
  {
   "cell_type": "code",
   "execution_count": 18,
   "id": "3ff71af3-b18f-47cf-8663-26822ed9fcb8",
   "metadata": {},
   "outputs": [
    {
     "data": {
      "text/html": [
       "<div>\n",
       "<style scoped>\n",
       "    .dataframe tbody tr th:only-of-type {\n",
       "        vertical-align: middle;\n",
       "    }\n",
       "\n",
       "    .dataframe tbody tr th {\n",
       "        vertical-align: top;\n",
       "    }\n",
       "\n",
       "    .dataframe thead th {\n",
       "        text-align: right;\n",
       "    }\n",
       "</style>\n",
       "<table border=\"1\" class=\"dataframe\">\n",
       "  <thead>\n",
       "    <tr style=\"text-align: right;\">\n",
       "      <th></th>\n",
       "      <th>id</th>\n",
       "      <th>line</th>\n",
       "      <th>stop_name</th>\n",
       "      <th>borough</th>\n",
       "      <th>lat</th>\n",
       "      <th>long</th>\n",
       "      <th>n_label</th>\n",
       "      <th>s_label</th>\n",
       "      <th>entries</th>\n",
       "      <th>exits</th>\n",
       "      <th>arrests</th>\n",
       "      <th>complaints</th>\n",
       "      <th>summons</th>\n",
       "      <th>geometry</th>\n",
       "      <th>arrest_pct_total</th>\n",
       "    </tr>\n",
       "  </thead>\n",
       "  <tbody>\n",
       "    <tr>\n",
       "      <th>0</th>\n",
       "      <td>F12</td>\n",
       "      <td>Queens Blvd</td>\n",
       "      <td>5 Av/53 St</td>\n",
       "      <td>M</td>\n",
       "      <td>40.760167</td>\n",
       "      <td>-73.975224</td>\n",
       "      <td>Queens</td>\n",
       "      <td>Downtown &amp; Brooklyn</td>\n",
       "      <td>1.715401e+11</td>\n",
       "      <td>1.839895e+11</td>\n",
       "      <td>1811</td>\n",
       "      <td>3603</td>\n",
       "      <td>1056</td>\n",
       "      <td>POINT (-73.975224 40.760167)</td>\n",
       "      <td>0.118282</td>\n",
       "    </tr>\n",
       "    <tr>\n",
       "      <th>1</th>\n",
       "      <td>637</td>\n",
       "      <td>Lexington Av</td>\n",
       "      <td>Bleecker St</td>\n",
       "      <td>M</td>\n",
       "      <td>40.725915</td>\n",
       "      <td>-73.994659</td>\n",
       "      <td>Uptown &amp; The Bronx</td>\n",
       "      <td>Downtown</td>\n",
       "      <td>1.965652e+11</td>\n",
       "      <td>1.534667e+11</td>\n",
       "      <td>3444</td>\n",
       "      <td>5079</td>\n",
       "      <td>1046</td>\n",
       "      <td>POINT (-73.994659 40.725915)</td>\n",
       "      <td>0.224938</td>\n",
       "    </tr>\n",
       "    <tr>\n",
       "      <th>2</th>\n",
       "      <td>603</td>\n",
       "      <td>Pelham</td>\n",
       "      <td>Middletown Rd</td>\n",
       "      <td>Bx</td>\n",
       "      <td>40.843863</td>\n",
       "      <td>-73.836322</td>\n",
       "      <td>Pelham Bay Park</td>\n",
       "      <td>Manhattan</td>\n",
       "      <td>1.602757e+10</td>\n",
       "      <td>9.955782e+09</td>\n",
       "      <td>442</td>\n",
       "      <td>1094</td>\n",
       "      <td>842</td>\n",
       "      <td>POINT (-73.836322 40.843863)</td>\n",
       "      <td>0.028868</td>\n",
       "    </tr>\n",
       "    <tr>\n",
       "      <th>3</th>\n",
       "      <td>725</td>\n",
       "      <td>Flushing</td>\n",
       "      <td>Times Sq-42 St</td>\n",
       "      <td>M</td>\n",
       "      <td>40.755477</td>\n",
       "      <td>-73.987691</td>\n",
       "      <td>Queens</td>\n",
       "      <td>34 St - Hudson Yards</td>\n",
       "      <td>4.943579e+11</td>\n",
       "      <td>1.840059e+11</td>\n",
       "      <td>11199</td>\n",
       "      <td>12406</td>\n",
       "      <td>14342</td>\n",
       "      <td>POINT (-73.987691 40.755477)</td>\n",
       "      <td>0.731441</td>\n",
       "    </tr>\n",
       "    <tr>\n",
       "      <th>4</th>\n",
       "      <td>606</td>\n",
       "      <td>Pelham</td>\n",
       "      <td>Zerega Av</td>\n",
       "      <td>Bx</td>\n",
       "      <td>40.836488</td>\n",
       "      <td>-73.847036</td>\n",
       "      <td>Pelham Bay Park</td>\n",
       "      <td>Manhattan</td>\n",
       "      <td>9.471628e+09</td>\n",
       "      <td>5.313407e+09</td>\n",
       "      <td>649</td>\n",
       "      <td>1661</td>\n",
       "      <td>996</td>\n",
       "      <td>POINT (-73.847036 40.836488)</td>\n",
       "      <td>0.042388</td>\n",
       "    </tr>\n",
       "  </tbody>\n",
       "</table>\n",
       "</div>"
      ],
      "text/plain": [
       "    id          line       stop_name borough        lat       long  \\\n",
       "0  F12   Queens Blvd      5 Av/53 St       M  40.760167 -73.975224   \n",
       "1  637  Lexington Av     Bleecker St       M  40.725915 -73.994659   \n",
       "2  603        Pelham   Middletown Rd      Bx  40.843863 -73.836322   \n",
       "3  725      Flushing  Times Sq-42 St       M  40.755477 -73.987691   \n",
       "4  606        Pelham       Zerega Av      Bx  40.836488 -73.847036   \n",
       "\n",
       "              n_label               s_label       entries         exits  \\\n",
       "0              Queens   Downtown & Brooklyn  1.715401e+11  1.839895e+11   \n",
       "1  Uptown & The Bronx              Downtown  1.965652e+11  1.534667e+11   \n",
       "2     Pelham Bay Park             Manhattan  1.602757e+10  9.955782e+09   \n",
       "3              Queens  34 St - Hudson Yards  4.943579e+11  1.840059e+11   \n",
       "4     Pelham Bay Park             Manhattan  9.471628e+09  5.313407e+09   \n",
       "\n",
       "   arrests  complaints  summons                      geometry  \\\n",
       "0     1811        3603     1056  POINT (-73.975224 40.760167)   \n",
       "1     3444        5079     1046  POINT (-73.994659 40.725915)   \n",
       "2      442        1094      842  POINT (-73.836322 40.843863)   \n",
       "3    11199       12406    14342  POINT (-73.987691 40.755477)   \n",
       "4      649        1661      996  POINT (-73.847036 40.836488)   \n",
       "\n",
       "   arrest_pct_total  \n",
       "0          0.118282  \n",
       "1          0.224938  \n",
       "2          0.028868  \n",
       "3          0.731441  \n",
       "4          0.042388  "
      ]
     },
     "execution_count": 18,
     "metadata": {},
     "output_type": "execute_result"
    }
   ],
   "source": [
    "ss_df.head()"
   ]
  },
  {
   "cell_type": "code",
   "execution_count": 19,
   "id": "5de97a63-ec6d-4a88-b728-02b952d95ce0",
   "metadata": {},
   "outputs": [
    {
     "data": {
      "text/plain": [
       "array(['M', 'Bx', 'Q', 'Bk', 'SI'], dtype=object)"
      ]
     },
     "execution_count": 19,
     "metadata": {},
     "output_type": "execute_result"
    }
   ],
   "source": [
    "ss_df[\"borough\"].unique()"
   ]
  },
  {
   "cell_type": "code",
   "execution_count": 20,
   "id": "714db4b6-c745-449d-83c6-965a2c74c3c3",
   "metadata": {},
   "outputs": [],
   "source": [
    "nta_map = gpd.read_file(r'C:\\Users\\Nigel\\Github\\big-data-project\\data\\nynta2020_23a\\nynta2020.shp')\n",
    "nta_map.to_crs(4326, inplace=True)"
   ]
  },
  {
   "cell_type": "code",
   "execution_count": 21,
   "id": "08c5499f-5653-4d5d-b5ae-97bcab192bcd",
   "metadata": {},
   "outputs": [],
   "source": [
    "ss_geo_df = gpd.GeoDataFrame(ss_df, crs=4326, geometry = ss_df.geometry)\n",
    "# Just to be extra sure\n",
    "ss_geo_df.to_crs(4326, inplace=True)"
   ]
  },
  {
   "cell_type": "code",
   "execution_count": 22,
   "id": "6c31b9d3-f60c-4955-b181-83fbf67c6fa2",
   "metadata": {},
   "outputs": [],
   "source": [
    "# Static map with GeoPandas\n",
    "# fig,ax = plt.subplots(figsize=(7,7))\n",
    "# nta_map.boundary.plot(ax=ax, edgecolor='k');\n",
    "# ss_geo_df[ss_geo_df.borough == 'M']\\\n",
    "#             .head(10)\\\n",
    "#             .plot(column='stop_name', ax=ax, legend=True, marker='.',\\\n",
    "#             markersize=ss_geo_df.arrest_pct_total.astype('float') * 10000);"
   ]
  },
  {
   "cell_type": "code",
   "execution_count": 23,
   "id": "53337ace-4461-4201-8c0a-bceb340306b7",
   "metadata": {},
   "outputs": [],
   "source": [
    "# ss_geo_df = ss_geo_df.head(10)"
   ]
  },
  {
   "cell_type": "code",
   "execution_count": 24,
   "id": "2ae9e961-519b-4ccc-a941-a4ebe3a7953a",
   "metadata": {},
   "outputs": [],
   "source": [
    "nta_demos = pandas.read_excel('https://www1.nyc.gov/assets/planning/download/office/planning-level/nyc-population/acs/demo_2019_acs5yr_nta.xlsx')"
   ]
  },
  {
   "cell_type": "code",
   "execution_count": 25,
   "id": "7b55b7f3-97c1-4830-b15f-394b634fb968",
   "metadata": {},
   "outputs": [],
   "source": [
    "nta_df = nta_map.merge(nta_demos, how='left', left_on='NTA2020', right_on='GeoID')"
   ]
  },
  {
   "cell_type": "code",
   "execution_count": 26,
   "id": "1a9775b8-3803-4cd8-a0d8-69ba24daac75",
   "metadata": {},
   "outputs": [],
   "source": [
    "ss_geo_df.to_file(\"ss_geo.json\", driver=\"GeoJSON\")"
   ]
  },
  {
   "cell_type": "code",
   "execution_count": 27,
   "id": "aee5a74d-f9d0-48e4-b04f-aacb05205450",
   "metadata": {},
   "outputs": [],
   "source": [
    "m = leafmap.Map(center=(40,-100),zoom=4)\n",
    "m.add_gdf(nta_df, layer_name='2020 NTA Demographic Information', info_mode='on_click')\n",
    "m.add_point_layer(filename=r'C:\\Users\\Nigel\\Github\\big-data-project\\ss_geo.json', popup=['stop_name', 'arrests', 'complaints', 'summons', 'arrest_pct_total'], layer_name=\"Stations\")"
   ]
  },
  {
   "cell_type": "code",
   "execution_count": 28,
   "id": "c563e154-e29c-4711-8bf1-9bc7407765c4",
   "metadata": {},
   "outputs": [
    {
     "data": {
      "application/vnd.jupyter.widget-view+json": {
       "model_id": "c49fe9db0ded485a999d29ed488541c7",
       "version_major": 2,
       "version_minor": 0
      },
      "text/plain": [
       "Map(center=[40.705833382057406, -73.9778002131813], controls=(ZoomControl(options=['position', 'zoom_in_text',…"
      ]
     },
     "metadata": {},
     "output_type": "display_data"
    }
   ],
   "source": [
    "m"
   ]
  }
 ],
 "metadata": {
  "kernelspec": {
   "display_name": "Python 3 (ipykernel)",
   "language": "python",
   "name": "python3"
  },
  "language_info": {
   "codemirror_mode": {
    "name": "ipython",
    "version": 3
   },
   "file_extension": ".py",
   "mimetype": "text/x-python",
   "name": "python",
   "nbconvert_exporter": "python",
   "pygments_lexer": "ipython3",
   "version": "3.8.15"
  }
 },
 "nbformat": 4,
 "nbformat_minor": 5
}
