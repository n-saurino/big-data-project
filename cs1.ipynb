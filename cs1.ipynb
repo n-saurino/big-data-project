{
 "cells": [
  {
   "cell_type": "code",
   "execution_count": 1,
   "id": "05a77597-b487-4e16-bcc0-8462061505a4",
   "metadata": {},
   "outputs": [],
   "source": [
    "from kafka import KafkaConsumer, KafkaProducer\n",
    "import json"
   ]
  },
  {
   "cell_type": "code",
   "execution_count": 2,
   "id": "179bc354-e8e4-45a3-b99e-fadf38abe5cb",
   "metadata": {},
   "outputs": [],
   "source": [
    "consumer = KafkaConsumer('topic-1', bootstrap_servers=['localhost:9092'], value_deserializer=lambda m: json.loads(m.decode('ascii')))"
   ]
  },
  {
   "cell_type": "code",
   "execution_count": null,
   "id": "4a54bd8b-1637-4e2d-8b7c-71b169245054",
   "metadata": {},
   "outputs": [
    {
     "name": "stdout",
     "output_type": "stream",
     "text": [
      "{'sam': 'san'}\n",
      "{'sam': 'san'}\n",
      "{'sam': 'san'}\n"
     ]
    }
   ],
   "source": [
    "for message in consumer:\n",
    "    print(message.value)"
   ]
  },
  {
   "cell_type": "code",
   "execution_count": null,
   "id": "379f5b5f-f387-4182-9497-864d828c2ee5",
   "metadata": {},
   "outputs": [],
   "source": []
  }
 ],
 "metadata": {
  "kernelspec": {
   "display_name": "Python 3 (ipykernel)",
   "language": "python",
   "name": "python3"
  },
  "language_info": {
   "codemirror_mode": {
    "name": "ipython",
    "version": 3
   },
   "file_extension": ".py",
   "mimetype": "text/x-python",
   "name": "python",
   "nbconvert_exporter": "python",
   "pygments_lexer": "ipython3",
   "version": "3.8.16"
  }
 },
 "nbformat": 4,
 "nbformat_minor": 5
}
