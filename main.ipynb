{
 "cells": [
  {
   "cell_type": "code",
   "execution_count": 1,
   "id": "5be5532d-f960-4781-9bcd-46e9fc649520",
   "metadata": {},
   "outputs": [],
   "source": [
    "# pip\n",
    "# !pip install tqdm\n",
    "# !pip install dask"
   ]
  },
  {
   "cell_type": "code",
   "execution_count": 2,
   "id": "1161ce3c-f44d-4315-a465-e24bb275488f",
   "metadata": {},
   "outputs": [],
   "source": [
    "# conda\n",
    "# !conda install tqdm\n",
    "# !conda install dask"
   ]
  },
  {
   "cell_type": "markdown",
   "id": "c960ad5b",
   "metadata": {},
   "source": [
    "### Importing necessary libraries"
   ]
  },
  {
   "cell_type": "code",
   "execution_count": 3,
   "id": "20c7e655-046c-4da4-a507-d6c82a395dfe",
   "metadata": {},
   "outputs": [],
   "source": [
    "# configuration, worked on using python@3.10.9 \n",
    "import os\n",
    "import urllib\n",
    "import json\n",
    "from threading import Thread, Lock\n",
    "from tqdm import tqdm\n",
    "from pyspark.sql import SparkSession\n",
    "import pyspark.sql.functions as F\n",
    "from pyspark.sql.types import StringType, BooleanType\n",
    "from haversine import haversine, Unit"
   ]
  },
  {
   "cell_type": "markdown",
   "id": "af63a460",
   "metadata": {},
   "source": [
    "### Dataset links and filename"
   ]
  },
  {
   "cell_type": "code",
   "execution_count": 4,
   "id": "78fd043a-320a-4e86-86a8-df4b0b177f7a",
   "metadata": {},
   "outputs": [],
   "source": [
    "# data folder\n",
    "data_dir = 'data'\n",
    "intr_dir = 'results'\n",
    "\n",
    "# data urls\n",
    "historic_arrest_loc = { 'url': 'https://data.cityofnewyork.us/resource/8h9b-rp9u.json?$limit=15000000', 'filename': 'arrest.json' }\n",
    "historic_complaint_loc = { 'url': 'https://data.cityofnewyork.us/resource/qgea-i56i.json?$limit=15000000', 'filename': 'complaint.json' }\n",
    "historic_court_summons_loc = { 'url': 'https://data.cityofnewyork.us/resource/sv2w-rv3k.json?$limit=15000000', 'filename': 'summons.json' }\n",
    "traffic_speed_loc = { 'url': 'https://data.cityofnewyork.us/resource/i4gi-tjb9.json?$limit=15000000', 'filename': 'speed.json' }\n",
    "turnstile_loc = { 'url': 'https://data.ny.gov/resource/i55r-43gk.json?$limit=15000000', 'filename': 'turnstile.json' }\n",
    "subway_loc = { 'url': 'http://web.mta.info/developers/data/nyct/subway/Stations.csv?$limit=10000', 'filename': 'subway.csv' }"
   ]
  },
  {
   "cell_type": "markdown",
   "id": "a0596959",
   "metadata": {},
   "source": [
    "### Dataset: Downloading handler"
   ]
  },
  {
   "cell_type": "code",
   "execution_count": 5,
   "id": "296b368d-abad-457e-9273-a4d58bb0164c",
   "metadata": {},
   "outputs": [],
   "source": [
    "# download flags\n",
    "downloadflag = True\n",
    "redownload = False\n",
    "\n",
    "thread_lock = Lock()\n",
    "\n",
    "# download utils\n",
    "def download_dataset_thread(loc, folder):\n",
    "    with thread_lock:\n",
    "        if ((not os.path.exists(os.path.join(folder, loc['filename']))) or redownload) and downloadflag:\n",
    "            if os.path.isfile(os.path.join(folder, loc['filename'])):\n",
    "                os.remove(os.path.join(folder, loc['filename']))\n",
    "            if not os.path.exists(folder):\n",
    "                os.makedirs(folder) \n",
    "            with tqdm(unit=\"B\", unit_scale=True, desc=loc['filename'], miniters=1) as progress_bar:\n",
    "                urllib.request.urlretrieve(loc['url'], os.path.join(folder, loc['filename']), lambda block_num, block_size, total_size: progress_bar.update(block_size))\n",
    "            progress_bar.display()\n",
    "        \n",
    "def download_dataset(loc, folder):\n",
    "    thread = Thread(target=download_dataset_thread, args=(loc, folder))\n",
    "    thread.start()\n",
    "    thread.join()\n",
    "        "
   ]
  },
  {
   "cell_type": "markdown",
   "id": "49ab5e10",
   "metadata": {},
   "source": [
    "### Dataset: Downloading"
   ]
  },
  {
   "cell_type": "code",
   "execution_count": 6,
   "id": "3bf5d47c-e667-4356-a238-d10729cb744b",
   "metadata": {},
   "outputs": [],
   "source": [
    "# download datasets\n",
    "for dataset in [historic_arrest_loc,\n",
    "                historic_complaint_loc,\n",
    "                historic_court_summons_loc,\n",
    "                turnstile_loc,\n",
    "                subway_loc]:\n",
    "    download_dataset(dataset, data_dir)"
   ]
  },
  {
   "cell_type": "markdown",
   "id": "27077460",
   "metadata": {},
   "source": [
    "### Creating spark session using SparkSession builder"
   ]
  },
  {
   "cell_type": "code",
   "execution_count": 7,
   "id": "68e4059e",
   "metadata": {},
   "outputs": [
    {
     "name": "stderr",
     "output_type": "stream",
     "text": [
      "Setting default log level to \""
     ]
    },
    {
     "data": {
      "text/html": [
       "\n",
       "            <div>\n",
       "                <p><b>SparkSession - in-memory</b></p>\n",
       "                \n",
       "        <div>\n",
       "            <p><b>SparkContext</b></p>\n",
       "\n",
       "            <p><a href=\"http://devarshs-mbp.fios-router.home:4041\">Spark UI</a></p>\n",
       "\n",
       "            <dl>\n",
       "              <dt>Version</dt>\n",
       "                <dd><code>v3.4.0</code></dd>\n",
       "              <dt>Master</dt>\n",
       "                <dd><code>local[5]</code></dd>\n",
       "              <dt>AppName</dt>\n",
       "                <dd><code>main</code></dd>\n",
       "            </dl>\n",
       "        </div>\n",
       "        \n",
       "            </div>\n",
       "        "
      ],
      "text/plain": [
       "<pyspark.sql.session.SparkSession at 0x10f52f4c0>"
      ]
     },
     "execution_count": 7,
     "metadata": {},
     "output_type": "execute_result"
    }
   ],
   "source": [
    "# spark session initialization\n",
    "spark = SparkSession.builder\\\n",
    "    .master(\"local[5]\")\\\n",
    "    .appName(\"main\")\\\n",
    "    .config(\"spark.sql.debug.maxToStringFields\", 100)\\\n",
    "    .config(\"spark.driver.memory\", '4g')\\\n",
    "    .config(\"spark.executor.instances\", 5)\\\n",
    "    .getOrCreate()\n",
    "\n",
    "spark"
   ]
  },
  {
   "cell_type": "markdown",
   "id": "10296165",
   "metadata": {},
   "source": [
    "### Initializing spark dataframes"
   ]
  },
  {
   "cell_type": "code",
   "execution_count": 8,
   "id": "a03187c4-9ff0-4728-8926-3bcdda56315c",
   "metadata": {},
   "outputs": [],
   "source": [
    "# dataframes\n",
    "arrest_df = spark.read.json(os.path.join(data_dir, historic_arrest_loc['filename']), multiLine=True).repartition(5)\n",
    "complaint_df = spark.read.json(os.path.join(data_dir, historic_complaint_loc['filename']), multiLine=True).repartition(5)\n",
    "summons_df = spark.read.json(os.path.join(data_dir, historic_court_summons_loc['filename']), multiLine=True).repartition(5)\n",
    "turnstile_df = spark.read.json(os.path.join(data_dir, turnstile_loc['filename']), multiLine=True).repartition(5)\n",
    "subway_df = spark.read.option('header', True).option('inferSchema', True).csv(os.path.join(data_dir, subway_loc['filename'])).repartition(5)"
   ]
  },
  {
   "cell_type": "markdown",
   "id": "b8a498ba-b1c2-45b1-aa7f-055e33e8218f",
   "metadata": {},
   "source": [
    "### UDFs"
   ]
  },
  {
   "cell_type": "code",
   "execution_count": 9,
   "id": "b3cbe43a-2139-43f7-9044-af5cb469f60f",
   "metadata": {},
   "outputs": [],
   "source": [
    "# normalize udf for station id in subway and turnstile\n",
    "def normalize(unit):\n",
    "    type, *val = list(unit)\n",
    "    return type + str(int(''.join(val)))\n",
    "\n",
    "nUdf = F.udf(normalize, StringType())"
   ]
  },
  {
   "cell_type": "code",
   "execution_count": 10,
   "id": "9241d8f2-53c4-4977-ad77-1ae0b2eae2e6",
   "metadata": {},
   "outputs": [],
   "source": [
    "# haversine distance comparison udf\n",
    "def withinMile(slat, slong, dlat, dlong):\n",
    "    srs = (slat, slong)\n",
    "    dst = (dlat, dlong)\n",
    "    distance = float(haversine(srs, dst,unit=Unit.MILES))\n",
    "    return bool(distance < 0.1)\n",
    "    \n",
    "withinMileUdf = F.udf(withinMile, BooleanType())"
   ]
  },
  {
   "cell_type": "markdown",
   "id": "1919419f-a35f-4512-94e4-e75e0c9cd049",
   "metadata": {},
   "source": [
    "### Dataset Pre-processing"
   ]
  },
  {
   "cell_type": "markdown",
   "id": "341c5d18-fccf-4270-b968-b542d00e190e",
   "metadata": {},
   "source": [
    "#### 1. Arrest dataset cleaning"
   ]
  },
  {
   "cell_type": "code",
   "execution_count": 11,
   "id": "17dbc301-5ce5-4e96-ac30-0af6b9a88dd9",
   "metadata": {},
   "outputs": [
    {
     "name": "stdout",
     "output_type": "stream",
     "text": [
      "+-----------+--------------------+----------+------------------+------------------+\n",
      "|arrest_boro|         arrest_date|arrest_key|          latitude|         longitude|\n",
      "+-----------+--------------------+----------+------------------+------------------+\n",
      "|          B|2010-03-12T00:00:...|  71730512| 40.82095486800005|-73.85801740899994|\n",
      "|          M|2009-06-03T00:00:...|  62411068|40.863003221000035|-73.92425384299997|\n",
      "|          B|2007-12-29T00:00:...|  37340060|40.867263716000025|-73.89685776699997|\n",
      "|          K|2014-08-29T00:00:...| 138453053| 40.68746505200004|     -73.952855937|\n",
      "|          K|2009-05-21T00:00:...|  61995801| 40.69395702200006|-73.91183165399997|\n",
      "|          B|2012-05-30T00:00:...|  85006006|40.831974874000025|-73.89669204099994|\n",
      "|          M|2016-08-27T00:00:...| 156196665| 40.81021769500006|-73.93949694199993|\n",
      "|          Q|2016-03-11T00:00:...| 151134432| 40.70010913700002|-73.82421171499993|\n",
      "|          M|2013-08-07T00:00:...|  92014453| 40.70578749500004|-74.00838356999998|\n",
      "|          K|2007-10-25T00:00:...|  35286352| 40.67368625000006|-73.86575729099997|\n",
      "|          B|2016-07-14T00:00:...| 154856315| 40.86170890900007|-73.89138208599996|\n",
      "|          B|2015-08-14T00:00:...| 145333163| 40.85999649200004|-73.90408122399998|\n",
      "|          S|2012-11-08T00:00:...|  87603015| 40.62384888900005|-74.08197985899994|\n",
      "|          M|2008-02-09T00:00:...|  39013090| 40.74298079600004|-73.98323505999997|\n",
      "|          Q|2018-01-19T00:00:...| 173818792|40.580403286000035|-73.83153598499997|\n",
      "|          Q|2009-01-24T00:00:...|  55978379| 40.76142101200002|-73.88453904299998|\n",
      "|          K|2008-08-05T00:00:...|  49836502| 40.64555467100007|-73.95909079399996|\n",
      "|          M|2010-07-14T00:00:...|  73677202| 40.71236665600002|-74.00888578799999|\n",
      "|          B|2014-09-27T00:00:...| 138893716|40.874984151000035|-73.87945670399995|\n",
      "|          M|2016-01-21T00:00:...| 149596931|40.798293080000064|-73.94186988299998|\n",
      "+-----------+--------------------+----------+------------------+------------------+\n",
      "only showing top 20 rows\n",
      "\n"
     ]
    }
   ],
   "source": [
    "# preprocess arrest data\n",
    "arrest_df = arrest_df.select(\"arrest_boro\",\"arrest_date\", \"arrest_key\", \"latitude\", \"longitude\", )\\\n",
    "    .filter(F.col('latitude').isNotNull()\\\n",
    "        & F.col('longitude').isNotNull())\\\n",
    "    .withColumn(\"longitude\", F.col(\"longitude\").cast(\"double\"))\\\n",
    "    .withColumn(\"latitude\", F.col(\"latitude\").cast(\"double\"))\n",
    "arrest_df.show()"
   ]
  },
  {
   "cell_type": "markdown",
   "id": "fa0b71e9-9230-4146-b596-551aa425e9f3",
   "metadata": {},
   "source": [
    "#### 2. Complaint dataset cleaning"
   ]
  },
  {
   "cell_type": "code",
   "execution_count": 20,
   "id": "1f3d1f18-d109-43e6-b925-edcf481a1c95",
   "metadata": {},
   "outputs": [
    {
     "name": "stdout",
     "output_type": "stream",
     "text": [
      "+----------+-----------------+--------------------+------------+------------------+------------------+\n",
      "|cmplnt_num|loc_of_occur_desc|        cmplnt_to_dt|cmplnt_to_tm|          latitude|         longitude|\n",
      "+----------+-----------------+--------------------+------------+------------------+------------------+\n",
      "| 870010794|             null|2020-03-06T00:00:...|    01:00:00| 40.68900458000007|-73.78580605399996|\n",
      "| 532313042|         FRONT OF|2020-02-17T00:00:...|    20:36:00| 40.71224785000004|-73.76903757999997|\n",
      "| 106900823|           INSIDE|2006-02-12T00:00:...|    17:50:00|      40.699166247|     -73.792066606|\n",
      "| 408535776|           INSIDE|2006-04-11T00:00:...|    10:56:00|      40.680332821|     -73.905972878|\n",
      "| 583339129|             null|                null|        null|      40.688378278|      -73.94491166|\n",
      "| 562935534|         FRONT OF|2017-05-27T00:00:...|    21:30:00|        40.8551677|      -73.88790442|\n",
      "| 800736634|             null|2014-01-03T00:00:...|    20:00:00|      40.678830561|     -73.866269707|\n",
      "| 470753868|             null|                null|        null|      40.876190434|     -73.854449784|\n",
      "| 361625002|         FRONT OF|                null|        null|      40.805504347|     -73.916477252|\n",
      "| 651315379|         FRONT OF|2011-09-04T00:00:...|    01:00:00|      40.760191234|     -73.963319557|\n",
      "| 739557542|         FRONT OF|2020-10-08T00:00:...|    12:30:00|40.739695320000074|     -73.922712414|\n",
      "| 548929667|           INSIDE|2017-05-11T00:00:...|    02:00:00|      40.676314308|     -74.005935557|\n",
      "| 116374885|             null|2007-05-14T00:00:...|    07:45:00|      40.883382579|     -73.902333309|\n",
      "| 478139136|           INSIDE|2014-07-31T00:00:...|    16:46:00|      40.683241525|     -73.873652239|\n",
      "| 433296153|             null|2006-07-01T00:00:...|    21:25:00|      40.832616561|     -73.857515523|\n",
      "| 224112470|           INSIDE|2008-03-26T00:00:...|    19:50:00|      40.844921957|     -73.829789053|\n",
      "| 809840381|           INSIDE|                null|        null| 40.75771167700003|-73.98202575399995|\n",
      "| 947823506|           INSIDE|2017-04-30T00:00:...|    12:50:00|      40.867233937|     -73.820891974|\n",
      "| 221705377|         FRONT OF|                null|        null|      40.799645073|     -73.945104921|\n",
      "| 814051320|             null|2012-05-09T00:00:...|    15:36:00|      40.735417541|     -73.975143389|\n",
      "+----------+-----------------+--------------------+------------+------------------+------------------+\n",
      "only showing top 20 rows\n",
      "\n"
     ]
    }
   ],
   "source": [
    "# preprocess complaint data\n",
    "complaint_df = complaint_df.select(\"cmplnt_num\",\"loc_of_occur_desc\", \"cmplnt_to_dt\", \"cmplnt_to_tm\", \"latitude\", \"longitude\", )\\\n",
    "    .filter(F.col('latitude').isNotNull()\\\n",
    "        & F.col('longitude').isNotNull())\\\n",
    "    .withColumn(\"longitude\", F.col(\"longitude\").cast(\"double\"))\\\n",
    "    .withColumn(\"latitude\", F.col(\"latitude\").cast(\"double\"))\n",
    "complaint_df.show()"
   ]
  },
  {
   "cell_type": "markdown",
   "id": "5df4e92e-feff-4526-832f-2e21f4ab2a26",
   "metadata": {},
   "source": [
    "#### 3. Summons dataset cleaning"
   ]
  },
  {
   "cell_type": "code",
   "execution_count": 28,
   "id": "1eb4d6ef-8fdf-49b0-8a19-bf2fd66b30f6",
   "metadata": {},
   "outputs": [
    {
     "name": "stdout",
     "output_type": "stream",
     "text": [
      "+-----------------+-------------------+--------------------+-----------------+------------------+------------------+\n",
      "|jurisdiction_code|    law_description| offense_description|precinct_of_occur|          latitude|         longitude|\n",
      "+-----------------+-------------------+--------------------+-----------------+------------------+------------------+\n",
      "|                0|Administrative Code|VEND:RESTRICTIONS...|              109|40.757105780000074|-73.82896307099996|\n",
      "|                0|Administrative Code|  VENDOR: UNLICENSED|               94| 40.71812038400003|-73.95743012599996|\n",
      "|                0|Administrative Code|  VENDOR: UNLICENSED|               94| 40.71812038400003|-73.95743012599996|\n",
      "|                0|Administrative Code|  VENDOR: UNLICENSED|               94| 40.71812038400003|-73.95743012599996|\n",
      "|                0|Administrative Code|  VENDOR: UNLICENSED|               94| 40.71812038400003|-73.95743012599996|\n",
      "|                0|Administrative Code|  VENDOR: UNLICENSED|               94| 40.71812038400003|-73.95743012599996|\n",
      "|                0|                ABC|   UNDERAGE DRINKING|               70| 40.63224054700004|-73.94762406299998|\n",
      "|                0|          Penal Law|DISCON: REFUSE LA...|               25| 40.80337107400004|-73.93711198499993|\n",
      "|                0|Administrative Code|CONSUMPTION OF AL...|              106| 40.67979643700004|-73.85255656799995|\n",
      "|                0|        Health Code| URINATING IN PUBLIC|              104|40.701955336000026|-73.90500467599996|\n",
      "|                0|          Penal Law|  DISORDERLY CONDUCT|               48| 40.83920982000007|     -73.876988107|\n",
      "|                0|          Penal Law|  DISORDERLY CONDUCT|               48| 40.83920982000007|     -73.876988107|\n",
      "|                0|          Penal Law|  DISORDERLY CONDUCT|               48| 40.83920982000007|     -73.876988107|\n",
      "|                0|          Penal Law|  DISORDERLY CONDUCT|               48| 40.83920982000007|     -73.876988107|\n",
      "|                0|Administrative Code|CONSUMPTION OF AL...|              121| 40.63638702700007|-74.13452725899998|\n",
      "|                0|Administrative Code|CONSUMPTION OF AL...|              121| 40.63638702700007|-74.13452725899998|\n",
      "|                0|Administrative Code|CONSUMPTION OF AL...|              121| 40.63638702700007|-74.13452725899998|\n",
      "|                0|Administrative Code|CONSUMPTION OF AL...|              121| 40.63638702700007|-74.13452725899998|\n",
      "|                0|Administrative Code|CONSUMPTION OF AL...|              121| 40.63638702700007|-74.13452725899998|\n",
      "|                0|Administrative Code|CONSUMPTION OF AL...|              121| 40.63638702700007|-74.13452725899998|\n",
      "+-----------------+-------------------+--------------------+-----------------+------------------+------------------+\n",
      "only showing top 20 rows\n",
      "\n"
     ]
    }
   ],
   "source": [
    "# preprocess summons data\n",
    "summons_df = summons_df.select(\"jurisdiction_code\",\"law_description\", \"offense_description\", \"precinct_of_occur\", \"latitude\", \"longitude\", )\\\n",
    "    .filter(F.col('latitude').isNotNull()\\\n",
    "        & F.col('longitude').isNotNull())\\\n",
    "    .withColumn(\"longitude\", F.col(\"longitude\").cast(\"double\"))\\\n",
    "    .withColumn(\"latitude\", F.col(\"latitude\").cast(\"double\"))\n",
    "summons_df.show()"
   ]
  },
  {
   "cell_type": "markdown",
   "id": "ad5133ca",
   "metadata": {},
   "source": [
    "### Dataset: Analysis"
   ]
  },
  {
   "cell_type": "markdown",
   "id": "c14ca1f7",
   "metadata": {},
   "source": [
    "#### 1. Subway and Turnstile dataset analysis"
   ]
  },
  {
   "cell_type": "code",
   "execution_count": 10,
   "id": "f9caf462",
   "metadata": {},
   "outputs": [],
   "source": [
    "# normalize subway GTFS Stop ID\n",
    "subway_df = subway_df.withColumn('GTFS Stop ID', nUdf(F.col('GTFS Stop ID')))"
   ]
  },
  {
   "cell_type": "code",
   "execution_count": 11,
   "id": "2eec408e",
   "metadata": {},
   "outputs": [],
   "source": [
    "# normalize turnstile unit\n",
    "turnstile_df = turnstile_df.withColumn('unit', nUdf(F.col('unit')))"
   ]
  },
  {
   "cell_type": "code",
   "execution_count": 12,
   "id": "070e7fd4",
   "metadata": {},
   "outputs": [],
   "source": [
    "# getting subways stations in turnstile and subway dataset\n",
    "s_list = subway_df.select(F.col('GTFS Stop ID')).distinct().toPandas().values.flatten()\n",
    "t_list = turnstile_df.select(F.col('unit')).distinct().toPandas().values.flatten()"
   ]
  },
  {
   "cell_type": "code",
   "execution_count": 13,
   "id": "9adb974f",
   "metadata": {},
   "outputs": [
    {
     "data": {
      "text/plain": [
       "['R16',\n",
       " 'R13',\n",
       " 'R6',\n",
       " 'R30',\n",
       " 'R8',\n",
       " 'R40',\n",
       " 'R23',\n",
       " 'R45',\n",
       " 'R21',\n",
       " 'R20',\n",
       " 'R43',\n",
       " 'R3',\n",
       " 'R36',\n",
       " 'R15',\n",
       " 'R24',\n",
       " 'R29',\n",
       " 'R33',\n",
       " 'R39',\n",
       " 'R4',\n",
       " 'R41',\n",
       " 'R27',\n",
       " 'R19',\n",
       " 'R5',\n",
       " 'R44',\n",
       " 'R22',\n",
       " 'R34',\n",
       " 'R32',\n",
       " 'R31',\n",
       " 'R42',\n",
       " 'R9',\n",
       " 'R11',\n",
       " 'R1',\n",
       " 'R25',\n",
       " 'R18',\n",
       " 'R14',\n",
       " 'R35',\n",
       " 'R17',\n",
       " 'R28']"
      ]
     },
     "execution_count": 13,
     "metadata": {},
     "output_type": "execute_result"
    }
   ],
   "source": [
    "# comparing common subway stations\n",
    "ts_intersect = [value for value in t_list if value in s_list]\n",
    "ts_intersect"
   ]
  },
  {
   "cell_type": "markdown",
   "id": "e9bc0f14",
   "metadata": {},
   "source": [
    "### Dataset: Consolidating"
   ]
  },
  {
   "cell_type": "markdown",
   "id": "0ce4b4db",
   "metadata": {},
   "source": [
    "1. Combine Subway to Turnstile"
   ]
  },
  {
   "cell_type": "code",
   "execution_count": 15,
   "id": "beb822e8",
   "metadata": {},
   "outputs": [
    {
     "name": "stdout",
     "output_type": "stream",
     "text": [
      "+----+-----------------+-----------------+\n",
      "|unit|          entries|            exits|\n",
      "+----+-----------------+-----------------+\n",
      "|R159|  9.7658670459E10|  3.6752142042E10|\n",
      "|R143| 6.16250900125E11| 7.75773326471E11|\n",
      "|R469|  1.0314052482E10|     9.79342886E8|\n",
      "|R167|  1.6874102816E11| 1.96763060056E11|\n",
      "|R100|  3.8355082149E10|  4.2813609167E10|\n",
      "|R177| 2.21718982614E11| 1.91598461153E11|\n",
      "|R290|  7.7285465068E10|  9.9919615555E10|\n",
      "|R082|  4.0183520438E10|  5.4452586495E10|\n",
      "|R384|   2.283725805E10|  2.2146211814E10|\n",
      "|R432|  1.5507768821E10|    7.016570014E9|\n",
      "|R541|  2.0813861412E10|  1.6886431668E10|\n",
      "|R046| 4.16017591248E11| 2.68429971561E11|\n",
      "|R412|    9.997534418E9|     3.88309983E9|\n",
      "|R018|1.385354956576E12|1.019986375028E12|\n",
      "|R430|    9.052436119E9|   1.126470821E10|\n",
      "|R294|  4.0256229752E10|  2.4555010956E10|\n",
      "|R329|  1.1117120569E10|    5.684716085E9|\n",
      "|R431|1.094341262102E12|1.096776281978E12|\n",
      "|R125|  3.7882386986E10|  2.4059386949E10|\n",
      "|R462| 3.48375809509E11| 3.96053270441E11|\n",
      "+----+-----------------+-----------------+\n",
      "only showing top 20 rows\n",
      "\n"
     ]
    }
   ],
   "source": [
    "# filter and group turnstile dataset\n",
    "gt_df = turnstile_df.groupBy(F.col('unit'))\\\n",
    "    .agg({ 'entries': 'sum', 'exits': 'sum'})\\\n",
    "        .select(F.col('unit'),\\\n",
    "            F.col('sum(entries)').alias('entries'),\\\n",
    "            F.col('sum(exits)').alias('exits'))\n",
    "gt_df.show()"
   ]
  },
  {
   "cell_type": "code",
   "execution_count": 16,
   "id": "ffe1cb57",
   "metadata": {},
   "outputs": [],
   "source": [
    "# combine the total exits and entries for each station\n",
    "st_df = subway_df.join(gt_df, F.col('GTFS Stop ID') == F.col('unit'))\\\n",
    "    .select(F.col('GTFS Stop ID').alias('id'),\\\n",
    "        F.col('Line').alias('line'),\\\n",
    "        F.col('Stop Name').alias('stop_name'),\\\n",
    "        F.col('Borough').alias('borough'),\\\n",
    "        F.col('GTFS Latitude').alias('lat'),\\\n",
    "        F.col('GTFS Longitude').alias('long'),\\\n",
    "        F.col('North Direction Label').alias('n_label'),\\\n",
    "        F.col('South Direction Label').alias('s_label'),\\\n",
    "        F.col('entries'),\\\n",
    "        F.col('exits'))\n",
    "\n",
    "st_df.write.option('header', True).mode('overwrite').csv(os.path.join(intr_dir, 'st_df.csv'))"
   ]
  },
  {
   "cell_type": "code",
   "execution_count": 17,
   "id": "2c58c9ca-fe94-412c-a9fc-a0ce4dad45c5",
   "metadata": {},
   "outputs": [
    {
     "name": "stdout",
     "output_type": "stream",
     "text": [
      "+---+-------------------+-----------------+-------+---------+----------+--------------------+--------------------+-----------------+-----------------+\n",
      "| id|               line|        stop_name|borough|      lat|      long|             n_label|             s_label|          entries|            exits|\n",
      "+---+-------------------+-----------------+-------+---------+----------+--------------------+--------------------+-----------------+-----------------+\n",
      "|R16|Broadway - Brighton|   Times Sq-42 St|      M|40.754672|-73.986754|     Uptown & Queens| Downtown & Brooklyn|  7.9053401996E10|  9.4031973197E10|\n",
      "|R13|            Astoria|       5 Av/59 St|      M|40.764811|-73.973347|              Queens| Downtown & Brooklyn|  9.9819375916E10| 1.70757933631E11|\n",
      "| R6|            Astoria|            36 Av|      Q|40.756804|-73.929575|Astoria - Ditmars...|           Manhattan|  7.1331940846E10|  2.6958063183E10|\n",
      "|R30|Broadway - Brighton|        DeKalb Av|     Bk|40.690635|-73.981824|           Manhattan|Coney Island - Ba...|1.625048003534E12|1.334749653979E12|\n",
      "| R8|            Astoria|39 Av-Dutch Kills|      Q|40.752882|-73.932755|Astoria - Ditmars...|           Manhattan|  2.7676840763E10|  2.6753306073E10|\n",
      "|R40|             4th Av|            53 St|     Bk|40.645069|-74.014034|           Manhattan|   Bay Ridge - 95 St| 1.18343499418E11|  1.3138969255E10|\n",
      "|R23|           Broadway|         Canal St|      M|40.719527|-74.001775|     Uptown & Queens| Downtown & Brooklyn|3.034008171273E12|4.004890364733E12|\n",
      "|R45|             4th Av|  Bay Ridge-95 St|     Bk|40.616622|-74.030876|           Manhattan|                null| 1.45718172033E11|  1.1424377247E11|\n",
      "|R21|Broadway - Brighton|         8 St-NYU|      M|40.730328|-73.992629|     Uptown & Queens| Downtown & Brooklyn|1.067086537847E12| 8.97730531215E11|\n",
      "|R20|Broadway - Brighton|   14 St-Union Sq|      M|40.735736|-73.990568|     Uptown & Queens| Downtown & Brooklyn| 3.52359562127E11| 3.20595332347E11|\n",
      "|R43|             4th Av|            77 St|     Bk|40.629742| -74.02551|           Manhattan|               95 St| 7.74701516828E11| 1.27076914353E11|\n",
      "| R3|            Astoria|     Astoria Blvd|      Q|40.770258|-73.917843|        Ditmars Blvd|           Manhattan|  1.0233724436E10|    6.300884972E9|\n",
      "|R36|             4th Av|            36 St|     Bk|40.655144|-74.003549|           Manhattan|Coney Island - Ba...|    9.851525611E9|  1.4600105563E10|\n",
      "|R15|Broadway - Brighton|            49 St|      M|40.759901|-73.984139|     Uptown & Queens| Downtown & Brooklyn| 1.71540057484E11| 1.83989511603E11|\n",
      "|R24|           Broadway|        City Hall|      M|40.713282|-74.006978|     Uptown & Queens| Downtown & Brooklyn| 2.77143996739E11|  1.3558776869E11|\n",
      "|R29|           Broadway| Jay St-MetroTech|     Bk| 40.69218|-73.985942|           Manhattan|   Bay Ridge - 95 St| 6.20282148955E11| 4.43236158889E11|\n",
      "|R33|             4th Av|        4 Av-9 St|     Bk|40.670847|-73.988302|           Manhattan|   Bay Ridge - 95 St|3.697545906933E12|5.445914142777E12|\n",
      "|R39|             4th Av|            45 St|     Bk|40.648939|-74.010006|           Manhattan|   Bay Ridge - 95 St|  1.0134315912E10|    1.548481925E9|\n",
      "| R4|            Astoria|            30 Av|      Q|40.766779|-73.921479|Astoria - Ditmars...|           Manhattan|  3.1864562633E10|  3.1061851564E10|\n",
      "|R41|             4th Av|            59 St|     Bk|40.641362|-74.017881|           Manhattan|Coney Island - Ba...| 2.32108548046E11|  9.8903419027E10|\n",
      "+---+-------------------+-----------------+-------+---------+----------+--------------------+--------------------+-----------------+-----------------+\n",
      "only showing top 20 rows\n",
      "\n"
     ]
    }
   ],
   "source": [
    "# get st_df from file\n",
    "st_df = spark.read.csv(os.path.join(intr_dir, 'st_df.csv'), header=True, inferSchema=True)\n",
    "st_df.show()"
   ]
  },
  {
   "cell_type": "markdown",
   "id": "ff1c8c5b",
   "metadata": {},
   "source": [
    "2. Combine Subway to Arrest"
   ]
  },
  {
   "cell_type": "code",
   "execution_count": 16,
   "id": "b11911c8-236f-4832-80f1-5571873993cc",
   "metadata": {},
   "outputs": [
    {
     "name": "stdout",
     "output_type": "stream",
     "text": [
      "root\n",
      " |-- arrest_boro: string (nullable = true)\n",
      " |-- arrest_date: string (nullable = true)\n",
      " |-- arrest_key: string (nullable = true)\n",
      " |-- latitude: double (nullable = true)\n",
      " |-- longitude: double (nullable = true)\n",
      "\n"
     ]
    }
   ],
   "source": [
    "# print arrest schema\n",
    "arrest_df.printSchema()"
   ]
  },
  {
   "cell_type": "code",
   "execution_count": 19,
   "id": "7019de02",
   "metadata": {},
   "outputs": [],
   "source": [
    "# perform inner join st_df and arrest_df\n",
    "sa_df = st_df.join(arrest_df, withinMileUdf(F.col('lat'), F.col('long'), F.col('latitude'), F.col('longitude')), 'inner')\\\n",
    "    .drop(F.col('latitude'))\\\n",
    "    .drop(F.col('longitude'))\\\n",
    "    .na.drop(subset=[\"stop_name\"])\\\n",
    "    .groupBy([F.col('id'),\\\n",
    "              F.col('line'),\\\n",
    "              F.col('stop_name'),\\\n",
    "              F.col('borough'),\\\n",
    "              F.col('lat'),\\\n",
    "              F.col('long'),\\\n",
    "              F.col('n_label'),\\\n",
    "              F.col('s_label'),\\\n",
    "              F.col('entries'),\\\n",
    "              F.col('exits')])\\\n",
    "    .count()\\\n",
    "    .withColumn('arrests', F.col('count'))\\\n",
    "    .drop(F.col('count'))\n",
    "\n",
    "# write sa_df to file\n",
    "sa_df.write.option('header', True).mode('overwrite').csv(os.path.join(intr_dir, 'sa_df.csv'))"
   ]
  },
  {
   "cell_type": "code",
   "execution_count": 22,
   "id": "9a84d368",
   "metadata": {},
   "outputs": [
    {
     "name": "stdout",
     "output_type": "stream",
     "text": [
      "+---+-------------------+--------------------+-------+---------+----------+--------------------+--------------------+-----------------+-----------------+-------+\n",
      "| id|               line|           stop_name|borough|      lat|      long|             n_label|             s_label|          entries|            exits|arrests|\n",
      "+---+-------------------+--------------------+-------+---------+----------+--------------------+--------------------+-----------------+-----------------+-------+\n",
      "|R11|            Astoria|  Lexington Av/59 St|      M| 40.76266|-73.967258|              Queens| Downtown & Brooklyn|4.521532580046E12|3.641397907941E12|   8669|\n",
      "|R30|Broadway - Brighton|           DeKalb Av|     Bk|40.690635|-73.981824|           Manhattan|Coney Island - Ba...|1.625048003534E12|1.334749653979E12|   4079|\n",
      "|R18|Broadway - Brighton|               28 St|      M|40.745494|-73.988691|     Uptown & Queens| Downtown & Brooklyn|1.385354956576E12|1.019986375028E12|   3182|\n",
      "|R23|           Broadway|            Canal St|      M|40.719527|-74.001775|     Uptown & Queens| Downtown & Brooklyn|3.034008171273E12|4.004890364733E12|  10813|\n",
      "| R9|            Astoria|    Queensboro Plaza|      Q|40.750582|-73.940202|  Astoria - Flushing|           Manhattan|  1.3344121878E10|  1.2211036335E10|   1937|\n",
      "|R31|             4th Av|Atlantic Av-Barcl...|     Bk|40.683666| -73.97881|           Manhattan|Coney Island - Ba...| 2.70006868345E11|  1.9525218181E11|   8107|\n",
      "|R25|           Broadway|        Cortlandt St|      M|40.710668|-74.011029|     Uptown & Queens| Downtown & Brooklyn| 2.05329757745E11| 1.85622741072E11|   9232|\n",
      "|R16|Broadway - Brighton|      Times Sq-42 St|      M|40.754672|-73.986754|     Uptown & Queens| Downtown & Brooklyn|  7.9053401996E10|  9.4031973197E10|   9537|\n",
      "| R4|            Astoria|               30 Av|      Q|40.766779|-73.921479|Astoria - Ditmars...|           Manhattan|  3.1864562633E10|  3.1061851564E10|    998|\n",
      "|R32|             4th Av|            Union St|     Bk|40.677316| -73.98311|           Manhattan|   Bay Ridge - 95 St|  9.3602037094E10|  1.0880862346E11|    852|\n",
      "|R41|             4th Av|               59 St|     Bk|40.641362|-74.017881|           Manhattan|Coney Island - Ba...| 2.32108548046E11|  9.8903419027E10|   2674|\n",
      "|R21|Broadway - Brighton|            8 St-NYU|      M|40.730328|-73.992629|     Uptown & Queens| Downtown & Brooklyn|1.067086537847E12| 8.97730531215E11|   2320|\n",
      "|R44|             4th Av|               86 St|     Bk|40.622687|-74.028398|           Manhattan|               95 St|5.043985138789E12|5.573901340127E12|   3696|\n",
      "|R17|Broadway - Brighton|     34 St-Herald Sq|      M|40.749567| -73.98795|     Uptown & Queens| Downtown & Brooklyn| 2.35305257363E11|   2.204867185E11|  37062|\n",
      "|R33|             4th Av|           4 Av-9 St|     Bk|40.670847|-73.988302|           Manhattan|   Bay Ridge - 95 St|3.697545906933E12|5.445914142777E12|   1167|\n",
      "|R24|           Broadway|           City Hall|      M|40.713282|-74.006978|     Uptown & Queens| Downtown & Brooklyn| 2.77143996739E11|  1.3558776869E11|   1273|\n",
      "|R27|           Broadway|Whitehall St-Sout...|      M|40.703087|-74.012994|     Uptown & Queens|            Brooklyn| 2.25434495098E11| 2.05860797334E11|   1777|\n",
      "|R45|             4th Av|     Bay Ridge-95 St|     Bk|40.616622|-74.030876|           Manhattan|                null| 1.45718172033E11|  1.1424377247E11|    718|\n",
      "|R13|            Astoria|          5 Av/59 St|      M|40.764811|-73.973347|              Queens| Downtown & Brooklyn|  9.9819375916E10| 1.70757933631E11|   2534|\n",
      "|R36|             4th Av|               36 St|     Bk|40.655144|-74.003549|           Manhattan|Coney Island - Ba...|    9.851525611E9|  1.4600105563E10|   1816|\n",
      "+---+-------------------+--------------------+-------+---------+----------+--------------------+--------------------+-----------------+-----------------+-------+\n",
      "only showing top 20 rows\n",
      "\n"
     ]
    }
   ],
   "source": [
    "# fetch saved sa_df and display top rows\n",
    "sa_df = spark.read.csv(os.path.join(intr_dir, 'sa_df.csv'), header=True, inferSchema=True)\n",
    "sa_df.show()"
   ]
  },
  {
   "cell_type": "markdown",
   "id": "1156034a",
   "metadata": {},
   "source": [
    "3. Combine Subway to Criminal"
   ]
  },
  {
   "cell_type": "code",
   "execution_count": 23,
   "id": "edb58d7f",
   "metadata": {},
   "outputs": [
    {
     "name": "stdout",
     "output_type": "stream",
     "text": [
      "root\n",
      " |-- cmplnt_num: string (nullable = true)\n",
      " |-- loc_of_occur_desc: string (nullable = true)\n",
      " |-- cmplnt_to_dt: string (nullable = true)\n",
      " |-- cmplnt_to_tm: string (nullable = true)\n",
      " |-- latitude: double (nullable = true)\n",
      " |-- longitude: double (nullable = true)\n",
      "\n"
     ]
    }
   ],
   "source": [
    "# print complaint schema\n",
    "complaint_df.printSchema()"
   ]
  },
  {
   "cell_type": "code",
   "execution_count": 24,
   "id": "46febcc2-58d4-4f0f-b0ae-0b11602f8218",
   "metadata": {},
   "outputs": [],
   "source": [
    "# join complaints to the sa_df\n",
    "sc_df = sa_df.join(complaint_df, withinMileUdf(F.col('lat'), F.col('long'), F.col('latitude'), F.col('longitude')), 'inner')\\\n",
    "    .drop(F.col('latitude'))\\\n",
    "    .drop(F.col('longitude'))\\\n",
    "    .na.drop(subset=[\"stop_name\"])\\\n",
    "    .groupBy([F.col('id'),\\\n",
    "              F.col('line'),\\\n",
    "              F.col('stop_name'),\\\n",
    "              F.col('borough'),\\\n",
    "              F.col('lat'),\\\n",
    "              F.col('long'),\\\n",
    "              F.col('n_label'),\\\n",
    "              F.col('s_label'),\\\n",
    "              F.col('entries'),\\\n",
    "              F.col('exits'),\\\n",
    "              F.col('arrests')])\\\n",
    "    .count()\\\n",
    "    .withColumn('complaints', F.col('count'))\\\n",
    "    .drop(F.col('count'))\n",
    "\n",
    "# write sa_df to file\n",
    "sc_df.write.option('header', True).mode('overwrite').csv(os.path.join(intr_dir, 'sc_df.csv'))"
   ]
  },
  {
   "cell_type": "code",
   "execution_count": 26,
   "id": "d6c7f13d",
   "metadata": {},
   "outputs": [
    {
     "name": "stdout",
     "output_type": "stream",
     "text": [
      "+---+-------------------+--------------------+-------+---------+----------+--------------------+--------------------+-----------------+-----------------+-------+----------+\n",
      "| id|               line|           stop_name|borough|      lat|      long|             n_label|             s_label|          entries|            exits|arrests|complaints|\n",
      "+---+-------------------+--------------------+-------+---------+----------+--------------------+--------------------+-----------------+-----------------+-------+----------+\n",
      "|R31|             4th Av|Atlantic Av-Barcl...|     Bk|40.683666| -73.97881|           Manhattan|Coney Island - Ba...| 2.70006868345E11|  1.9525218181E11|   8107|      9760|\n",
      "|R36|             4th Av|               36 St|     Bk|40.655144|-74.003549|           Manhattan|Coney Island - Ba...|    9.851525611E9|  1.4600105563E10|   1816|      1848|\n",
      "|R14|Broadway - Brighton|          57 St-7 Av|      M|40.764664|-73.980658|     Uptown & Queens| Downtown & Brooklyn| 3.96133333974E12| 7.12490061939E11|   1713|      3204|\n",
      "| R3|            Astoria|        Astoria Blvd|      Q|40.770258|-73.917843|        Ditmars Blvd|           Manhattan|  1.0233724436E10|    6.300884972E9|   1994|      1599|\n",
      "|R41|             4th Av|               59 St|     Bk|40.641362|-74.017881|           Manhattan|Coney Island - Ba...| 2.32108548046E11|  9.8903419027E10|   2674|      3121|\n",
      "| R4|            Astoria|               30 Av|      Q|40.766779|-73.921479|Astoria - Ditmars...|           Manhattan|  3.1864562633E10|  3.1061851564E10|    998|      2071|\n",
      "|R45|             4th Av|     Bay Ridge-95 St|     Bk|40.616622|-74.030876|           Manhattan|                null| 1.45718172033E11|  1.1424377247E11|    718|      1908|\n",
      "|R20|Broadway - Brighton|      14 St-Union Sq|      M|40.735736|-73.990568|     Uptown & Queens| Downtown & Brooklyn| 3.52359562127E11| 3.20595332347E11|  13511|     16160|\n",
      "|R30|Broadway - Brighton|           DeKalb Av|     Bk|40.690635|-73.981824|           Manhattan|Coney Island - Ba...|1.625048003534E12|1.334749653979E12|   4079|      5531|\n",
      "|R43|             4th Av|               77 St|     Bk|40.629742| -74.02551|           Manhattan|               95 St| 7.74701516828E11| 1.27076914353E11|    408|      1068|\n",
      "|R24|           Broadway|           City Hall|      M|40.713282|-74.006978|     Uptown & Queens| Downtown & Brooklyn| 2.77143996739E11|  1.3558776869E11|   1273|      3376|\n",
      "|R39|             4th Av|               45 St|     Bk|40.648939|-74.010006|           Manhattan|   Bay Ridge - 95 St|  1.0134315912E10|    1.548481925E9|   1275|      1616|\n",
      "|R32|             4th Av|            Union St|     Bk|40.677316| -73.98311|           Manhattan|   Bay Ridge - 95 St|  9.3602037094E10|  1.0880862346E11|    852|      1743|\n",
      "|R29|           Broadway|    Jay St-MetroTech|     Bk| 40.69218|-73.985942|           Manhattan|   Bay Ridge - 95 St| 6.20282148955E11| 4.43236158889E11|  11060|     10679|\n",
      "|R34|             4th Av|         Prospect Av|     Bk|40.665414|-73.992872|           Manhattan|   Bay Ridge - 95 St|  2.4105470401E10|   2.758248849E10|    696|      1210|\n",
      "|R40|             4th Av|               53 St|     Bk|40.645069|-74.014034|           Manhattan|   Bay Ridge - 95 St| 1.18343499418E11|  1.3138969255E10|   1908|      2491|\n",
      "|R35|             4th Av|               25 St|     Bk|40.660397|-73.998091|           Manhattan|   Bay Ridge - 95 St| 2.19807652617E11| 1.02054874542E11|   1001|      1298|\n",
      "|R16|Broadway - Brighton|      Times Sq-42 St|      M|40.754672|-73.986754|     Uptown & Queens| Downtown & Brooklyn|  7.9053401996E10|  9.4031973197E10|   9537|      7385|\n",
      "|R33|             4th Av|           4 Av-9 St|     Bk|40.670847|-73.988302|           Manhattan|   Bay Ridge - 95 St|3.697545906933E12|5.445914142777E12|   1167|      1766|\n",
      "|R42|             4th Av|        Bay Ridge Av|     Bk|40.634967|-74.023377|           Manhattan|               95 St|  8.1491060282E11|1.378612427778E12|   1142|      2492|\n",
      "+---+-------------------+--------------------+-------+---------+----------+--------------------+--------------------+-----------------+-----------------+-------+----------+\n",
      "only showing top 20 rows\n",
      "\n"
     ]
    }
   ],
   "source": [
    "# fetch saved sa_df and display top rows\n",
    "sc_df = spark.read.csv(os.path.join(intr_dir, 'sc_df.csv'), header=True, inferSchema=True)\n",
    "sc_df.show()"
   ]
  },
  {
   "cell_type": "markdown",
   "id": "ca3a1294",
   "metadata": {},
   "source": [
    "4. Combine Subway to Summons"
   ]
  },
  {
   "cell_type": "code",
   "execution_count": 30,
   "id": "f66a80a2",
   "metadata": {},
   "outputs": [
    {
     "name": "stdout",
     "output_type": "stream",
     "text": [
      "root\n",
      " |-- jurisdiction_code: string (nullable = true)\n",
      " |-- law_description: string (nullable = true)\n",
      " |-- offense_description: string (nullable = true)\n",
      " |-- precinct_of_occur: string (nullable = true)\n",
      " |-- latitude: double (nullable = true)\n",
      " |-- longitude: double (nullable = true)\n",
      "\n"
     ]
    }
   ],
   "source": [
    "summons_df.printSchema()"
   ]
  },
  {
   "cell_type": "code",
   "execution_count": 36,
   "id": "a54c93f8",
   "metadata": {},
   "outputs": [],
   "source": [
    "# join summons to the sc_df\n",
    "ss_df = sc_df.join(summons_df, withinMileUdf(F.col('lat'), F.col('long'), F.col('latitude'), F.col('longitude')), 'inner')\\\n",
    "    .drop(F.col('latitude'))\\\n",
    "    .drop(F.col('longitude'))\\\n",
    "    .na.drop(subset=[\"stop_name\"])\\\n",
    "    .groupBy([F.col('id'),\\\n",
    "              F.col('line'),\\\n",
    "              F.col('stop_name'),\\\n",
    "              F.col('borough'),\\\n",
    "              F.col('lat'),\\\n",
    "              F.col('long'),\\\n",
    "              F.col('n_label'),\\\n",
    "              F.col('s_label'),\\\n",
    "              F.col('entries'),\\\n",
    "              F.col('exits'),\\\n",
    "              F.col('arrests'),\\\n",
    "              F.col('complaints')])\\\n",
    "    .count()\\\n",
    "    .withColumn('summons', F.col('count'))\\\n",
    "    .drop(F.col('count'))\n",
    "\n",
    "# write sa_df to file\n",
    "ss_df.write.option('header', True).mode('overwrite').csv(os.path.join(intr_dir, 'ss_df.csv'))"
   ]
  },
  {
   "cell_type": "code",
   "execution_count": 37,
   "id": "ca46ecea-ee46-4122-bc75-5cbbc7eef8c4",
   "metadata": {},
   "outputs": [
    {
     "name": "stdout",
     "output_type": "stream",
     "text": [
      "+---+-------------------+--------------------+-------+---------+----------+--------------------+--------------------+-----------------+-----------------+-------+----------+-------+\n",
      "| id|               line|           stop_name|borough|      lat|      long|             n_label|             s_label|          entries|            exits|arrests|complaints|summons|\n",
      "+---+-------------------+--------------------+-------+---------+----------+--------------------+--------------------+-----------------+-----------------+-------+----------+-------+\n",
      "|R44|             4th Av|               86 St|     Bk|40.622687|-74.028398|           Manhattan|               95 St|5.043985138789E12|5.573901340127E12|   3696|      5504|    978|\n",
      "|R42|             4th Av|        Bay Ridge Av|     Bk|40.634967|-74.023377|           Manhattan|               95 St|  8.1491060282E11|1.378612427778E12|   1142|      2492|    484|\n",
      "|R45|             4th Av|     Bay Ridge-95 St|     Bk|40.616622|-74.030876|           Manhattan|                null| 1.45718172033E11|  1.1424377247E11|    718|      1908|    380|\n",
      "|R13|            Astoria|          5 Av/59 St|      M|40.764811|-73.973347|              Queens| Downtown & Brooklyn|  9.9819375916E10| 1.70757933631E11|   2534|      3769|   1821|\n",
      "|R14|Broadway - Brighton|          57 St-7 Av|      M|40.764664|-73.980658|     Uptown & Queens| Downtown & Brooklyn| 3.96133333974E12| 7.12490061939E11|   1713|      3204|    867|\n",
      "|R27|           Broadway|Whitehall St-Sout...|      M|40.703087|-74.012994|     Uptown & Queens|            Brooklyn| 2.25434495098E11| 2.05860797334E11|   1777|      2514|    697|\n",
      "| R8|            Astoria|   39 Av-Dutch Kills|      Q|40.752882|-73.932755|Astoria - Ditmars...|           Manhattan|  2.7676840763E10|  2.6753306073E10|    378|       977|    512|\n",
      "|R17|Broadway - Brighton|     34 St-Herald Sq|      M|40.749567| -73.98795|     Uptown & Queens| Downtown & Brooklyn| 2.35305257363E11|   2.204867185E11|  37062|     39705|   4483|\n",
      "|R28|           Broadway|            Court St|     Bk|  40.6941|-73.991777|           Manhattan|   Bay Ridge - 95 St|4.988522423362E12|2.784563621555E12|    634|      3013|    202|\n",
      "|R20|Broadway - Brighton|      14 St-Union Sq|      M|40.735736|-73.990568|     Uptown & Queens| Downtown & Brooklyn| 3.52359562127E11| 3.20595332347E11|  13511|     16160|   7454|\n",
      "| R9|            Astoria|    Queensboro Plaza|      Q|40.750582|-73.940202|  Astoria - Flushing|           Manhattan|  1.3344121878E10|  1.2211036335E10|   1937|      2130|   1220|\n",
      "|R36|             4th Av|               36 St|     Bk|40.655144|-74.003549|           Manhattan|Coney Island - Ba...|    9.851525611E9|  1.4600105563E10|   1816|      1848|   1701|\n",
      "|R29|           Broadway|    Jay St-MetroTech|     Bk| 40.69218|-73.985942|           Manhattan|   Bay Ridge - 95 St| 6.20282148955E11| 4.43236158889E11|  11060|     10679|   2118|\n",
      "| R3|            Astoria|        Astoria Blvd|      Q|40.770258|-73.917843|        Ditmars Blvd|           Manhattan|  1.0233724436E10|    6.300884972E9|   1994|      1599|   1000|\n",
      "|R35|             4th Av|               25 St|     Bk|40.660397|-73.998091|           Manhattan|   Bay Ridge - 95 St| 2.19807652617E11| 1.02054874542E11|   1001|      1298|    442|\n",
      "| R4|            Astoria|               30 Av|      Q|40.766779|-73.921479|Astoria - Ditmars...|           Manhattan|  3.1864562633E10|  3.1061851564E10|    998|      2071|   1077|\n",
      "|R32|             4th Av|            Union St|     Bk|40.677316| -73.98311|           Manhattan|   Bay Ridge - 95 St|  9.3602037094E10|  1.0880862346E11|    852|      1743|    550|\n",
      "|R30|Broadway - Brighton|           DeKalb Av|     Bk|40.690635|-73.981824|           Manhattan|Coney Island - Ba...|1.625048003534E12|1.334749653979E12|   4079|      5531|   1556|\n",
      "|R33|             4th Av|           4 Av-9 St|     Bk|40.670847|-73.988302|           Manhattan|   Bay Ridge - 95 St|3.697545906933E12|5.445914142777E12|   1167|      1766|    675|\n",
      "|R11|            Astoria|  Lexington Av/59 St|      M| 40.76266|-73.967258|              Queens| Downtown & Brooklyn|4.521532580046E12|3.641397907941E12|   8669|      9719|   1692|\n",
      "+---+-------------------+--------------------+-------+---------+----------+--------------------+--------------------+-----------------+-----------------+-------+----------+-------+\n",
      "only showing top 20 rows\n",
      "\n"
     ]
    }
   ],
   "source": [
    "# fetch saved ss_df and display top rows\n",
    "ss_df = spark.read.csv(os.path.join(intr_dir, 'ss_df.csv'), header=True, inferSchema=True)\n",
    "ss_df.show()"
   ]
  },
  {
   "cell_type": "markdown",
   "id": "92e50f3e",
   "metadata": {},
   "source": [
    "### Conclusion"
   ]
  },
  {
   "cell_type": "code",
   "execution_count": null,
   "id": "039e50b2-3d03-4c23-b768-0ea2fc114a7c",
   "metadata": {},
   "outputs": [],
   "source": []
  }
 ],
 "metadata": {
  "kernelspec": {
   "display_name": "Python 3 (ipykernel)",
   "language": "python",
   "name": "python3"
  },
  "language_info": {
   "codemirror_mode": {
    "name": "ipython",
    "version": 3
   },
   "file_extension": ".py",
   "mimetype": "text/x-python",
   "name": "python",
   "nbconvert_exporter": "python",
   "pygments_lexer": "ipython3",
   "version": "3.8.16"
  }
 },
 "nbformat": 4,
 "nbformat_minor": 5
}
