{
 "cells": [
  {
   "cell_type": "code",
   "execution_count": 1,
   "id": "5be5532d-f960-4781-9bcd-46e9fc649520",
   "metadata": {},
   "outputs": [],
   "source": [
    "# pip\n",
    "# !pip install tqdm\n",
    "# !pip install dask"
   ]
  },
  {
   "cell_type": "code",
   "execution_count": 2,
   "id": "1161ce3c-f44d-4315-a465-e24bb275488f",
   "metadata": {},
   "outputs": [],
   "source": [
    "# conda\n",
    "# !conda install tqdm\n",
    "# !conda install dask"
   ]
  },
  {
   "attachments": {},
   "cell_type": "markdown",
   "id": "c960ad5b",
   "metadata": {},
   "source": [
    "### Importing necessary libraries"
   ]
  },
  {
   "cell_type": "code",
   "execution_count": 91,
   "id": "20c7e655-046c-4da4-a507-d6c82a395dfe",
   "metadata": {},
   "outputs": [],
   "source": [
    "# configuration, worked on using python@3.10.9 \n",
    "import os\n",
    "import urllib\n",
    "import json\n",
    "from threading import Thread, Lock\n",
    "from tqdm import tqdm\n",
    "from pyspark.sql import SparkSession\n",
    "import pyspark.sql.functions as F\n",
    "import findspark"
   ]
  },
  {
   "attachments": {},
   "cell_type": "markdown",
   "id": "af63a460",
   "metadata": {},
   "source": [
    "### Dataset links and filename"
   ]
  },
  {
   "cell_type": "code",
   "execution_count": 92,
   "id": "78fd043a-320a-4e86-86a8-df4b0b177f7a",
   "metadata": {},
   "outputs": [],
   "source": [
    "# data folder\n",
    "data_dir = 'data'\n",
    "\n",
    "# data urls\n",
    "historic_arrest_loc = { 'url': 'https://data.cityofnewyork.us/resource/8h9b-rp9u.json?$limit=15000000', 'filename': 'arrest.json' }\n",
    "historic_complaint_loc = { 'url': 'https://data.cityofnewyork.us/resource/qgea-i56i.json?$limit=15000000', 'filename': 'complaint.json' }\n",
    "historic_court_summons_loc = { 'url': 'https://data.cityofnewyork.us/resource/sv2w-rv3k.json?$limit=15000000', 'filename': 'summons.json' }\n",
    "traffic_speed_loc = { 'url': 'https://data.cityofnewyork.us/resource/i4gi-tjb9.json?$limit=15000000', 'filename': 'speed.json' }\n",
    "turnstile_loc = { 'url': 'https://data.ny.gov/resource/i55r-43gk.json?$limit=15000000', 'filename': 'turnstile.json' }\n",
    "subway_loc = { 'url': 'http://web.mta.info/developers/data/nyct/subway/Stations.csv?$limit=10000', 'filename': 'subway.csv' }"
   ]
  },
  {
   "attachments": {},
   "cell_type": "markdown",
   "id": "a0596959",
   "metadata": {},
   "source": [
    "### Dataset: Downloading handler"
   ]
  },
  {
   "cell_type": "code",
   "execution_count": 93,
   "id": "296b368d-abad-457e-9273-a4d58bb0164c",
   "metadata": {},
   "outputs": [],
   "source": [
    "# download flags\n",
    "downloadflag = True\n",
    "redownload = False\n",
    "\n",
    "thread_lock = Lock()\n",
    "\n",
    "# download utils\n",
    "def download_dataset_thread(loc, folder):\n",
    "    with thread_lock:\n",
    "        if ((not os.path.exists(os.path.join(folder, loc['filename']))) or redownload) and downloadflag:\n",
    "            if os.path.isfile(os.path.join(folder, loc['filename'])):\n",
    "                os.remove(os.path.join(folder, loc['filename']))\n",
    "            if not os.path.exists(folder):\n",
    "                os.makedirs(folder) \n",
    "            with tqdm(unit=\"B\", unit_scale=True, desc=loc['filename'], miniters=1) as progress_bar:\n",
    "                urllib.request.urlretrieve(loc['url'], os.path.join(folder, loc['filename']), lambda block_num, block_size, total_size: progress_bar.update(block_size))\n",
    "            progress_bar.display()\n",
    "        \n",
    "def download_dataset(loc, folder):\n",
    "    thread = Thread(target=download_dataset_thread, args=(loc, folder))\n",
    "    thread.start()\n",
    "    thread.join()\n",
    "        "
   ]
  },
  {
   "attachments": {},
   "cell_type": "markdown",
   "id": "49ab5e10",
   "metadata": {},
   "source": [
    "### Dataset: Downloading"
   ]
  },
  {
   "cell_type": "code",
   "execution_count": 94,
   "id": "3bf5d47c-e667-4356-a238-d10729cb744b",
   "metadata": {},
   "outputs": [],
   "source": [
    "# download datasets\n",
    "for dataset in [historic_arrest_loc,\n",
    "                historic_complaint_loc,\n",
    "                historic_court_summons_loc,\n",
    "                turnstile_loc,\n",
    "                subway_loc]:\n",
    "    download_dataset(dataset, data_dir)"
   ]
  },
  {
   "attachments": {},
   "cell_type": "markdown",
   "id": "ffeb78f4",
   "metadata": {},
   "source": [
    "### Providing Apache Spark backend"
   ]
  },
  {
   "cell_type": "code",
   "execution_count": 95,
   "id": "dfcf9e5b",
   "metadata": {},
   "outputs": [
    {
     "data": {
      "text/plain": [
       "'/opt/homebrew/Cellar/apache-spark/3.4.0/libexec'"
      ]
     },
     "execution_count": 95,
     "metadata": {},
     "output_type": "execute_result"
    }
   ],
   "source": [
    "findspark.init('/opt/homebrew/Cellar/apache-spark/3.4.0/libexec')\n",
    "findspark.find()"
   ]
  },
  {
   "attachments": {},
   "cell_type": "markdown",
   "id": "27077460",
   "metadata": {},
   "source": [
    "### Creating spark session using SparkSession builder"
   ]
  },
  {
   "cell_type": "code",
   "execution_count": 96,
   "id": "68e4059e",
   "metadata": {},
   "outputs": [
    {
     "data": {
      "text/html": [
       "\n",
       "            <div>\n",
       "                <p><b>SparkSession - in-memory</b></p>\n",
       "                \n",
       "        <div>\n",
       "            <p><b>SparkContext</b></p>\n",
       "\n",
       "            <p><a href=\"http://devarshs-mbp.fios-router.home:4040\">Spark UI</a></p>\n",
       "\n",
       "            <dl>\n",
       "              <dt>Version</dt>\n",
       "                <dd><code>v3.4.0</code></dd>\n",
       "              <dt>Master</dt>\n",
       "                <dd><code>local[5]</code></dd>\n",
       "              <dt>AppName</dt>\n",
       "                <dd><code>main</code></dd>\n",
       "            </dl>\n",
       "        </div>\n",
       "        \n",
       "            </div>\n",
       "        "
      ],
      "text/plain": [
       "<pyspark.sql.session.SparkSession at 0x120974760>"
      ]
     },
     "execution_count": 96,
     "metadata": {},
     "output_type": "execute_result"
    }
   ],
   "source": [
    "# spark session initialization\n",
    "spark = SparkSession.builder\\\n",
    "    .master(\"local[5]\")\\\n",
    "        .appName(\"main\")\\\n",
    "            .config(\"spark.sql.debug.maxToStringFields\", 50)\\\n",
    "                .config(\"spark.driver.memory\", '8g')\\\n",
    "                    .getOrCreate()\n",
    "                    \n",
    "spark"
   ]
  },
  {
   "attachments": {},
   "cell_type": "markdown",
   "id": "10296165",
   "metadata": {},
   "source": [
    "### Initializing spark dataframes"
   ]
  },
  {
   "cell_type": "code",
   "execution_count": 97,
   "id": "a03187c4-9ff0-4728-8926-3bcdda56315c",
   "metadata": {},
   "outputs": [
    {
     "name": "stderr",
     "output_type": "stream",
     "text": [
      "                                                                                \r"
     ]
    }
   ],
   "source": [
    "# dataframes\n",
    "arrest_rdd = spark.read.json(os.path.join(data_dir, historic_arrest_loc['filename']), multiLine=True)\n",
    "complaint_rdd = spark.read.json(os.path.join(data_dir, historic_complaint_loc['filename']), multiLine=True)\n",
    "summons_rdd = spark.read.json(os.path.join(data_dir, historic_court_summons_loc['filename']), multiLine=True)\n",
    "turnstile_rdd = spark.read.json(os.path.join(data_dir, turnstile_loc['filename']), multiLine=True)\n",
    "subway_rdd = spark.read.csv(os.path.join(data_dir, subway_loc['filename']), header=True, inferSchema=True)"
   ]
  },
  {
   "attachments": {},
   "cell_type": "markdown",
   "id": "ad5133ca",
   "metadata": {},
   "source": [
    "### Dataset: Analysis"
   ]
  },
  {
   "cell_type": "code",
   "execution_count": 98,
   "id": "2bbc5b39",
   "metadata": {},
   "outputs": [
    {
     "name": "stdout",
     "output_type": "stream",
     "text": [
      "+----------+----------+------------+--------+-------------------+--------------------+-------+--------------+---------+-------------+--------------+---------------------+---------------------+---+-------------------+------+------+-----------------+-----------------+\n",
      "|Station ID|Complex ID|GTFS Stop ID|Division|               Line|           Stop Name|Borough|Daytime Routes|Structure|GTFS Latitude|GTFS Longitude|North Direction Label|South Direction Label|ADA|ADA Direction Notes|ADA NB|ADA SB|Capital Outage NB|Capital Outage SB|\n",
      "+----------+----------+------------+--------+-------------------+--------------------+-------+--------------+---------+-------------+--------------+---------------------+---------------------+---+-------------------+------+------+-----------------+-----------------+\n",
      "|         1|         1|         R01|     BMT|            Astoria|Astoria-Ditmars Blvd|      Q|           N W| Elevated|    40.775036|    -73.912034|                 null|            Manhattan|  0|               null|  null|  null|             null|             null|\n",
      "|         2|         2|         R03|     BMT|            Astoria|        Astoria Blvd|      Q|           N W| Elevated|    40.770258|    -73.917843|         Ditmars Blvd|            Manhattan|  1|               null|  null|  null|             null|             null|\n",
      "|         3|         3|         R04|     BMT|            Astoria|               30 Av|      Q|           N W| Elevated|    40.766779|    -73.921479| Astoria - Ditmars...|            Manhattan|  0|               null|  null|  null|             null|             null|\n",
      "|         4|         4|         R05|     BMT|            Astoria|            Broadway|      Q|           N W| Elevated|     40.76182|    -73.925508| Astoria - Ditmars...|            Manhattan|  0|               null|  null|  null|             null|             null|\n",
      "|         5|         5|         R06|     BMT|            Astoria|               36 Av|      Q|           N W| Elevated|    40.756804|    -73.929575| Astoria - Ditmars...|            Manhattan|  0|               null|  null|  null|             null|             null|\n",
      "|         6|         6|         R08|     BMT|            Astoria|   39 Av-Dutch Kills|      Q|           N W| Elevated|    40.752882|    -73.932755| Astoria - Ditmars...|            Manhattan|  0|               null|  null|  null|             null|             null|\n",
      "|         7|       613|         R11|     BMT|            Astoria|  Lexington Av/59 St|      M|         N W R|   Subway|     40.76266|    -73.967258|               Queens|  Downtown & Brooklyn|  0|               null|  null|  null|             null|             null|\n",
      "|         8|         8|         R13|     BMT|            Astoria|          5 Av/59 St|      M|         N W R|   Subway|    40.764811|    -73.973347|               Queens|  Downtown & Brooklyn|  0|               null|  null|  null|             null|             null|\n",
      "|         9|         9|         R14|     BMT|Broadway - Brighton|          57 St-7 Av|      M|       N Q R W|   Subway|    40.764664|    -73.980658|      Uptown & Queens|  Downtown & Brooklyn|  1|               null|  null|  null|             null|             null|\n",
      "|        10|        10|         R15|     BMT|Broadway - Brighton|               49 St|      M|         N R W|   Subway|    40.759901|    -73.984139|      Uptown & Queens|  Downtown & Brooklyn|  2|    Uptown & Queens|     1|     0|             null|             null|\n",
      "|        11|       611|         R16|     BMT|Broadway - Brighton|      Times Sq-42 St|      M|       N Q R W|   Subway|    40.754672|    -73.986754|      Uptown & Queens|  Downtown & Brooklyn|  1|               null|  null|  null|             null|             null|\n",
      "|        12|       607|         R17|     BMT|Broadway - Brighton|     34 St-Herald Sq|      M|       N Q R W|   Subway|    40.749567|     -73.98795|      Uptown & Queens|  Downtown & Brooklyn|  1|               null|  null|  null|             null|             null|\n",
      "|        13|        13|         R18|     BMT|Broadway - Brighton|               28 St|      M|           R W|   Subway|    40.745494|    -73.988691|      Uptown & Queens|  Downtown & Brooklyn|  0|               null|  null|  null|             null|             null|\n",
      "|        14|        14|         R19|     BMT|Broadway - Brighton|               23 St|      M|           R W|   Subway|    40.741303|    -73.989344|      Uptown & Queens|  Downtown & Brooklyn|  0|               null|  null|  null|             null|             null|\n",
      "|        15|       602|         R20|     BMT|Broadway - Brighton|      14 St-Union Sq|      M|       N Q R W|   Subway|    40.735736|    -73.990568|      Uptown & Queens|  Downtown & Brooklyn|  1|               null|  null|  null|             null|             null|\n",
      "|        16|        16|         R21|     BMT|Broadway - Brighton|            8 St-NYU|      M|           R W|   Subway|    40.730328|    -73.992629|      Uptown & Queens|  Downtown & Brooklyn|  0|               null|  null|  null|             null|             null|\n",
      "|        17|        17|         R22|     BMT|Broadway - Brighton|           Prince St|      M|           R W|   Subway|    40.724329|    -73.997702|      Uptown & Queens|  Downtown & Brooklyn|  0|               null|  null|  null|             null|             null|\n",
      "|        18|       623|         R23|     BMT|           Broadway|            Canal St|      M|           R W|   Subway|    40.719527|    -74.001775|      Uptown & Queens|  Downtown & Brooklyn|  0|               null|  null|  null|             null|             null|\n",
      "|        19|       623|         Q01|     BMT|   Manhattan Bridge|            Canal St|      M|           N Q|   Subway|    40.718383|     -74.00046|      Uptown & Queens|  Downtown & Brooklyn|  0|               null|  null|  null|             null|             null|\n",
      "|        20|        20|         R24|     BMT|           Broadway|           City Hall|      M|           R W|   Subway|    40.713282|    -74.006978|      Uptown & Queens|  Downtown & Brooklyn|  0|               null|  null|  null|             null|             null|\n",
      "+----------+----------+------------+--------+-------------------+--------------------+-------+--------------+---------+-------------+--------------+---------------------+---------------------+---+-------------------+------+------+-----------------+-----------------+\n",
      "only showing top 20 rows\n",
      "\n"
     ]
    }
   ],
   "source": [
    "subway_rdd.show()"
   ]
  },
  {
   "cell_type": "code",
   "execution_count": 111,
   "id": "154e3094",
   "metadata": {},
   "outputs": [
    {
     "name": "stderr",
     "output_type": "stream",
     "text": [
      "[Stage 198:>                                                        (0 + 1) / 1]\r"
     ]
    },
    {
     "name": "stdout",
     "output_type": "stream",
     "text": [
      "+----+--------------------+-------+--------+-------+-------+--------+--------+-------------+--------+----+\n",
      "| c_a|                date|   desc|division|entries|  exits|linename|     scp|      station|    time|unit|\n",
      "+----+--------------------+-------+--------+-------+-------+--------+--------+-------------+--------+----+\n",
      "|A002|2014-12-31T00:00:...|REGULAR|     BMT|4943320|1674736|  NQR456|02-00-00|LEXINGTON AVE|23:00:00|R051|\n",
      "|A002|2014-12-31T00:00:...|REGULAR|     BMT|4943145|1674709|  NQR456|02-00-00|LEXINGTON AVE|19:00:00|R051|\n",
      "|A002|2014-12-31T00:00:...|REGULAR|     BMT|4942439|1674636|  NQR456|02-00-00|LEXINGTON AVE|15:00:00|R051|\n",
      "|A002|2014-12-31T00:00:...|REGULAR|     BMT|4942012|1674547|  NQR456|02-00-00|LEXINGTON AVE|11:00:00|R051|\n",
      "|A002|2014-12-31T00:00:...|REGULAR|     BMT|4941987|1674518|  NQR456|02-00-00|LEXINGTON AVE|10:21:51|R051|\n",
      "|A002|2014-12-31T00:00:...|REGULAR|     BMT|4941910|1674322|  NQR456|02-00-00|LEXINGTON AVE|07:00:00|R051|\n",
      "|A002|2014-12-31T00:00:...|REGULAR|     BMT|4941892|1674290|  NQR456|02-00-00|LEXINGTON AVE|03:00:00|R051|\n",
      "|A002|2014-12-30T00:00:...|REGULAR|     BMT|4941835|1674276|  NQR456|02-00-00|LEXINGTON AVE|23:00:00|R051|\n",
      "|A002|2014-12-30T00:00:...|REGULAR|     BMT|4941463|1674253|  NQR456|02-00-00|LEXINGTON AVE|19:00:00|R051|\n",
      "|A002|2014-12-30T00:00:...|REGULAR|     BMT|4940620|1674155|  NQR456|02-00-00|LEXINGTON AVE|15:00:00|R051|\n",
      "|A002|2014-12-30T00:00:...|REGULAR|     BMT|4940338|1674085|  NQR456|02-00-00|LEXINGTON AVE|11:00:00|R051|\n",
      "|A002|2014-12-30T00:00:...|REGULAR|     BMT|4940232|1673810|  NQR456|02-00-00|LEXINGTON AVE|07:00:00|R051|\n",
      "|A002|2014-12-30T00:00:...|REGULAR|     BMT|4940218|1673776|  NQR456|02-00-00|LEXINGTON AVE|03:00:00|R051|\n",
      "|A002|2014-12-29T00:00:...|REGULAR|     BMT|4940171|1673769|  NQR456|02-00-00|LEXINGTON AVE|23:00:00|R051|\n",
      "|A002|2014-12-29T00:00:...|REGULAR|     BMT|4939811|1673737|  NQR456|02-00-00|LEXINGTON AVE|19:00:00|R051|\n",
      "|A002|2014-12-29T00:00:...|REGULAR|     BMT|4938984|1673630|  NQR456|02-00-00|LEXINGTON AVE|15:00:00|R051|\n",
      "|A002|2014-12-29T00:00:...|REGULAR|     BMT|4938701|1673541|  NQR456|02-00-00|LEXINGTON AVE|11:00:00|R051|\n",
      "|A002|2014-12-29T00:00:...|REGULAR|     BMT|4938574|1673262|  NQR456|02-00-00|LEXINGTON AVE|07:00:00|R051|\n",
      "|A002|2014-12-29T00:00:...|REGULAR|     BMT|4938566|1673233|  NQR456|02-00-00|LEXINGTON AVE|03:00:00|R051|\n",
      "|A002|2014-12-28T00:00:...|REGULAR|     BMT|4938544|1673223|  NQR456|02-00-00|LEXINGTON AVE|23:00:00|R051|\n",
      "+----+--------------------+-------+--------+-------+-------+--------+--------+-------------+--------+----+\n",
      "only showing top 20 rows\n",
      "\n"
     ]
    },
    {
     "name": "stderr",
     "output_type": "stream",
     "text": [
      "                                                                                \r"
     ]
    }
   ],
   "source": [
    "turnstile_rdd.show()"
   ]
  },
  {
   "cell_type": "code",
   "execution_count": 107,
   "id": "070e7fd4",
   "metadata": {},
   "outputs": [
    {
     "name": "stderr",
     "output_type": "stream",
     "text": [
      "                                                                                \r"
     ]
    }
   ],
   "source": [
    "t_list = turnstile_rdd.select(F.col('station')).distinct().toPandas().values.flatten()\n",
    "s_list = subway_rdd.select(F.col('Stop Name')).distinct().toPandas().values.flatten()"
   ]
  },
  {
   "cell_type": "code",
   "execution_count": 108,
   "id": "a34e3e6a",
   "metadata": {},
   "outputs": [
    {
     "data": {
      "text/plain": [
       "array(['1 AVE', '103 ST', '103 ST-CORONA', '104 ST', '110 ST',\n",
       "       '110 ST-CATHEDRL', '110 ST-CPN', '111 ST', '116 ST',\n",
       "       '116 ST-COLUMBIA', '121 ST', '125 ST', '135 ST', '137 ST-CITY COL',\n",
       "       '138 ST-3 AVE', '138 ST-GR CONC', '14 ST', '14 ST-6 AVE',\n",
       "       '14 ST-UNION SQ', '145 ST', '148 ST-LENOX', '149 ST-3 AVE',\n",
       "       '149 ST-GR CONC', '14TH STREET', '15 ST-PROSPECT', '155 ST',\n",
       "       '157 ST', '161 ST-YANKEE', '163 ST-AMSTERDM', '167 ST',\n",
       "       '168 ST-BROADWAY', '169 ST', '170 ST', '174 ST', '174-175 ST',\n",
       "       '175 ST', '176 ST', '18 AVE', '18 ST', '181 ST', '182-183 ST',\n",
       "       '183 ST', '190 ST', '191 ST', '2 AVE', '20 AVE', '207 ST', '21 ST',\n",
       "       '215 ST', '219 ST', '22 AVE-BAY PKY', '225 ST', '23 ST',\n",
       "       '23 ST-5 AVE', '23 ST-6 AVE', '231 ST', '233 ST', '238 ST',\n",
       "       '242 ST', '25 AVE', '25 ST', '28 ST', '28 ST-BROADWAY', '3 AVE',\n",
       "       '33 ST', '33 ST/RAWSON ST', '34 ST-HERALD SQ', '34 ST-PENN STA',\n",
       "       '36 ST', '4 AVE', '40 ST-LOWERY ST', '42 ST-BRYANT PK',\n",
       "       '42 ST-GRD CNTRL', '42 ST-PA BUS TE', '42 ST-TIMES SQ', '45 ST',\n",
       "       '46 ST', '46 ST-BLISS ST', '47-50 ST-ROCK', '49 ST-7 AVE',\n",
       "       '5 AVE-53 ST', '5 AVE-59 ST', '5 AVE-BRYANT PK', '50 ST', '51 ST',\n",
       "       '52 ST-LINCOLN', '53 ST', '55 ST', '57 ST', '57 ST-7 AVE', '59 ST',\n",
       "       '59 ST-COLUMBUS', '6 AVE', '61 ST/WOODSIDE', '63 DR-REGO PARK',\n",
       "       '65 ST', '66 ST-LINCOLN', '67 AVE', '68ST-HUNTER COL',\n",
       "       '69 ST-FISK AVE', '7 AV-PARK SLOPE', '7 AVE', '7 AVE-53 ST',\n",
       "       '71 ST', '72 ST', '74 ST-BROADWAY', '75 AVE', '77 ST', '79 ST',\n",
       "       '8 AVE', \"8 ST-B'WAY NYU\", '81 ST-MUSEUM', '82 ST-JACKSON H',\n",
       "       '86 ST', '9 AVE', '9 ST', '90 ST-ELMHURST', '96 ST', '9TH STREET',\n",
       "       'ALABAMA AVE', 'ALLERTON AVE', 'AQUEDUCT TRACK', 'AQUEDUCT-N CNDT',\n",
       "       'ASTOR PLACE', 'ATLANTIC AVE', 'AVE H', 'AVE I', 'AVE J', 'AVE M',\n",
       "       'AVE N', 'AVE P', 'AVE U', 'AVE X', 'BARCLAYS CENTER', 'BAY 50 ST',\n",
       "       'BAY PARKWAY', 'BAY PKY-22 AVE', 'BAY RIDGE AVE',\n",
       "       'BAY RIDGE-95 ST', 'BAYCHESTER AVE', 'BEACH 105 ST', 'BEACH 25 ST',\n",
       "       'BEACH 36 ST', 'BEACH 44 ST', 'BEACH 60 ST', 'BEACH 67 ST',\n",
       "       'BEACH 90 ST', 'BEACH 98 ST', 'BEDFORD AVE', 'BEDFORD PARK BL',\n",
       "       'BEDFORD/NOSTRAN', 'BEEBE-39 AVE', 'BERGEN ST', 'BEVERLEY ROAD',\n",
       "       'BEVERLY ROAD', 'BLEECKER ST', 'BOROUGH HALL/CT', 'BOTANIC GARDEN',\n",
       "       'BOWERY', 'BOWLING GREEN', 'BOYD-88 ST', 'BRIGHTON BEACH',\n",
       "       'BROAD CHANNEL', 'BROAD ST', 'BROADWAY', 'BROADWAY-31 ST',\n",
       "       'BROADWAY-ENY', 'BROADWAY/LAFAY', 'BRONX PARK EAST', 'BROOK AVE',\n",
       "       'BROOKLYN BRIDGE', 'BUHRE AVE', 'BURKE AVE', 'BURNSIDE AVE',\n",
       "       'BUSHWICK AVE', 'CANAL ST', 'CARROLL ST', 'CASTLE HILL AVE',\n",
       "       'CATHEDRL-110 ST', 'CENTRAL AVE', 'CHAMBERS ST', 'CHAUNCEY ST',\n",
       "       'CHRISTOPHER ST', 'CHURCH AVE', 'CITY / BUS', 'CITY HALL',\n",
       "       'CLARK ST', 'CLASSON AVE', 'CLEVELAND ST', 'CLINTON-WASH AV',\n",
       "       'CORTELYOU ROAD', 'CORTLANDT ST', 'COURT SQ', 'COURT SQ-23 ST',\n",
       "       'CRESCENT ST', 'CROWN HTS-UTICA', 'CYPRESS AVE', 'CYPRESS HILLS',\n",
       "       'DEKALB AVE', 'DELANCEY ST', 'DITMARS BL-31 S', 'DITMAS AVE',\n",
       "       'DYCKMAN ST', 'DYCKMAN-200 ST', 'DYRE AVE', 'E 143 ST', 'E 149 ST',\n",
       "       'E 177 ST-PARKCH', 'E 180 ST', 'E TREMONT AVE', 'EAST 105 ST',\n",
       "       'EAST BROADWAY', 'EASTERN PKWY', 'ELDER AVE', 'ELDERTS LANE',\n",
       "       'ELMHURST AVE', 'ELTINGVILLE PK', 'ESSEX ST', 'EUCLID AVE',\n",
       "       'EXCHANGE PLACE', 'FAR ROCKAWAY', 'FLATBUSH AVE', 'FLUSHING AVE',\n",
       "       'FORDHAM ROAD', 'FOREST AVE', 'FOREST HILLS-71', 'FOREST PARKWAY',\n",
       "       'FRANKLIN AVE', 'FRANKLIN ST', 'FREEMAN ST', 'FRESH POND ROAD',\n",
       "       'FT HAMILTON PKY', 'FULTON ST', 'GATES AVE', 'GRAHAM AVE',\n",
       "       'GRAND ARMY PLAZ', 'GRAND AV-NEWTON', 'GRAND ST', 'GRAND-30 AVE',\n",
       "       'GRANT AVE', 'GREENPOINT AVE', 'GREENWOOD-111', 'GROVE STREET',\n",
       "       'GUN HILL ROAD', 'HALSEY ST', 'HARRISON', 'HEWES ST', 'HIGH ST',\n",
       "       'HOUSTON ST', 'HOWARD BCH-JFK', 'HOYT ST', 'HOYT ST-ASTORIA',\n",
       "       'HOYT/SCHERMER', 'HUDSON-80 ST', 'HUNTERS PT AVE',\n",
       "       'HUNTS POINT AVE', 'INTERVALE-163', 'INWOOD-207 ST', 'JACKSON AVE',\n",
       "       'JAMAICA CENTER', 'JAMAICA-179 ST', 'JAMAICA-VAN WYC',\n",
       "       'JAY ST-METROTEC', 'JEFFERSON ST', 'JFK HOWARD BCH',\n",
       "       'JFK JAMAICA CT1', 'JFK JAMAICA CT2', 'JOURNAL SQUARE',\n",
       "       'JUNCTION BLVD', 'JUNIUS ST', 'KINGS HIGHWAY', 'KINGSBRIDGE RD',\n",
       "       'KINGSTON AVE', 'KINGSTON-THROOP', 'KNICKERBOCKER',\n",
       "       'KOSCIUSZKO ST', 'LACKAWANNA', 'LAFAYETTE AVE', 'LEFFERTS BLVD',\n",
       "       'LEXINGTON AVE', 'LEXINGTON-53 ST', 'LGA AIRPORT CTB',\n",
       "       'LGA TERMINAL C', 'LGA TERMINAL D', 'LIB-HEMPSTEAD', 'LIBERTY AVE',\n",
       "       'LIVONIA AVE', 'LONGWOOD AVE', 'LORIMER ST', 'MAIN ST',\n",
       "       'MARBLE HILL-225', 'MARCY AVE', 'METROPOLITAN AV',\n",
       "       'METS-WILLETS PT', 'MIDDLETOWN ROAD', 'MONTROSE AVE', 'MORGAN AVE',\n",
       "       'MORRIS PARK', 'MORRISON AVE', 'MOSHOLU PARKWAY', 'MT EDEN AVE',\n",
       "       'MYRTLE AVE', 'MYRTLE-WILLOUGH', 'NASSAU AV', 'NECK ROAD',\n",
       "       'NEPTUNE AVE', 'NEREID AVE', 'NEVINS ST', 'NEW LOTS AVE',\n",
       "       'NEW UTRECHT AVE', 'NEWARK BM BW', 'NEWARK C', 'NEWARK HM HE',\n",
       "       'NEWARK HW BMEBE', 'NEWKIRK AVE', 'NEWKIRK PLAZA', 'NORTHERN BLVD',\n",
       "       'NORWOOD AVE', 'NORWOOD-205 ST', 'NOSTRAND AVE', 'NYC & CO - 7 AV',\n",
       "       'OCEAN PARKWAY', 'ORCHARD BEACH', 'OXFORD-104 ST', 'PARK PLACE',\n",
       "       'PARKSIDE AVE', 'PARSONS BLVD', 'PATH NEW WTC', 'PATH WTC',\n",
       "       'PATH WTC 2', 'PAVONIA/NEWPORT', 'PELHAM BAY PARK',\n",
       "       'PELHAM PARKWAY', 'PENNSYLVANIA AV', 'PRESIDENT ST',\n",
       "       \"PRINCE ST-B'WAY\", 'PROSPECT AVE', 'PROSPECT PARK', 'QUEENS PLAZA',\n",
       "       'QUEENSBORO PLZ', 'RALPH AVE', 'RECTOR ST', 'RIT-MANHATTAN',\n",
       "       'RIT-ROOSEVELT', 'ROCKAWAY AVE', 'ROCKAWAY BLVD',\n",
       "       'ROCKAWAY PK 116', 'ROCKAWAY PKY', 'ROOSEVELT AVE', 'ROOSEVELT IS',\n",
       "       'SARATOGA AVE', 'SENECA AVE', 'SHEEPSHEAD BAY', 'SHEPHERD AVE',\n",
       "       'SIMPSON ST', 'SMITH-9 ST', 'SOUTH FERRY', 'SPRING ST',\n",
       "       'ST LAWRENCE AVE', 'ST. GEORGE', 'STEINWAY ST', 'STERLING ST',\n",
       "       'STILLWELL AVE', 'SUTPHIN BLVD', 'SUTTER AVE', 'THIRTY ST',\n",
       "       'THIRTY THIRD ST', 'TOMPKINSVILLE', 'TREMONT AVE',\n",
       "       'TWENTY THIRD ST', 'UNION ST', 'UNION TPK-KEW G', 'UTICA AVE',\n",
       "       'VAN ALSTON-21ST', 'VAN SICLEN AVE', 'VAN WYCK BLVD',\n",
       "       'VERNON/JACKSON', 'W 4 ST-WASH SQ', 'W 8 ST-AQUARIUM',\n",
       "       'WAKEFIELD-241', 'WALL ST', 'WASHINGTON-36 A', 'WESTCHESTER SQ',\n",
       "       'WHITEHALL ST', 'WHITLOCK AVE', 'WILSON AVE', 'WINTHROP ST',\n",
       "       'WOODHAVEN BLVD', 'WOODLAWN ROAD', 'WORLD TRADE CTR', 'YORK ST',\n",
       "       'ZEREGA AVE'], dtype=object)"
      ]
     },
     "execution_count": 108,
     "metadata": {},
     "output_type": "execute_result"
    }
   ],
   "source": [
    "t_list.sort()\n",
    "t_list"
   ]
  },
  {
   "cell_type": "code",
   "execution_count": 109,
   "id": "65fa07fa",
   "metadata": {},
   "outputs": [
    {
     "data": {
      "text/plain": [
       "array(['1 Av', '103 St', '103 St-Corona Plaza', '104 St', '110 St',\n",
       "       '111 St', '116 St', '116 St-Columbia University', '121 St',\n",
       "       '125 St', '135 St', '137 St-City College',\n",
       "       '138 St-Grand Concourse', '14 St', '14 St-Union Sq',\n",
       "       '14 St-Union Sq.', '145 St', '149 St-Grand Concourse',\n",
       "       '15 St-Prospect Park', '155 St', '157 St', '161 St-Yankee Stadium',\n",
       "       '163 St-Amsterdam Av', '167 St', '168 St', '168 St-Washington Hts',\n",
       "       '169 St', '170 St', '174 St', '174-175 Sts', '175 St', '176 St',\n",
       "       '18 Av', '18 St', '181 St', '182-183 Sts', '183 St', '190 St',\n",
       "       '191 St', '2 Av', '20 Av', '207 St', '21 St', '21 St-Queensbridge',\n",
       "       '215 St', '219 St', '225 St', '23 St', '231 St', '233 St',\n",
       "       '238 St', '25 Av', '25 St', '28 St', '3 Av', '3 Av-138 St',\n",
       "       '3 Av-149 St', '30 Av', '33 St', '33 St-Rawson St',\n",
       "       '34 St-Herald Sq', '34 St-Hudson Yards', '34 St-Penn Station',\n",
       "       '36 Av', '36 St', '39 Av-Dutch Kills', '4 Av-9 St',\n",
       "       '40 St-Lowery St', '42 St-Bryant Pk',\n",
       "       '42 St-Port Authority Bus Terminal', '45 St', '46 St',\n",
       "       '46 St-Bliss St', '47-50 Sts-Rockefeller Ctr', '49 St', '5 Av',\n",
       "       '5 Av/53 St', '5 Av/59 St', '50 St', '51 St', '52 St', '53 St',\n",
       "       '55 St', '57 St', '57 St-7 Av', '59 St', '59 St-Columbus Circle',\n",
       "       '6 Av', '62 St', '63 Dr-Rego Park', '65 St',\n",
       "       '66 St-Lincoln Center', '67 Av', '68 St-Hunter College', '69 St',\n",
       "       '7 Av', '71 St', '72 St', '74 St-Broadway', '75 Av',\n",
       "       '75 St-Elderts Ln', '77 St', '79 St', '8 Av', '8 St-NYU', '80 St',\n",
       "       '81 St-Museum of Natural History', '82 St-Jackson Hts',\n",
       "       '85 St-Forest Pkwy', '86 St', '88 St', '9 Av', '90 St-Elmhurst Av',\n",
       "       '96 St', 'Alabama Av', 'Allerton Av', 'Annadale',\n",
       "       'Aqueduct Racetrack', 'Aqueduct-N Conduit Av', 'Arthur Kill',\n",
       "       'Astor Pl', 'Astoria Blvd', 'Astoria-Ditmars Blvd', 'Atlantic Av',\n",
       "       'Atlantic Av-Barclays Ctr', 'Avenue H', 'Avenue I', 'Avenue J',\n",
       "       'Avenue M', 'Avenue N', 'Avenue P', 'Avenue U', 'Avenue X',\n",
       "       'Bay 50 St', 'Bay Pkwy', 'Bay Ridge Av', 'Bay Ridge-95 St',\n",
       "       'Bay Terrace', 'Baychester Av', 'Beach 105 St', 'Beach 25 St',\n",
       "       'Beach 36 St', 'Beach 44 St', 'Beach 60 St', 'Beach 67 St',\n",
       "       'Beach 90 St', 'Beach 98 St', 'Bedford Av', 'Bedford Park Blvd',\n",
       "       'Bedford Park Blvd-Lehman College', 'Bedford-Nostrand Avs',\n",
       "       'Bergen St', 'Beverley Rd', 'Beverly Rd', 'Bleecker St',\n",
       "       'Borough Hall', 'Botanic Garden', 'Bowery', 'Bowling Green',\n",
       "       'Briarwood', 'Brighton Beach', 'Broad Channel', 'Broad St',\n",
       "       'Broadway', 'Broadway Junction', 'Broadway-Lafayette St',\n",
       "       'Bronx Park East', 'Brook Av', 'Brooklyn Bridge-City Hall',\n",
       "       'Buhre Av', 'Burke Av', 'Burnside Av', 'Bushwick Av-Aberdeen St',\n",
       "       'Canal St', 'Canarsie-Rockaway Pkwy', 'Carroll St',\n",
       "       'Castle Hill Av', 'Cathedral Pkwy (110 St)', 'Central Av',\n",
       "       'Central Park North (110 St)', 'Chambers St', 'Chauncey St',\n",
       "       'Christopher St-Sheridan Sq', 'Church Av', 'City Hall', 'Clark St',\n",
       "       'Classon Av', 'Cleveland St', 'Clifton', 'Clinton-Washington Avs',\n",
       "       'Coney Island-Stillwell Av', 'Cortelyou Rd', 'Cortlandt St',\n",
       "       'Court Sq', 'Court Sq-23 St', 'Court St', 'Crescent St',\n",
       "       'Crown Hts-Utica Av', 'Cypress Av', 'Cypress Hills', 'DeKalb Av',\n",
       "       'Delancey St-Essex St', 'Ditmas Av', 'Dongan Hills', 'Dyckman St',\n",
       "       \"E 143 St-St Mary's St\", 'E 149 St', 'E 180 St', 'East 105 St',\n",
       "       'East Broadway', 'Eastchester-Dyre Av',\n",
       "       'Eastern Pkwy-Brooklyn Museum', 'Elder Av', 'Elmhurst Av',\n",
       "       'Eltingville', 'Euclid Av', 'Far Rockaway-Mott Av',\n",
       "       'Flatbush Av-Brooklyn College', 'Flushing Av', 'Flushing-Main St',\n",
       "       'Fordham Rd', 'Forest Av', 'Forest Hills-71 Av',\n",
       "       'Fort Hamilton Pkwy', 'Franklin Av',\n",
       "       'Franklin Avenue-Medgar Evers College', 'Franklin St',\n",
       "       'Freeman St', 'Fresh Pond Rd', 'Fulton St', 'Gates Av',\n",
       "       'Graham Av', 'Grand Army Plaza', 'Grand Av-Newtown',\n",
       "       'Grand Central-42 St', 'Grand St', 'Grant Av', 'Grant City',\n",
       "       'Grasmere', 'Great Kills', 'Greenpoint Av', 'Gun Hill Rd',\n",
       "       'Halsey St', 'Harlem-148 St', 'Hewes St', 'High St', 'Houston St',\n",
       "       'Howard Beach-JFK Airport', 'Hoyt St', 'Hoyt-Schermerhorn Sts',\n",
       "       'Huguenot', 'Hunters Point Av', 'Hunts Point Av', 'Intervale Av',\n",
       "       'Inwood-207 St', 'Jackson Av', 'Jackson Hts-Roosevelt Av',\n",
       "       'Jamaica Center-Parsons/Archer', 'Jamaica-179 St',\n",
       "       'Jamaica-Van Wyck', 'Jay St-MetroTech', 'Jefferson Av',\n",
       "       'Jefferson St', 'Junction Blvd', 'Junius St',\n",
       "       'Kew Gardens-Union Tpke', 'Kings Hwy', 'Kingsbridge Rd',\n",
       "       'Kingston Av', 'Kingston-Throop Avs', 'Knickerbocker Av',\n",
       "       'Kosciuszko St', 'Lafayette Av', 'Lexington Av/53 St',\n",
       "       'Lexington Av/59 St', 'Lexington Av/63 St', 'Liberty Av',\n",
       "       'Livonia Av', 'Longwood Av', 'Lorimer St', 'Marble Hill-225 St',\n",
       "       'Marcy Av', 'Metropolitan Av', 'Mets-Willets Point',\n",
       "       'Middle Village-Metropolitan Av', 'Middletown Rd', 'Montrose Av',\n",
       "       'Morgan Av', 'Morris Park', 'Morrison Av-Soundview',\n",
       "       'Mosholu Pkwy', 'Mt Eden Av', 'Myrtle Av', 'Myrtle-Willoughby Avs',\n",
       "       'Myrtle-Wyckoff Avs', 'Nassau Av', 'Neck Rd', 'Neptune Av',\n",
       "       'Nereid Av', 'Nevins St', 'New Dorp', 'New Lots Av',\n",
       "       'New Utrecht Av', 'Newkirk Av - Little Haiti', 'Newkirk Plaza',\n",
       "       'Northern Blvd', 'Norwood Av', 'Norwood-205 St', 'Nostrand Av',\n",
       "       'Oakwood Heights', 'Ocean Pkwy', 'Old Town',\n",
       "       'Ozone Park-Lefferts Blvd', 'Park Pl', 'Park Place', 'Parkchester',\n",
       "       'Parkside Av', 'Parsons Blvd', 'Pelham Bay Park', 'Pelham Pkwy',\n",
       "       'Pennsylvania Av', 'Pleasant Plains',\n",
       "       'President Street-Medgar Evers College', 'Prince St',\n",
       "       \"Prince's Bay\", 'Prospect Av', 'Prospect Park', 'Queens Plaza',\n",
       "       'Queensboro Plaza', 'Ralph Av', 'Rector St', 'Richmond Valley',\n",
       "       'Rockaway Av', 'Rockaway Blvd', 'Rockaway Park-Beach 116 St',\n",
       "       'Roosevelt Island', 'Saratoga Av', 'Seneca Av', 'Sheepshead Bay',\n",
       "       'Shepherd Av', 'Simpson St', 'Smith-9 Sts', 'South Ferry',\n",
       "       'Spring St', 'St George', 'St Lawrence Av', 'Stapleton',\n",
       "       'Steinway St', 'Sterling St', 'Sutphin Blvd',\n",
       "       'Sutphin Blvd-Archer Av-JFK Airport', 'Sutter Av',\n",
       "       'Sutter Av-Rutland Rd', 'Times Sq-42 St', 'Tompkinsville',\n",
       "       'Tottenville', 'Tremont Av', 'Union St', 'Utica Av',\n",
       "       'Van Cortlandt Park-242 St', 'Van Siclen Av',\n",
       "       'Vernon Blvd-Jackson Av', 'W 4 St-Wash Sq', 'W 8 St-NY Aquarium',\n",
       "       'WTC Cortlandt', 'Wakefield-241 St', 'Wall St',\n",
       "       'West Farms Sq-E Tremont Av', 'Westchester Sq-E Tremont Av',\n",
       "       'Whitehall St-South Ferry', 'Whitlock Av', 'Wilson Av',\n",
       "       'Winthrop St', 'Woodhaven Blvd', 'Woodlawn', 'Woodside-61 St',\n",
       "       'World Trade Center', 'York St', 'Zerega Av'], dtype=object)"
      ]
     },
     "execution_count": 109,
     "metadata": {},
     "output_type": "execute_result"
    }
   ],
   "source": [
    "s_list.sort()\n",
    "s_list"
   ]
  },
  {
   "cell_type": "code",
   "execution_count": 110,
   "id": "b4582ccf",
   "metadata": {},
   "outputs": [
    {
     "data": {
      "text/plain": [
       "[]"
      ]
     },
     "execution_count": 110,
     "metadata": {},
     "output_type": "execute_result"
    }
   ],
   "source": [
    "ts_intersect = [value for value in t_list if value in s_list]\n",
    "ts_intersect"
   ]
  },
  {
   "cell_type": "code",
   "execution_count": 105,
   "id": "e224d2d8",
   "metadata": {},
   "outputs": [
    {
     "name": "stderr",
     "output_type": "stream",
     "text": [
      "                                                                                \r"
     ]
    },
    {
     "data": {
      "text/plain": [
       "392"
      ]
     },
     "execution_count": 105,
     "metadata": {},
     "output_type": "execute_result"
    }
   ],
   "source": [
    "len(turnstile_rdd.select(F.col('station')).distinct().toPandas().values.flatten())"
   ]
  },
  {
   "cell_type": "code",
   "execution_count": 103,
   "id": "d2b9f658",
   "metadata": {},
   "outputs": [
    {
     "data": {
      "text/plain": [
       "['c_a',\n",
       " 'date',\n",
       " 'desc',\n",
       " 'division',\n",
       " 'entries',\n",
       " 'exits',\n",
       " 'linename',\n",
       " 'scp',\n",
       " 'station',\n",
       " 'time',\n",
       " 'unit']"
      ]
     },
     "execution_count": 103,
     "metadata": {},
     "output_type": "execute_result"
    }
   ],
   "source": [
    "turnstile_rdd.columns"
   ]
  },
  {
   "cell_type": "code",
   "execution_count": null,
   "id": "9adb974f",
   "metadata": {},
   "outputs": [],
   "source": []
  },
  {
   "cell_type": "code",
   "execution_count": null,
   "id": "1404994a",
   "metadata": {},
   "outputs": [],
   "source": []
  },
  {
   "attachments": {},
   "cell_type": "markdown",
   "id": "b1f80590",
   "metadata": {},
   "source": [
    "### Dataset: Cleansing"
   ]
  },
  {
   "cell_type": "code",
   "execution_count": null,
   "id": "2fade594",
   "metadata": {},
   "outputs": [],
   "source": []
  },
  {
   "attachments": {},
   "cell_type": "markdown",
   "id": "90469792",
   "metadata": {},
   "source": [
    "### Dataset: Preprocessing"
   ]
  },
  {
   "cell_type": "code",
   "execution_count": null,
   "id": "d159e4f0",
   "metadata": {},
   "outputs": [],
   "source": []
  },
  {
   "attachments": {},
   "cell_type": "markdown",
   "id": "e9bc0f14",
   "metadata": {},
   "source": [
    "### Dataset: Consolidating"
   ]
  },
  {
   "attachments": {},
   "cell_type": "markdown",
   "id": "0ce4b4db",
   "metadata": {},
   "source": [
    "1. Combine Subway to Turnstile"
   ]
  },
  {
   "attachments": {},
   "cell_type": "markdown",
   "id": "ff1c8c5b",
   "metadata": {},
   "source": [
    "2. Combine Subway to Arrest"
   ]
  },
  {
   "attachments": {},
   "cell_type": "markdown",
   "id": "1156034a",
   "metadata": {},
   "source": [
    "3. Combine Subway to Criminal"
   ]
  },
  {
   "attachments": {},
   "cell_type": "markdown",
   "id": "ca3a1294",
   "metadata": {},
   "source": [
    "4. Combine Subway to Summons"
   ]
  },
  {
   "attachments": {},
   "cell_type": "markdown",
   "id": "92e50f3e",
   "metadata": {},
   "source": [
    "### Conclusion"
   ]
  },
  {
   "attachments": {},
   "cell_type": "markdown",
   "id": "fa191a17",
   "metadata": {},
   "source": []
  }
 ],
 "metadata": {
  "kernelspec": {
   "display_name": "Python 3 (ipykernel)",
   "language": "python",
   "name": "python3"
  },
  "language_info": {
   "codemirror_mode": {
    "name": "ipython",
    "version": 3
   },
   "file_extension": ".py",
   "mimetype": "text/x-python",
   "name": "python",
   "nbconvert_exporter": "python",
   "pygments_lexer": "ipython3",
   "version": "3.8.16"
  }
 },
 "nbformat": 4,
 "nbformat_minor": 5
}
