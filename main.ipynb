{
 "cells": [
  {
   "cell_type": "code",
   "execution_count": 1,
   "id": "5be5532d-f960-4781-9bcd-46e9fc649520",
   "metadata": {},
   "outputs": [],
   "source": [
    "# pip\n",
    "# !pip install tqdm\n",
    "# !pip install dask"
   ]
  },
  {
   "cell_type": "code",
   "execution_count": 2,
   "id": "1161ce3c-f44d-4315-a465-e24bb275488f",
   "metadata": {},
   "outputs": [],
   "source": [
    "# conda\n",
    "# !conda install tqdm\n",
    "# !conda install dask"
   ]
  },
  {
   "attachments": {},
   "cell_type": "markdown",
   "id": "c960ad5b",
   "metadata": {},
   "source": [
    "### Importing necessary libraries"
   ]
  },
  {
   "cell_type": "code",
   "execution_count": 3,
   "id": "20c7e655-046c-4da4-a507-d6c82a395dfe",
   "metadata": {},
   "outputs": [],
   "source": [
    "# configuration, worked on using python@3.10.9 \n",
    "import os\n",
    "import urllib\n",
    "import json\n",
    "from threading import Thread, Lock\n",
    "from tqdm import tqdm\n",
    "from pyspark.sql import SparkSession\n",
    "import pyspark.sql.functions as F\n",
    "from pyspark.sql.types import StringType\n",
    "import findspark"
   ]
  },
  {
   "attachments": {},
   "cell_type": "markdown",
   "id": "af63a460",
   "metadata": {},
   "source": [
    "### Dataset links and filename"
   ]
  },
  {
   "cell_type": "code",
   "execution_count": 4,
   "id": "78fd043a-320a-4e86-86a8-df4b0b177f7a",
   "metadata": {},
   "outputs": [],
   "source": [
    "# data folder\n",
    "data_dir = 'data'\n",
    "\n",
    "# data urls\n",
    "historic_arrest_loc = { 'url': 'https://data.cityofnewyork.us/resource/8h9b-rp9u.json?$limit=15000000', 'filename': 'arrest.json' }\n",
    "historic_complaint_loc = { 'url': 'https://data.cityofnewyork.us/resource/qgea-i56i.json?$limit=15000000', 'filename': 'complaint.json' }\n",
    "historic_court_summons_loc = { 'url': 'https://data.cityofnewyork.us/resource/sv2w-rv3k.json?$limit=15000000', 'filename': 'summons.json' }\n",
    "traffic_speed_loc = { 'url': 'https://data.cityofnewyork.us/resource/i4gi-tjb9.json?$limit=15000000', 'filename': 'speed.json' }\n",
    "turnstile_loc = { 'url': 'https://data.ny.gov/resource/i55r-43gk.json?$limit=15000000', 'filename': 'turnstile.json' }\n",
    "subway_loc = { 'url': 'http://web.mta.info/developers/data/nyct/subway/Stations.csv?$limit=10000', 'filename': 'subway.csv' }"
   ]
  },
  {
   "attachments": {},
   "cell_type": "markdown",
   "id": "a0596959",
   "metadata": {},
   "source": [
    "### Dataset: Downloading handler"
   ]
  },
  {
   "cell_type": "code",
   "execution_count": 5,
   "id": "296b368d-abad-457e-9273-a4d58bb0164c",
   "metadata": {},
   "outputs": [],
   "source": [
    "# download flags\n",
    "downloadflag = True\n",
    "redownload = False\n",
    "\n",
    "thread_lock = Lock()\n",
    "\n",
    "# download utils\n",
    "def download_dataset_thread(loc, folder):\n",
    "    with thread_lock:\n",
    "        if ((not os.path.exists(os.path.join(folder, loc['filename']))) or redownload) and downloadflag:\n",
    "            if os.path.isfile(os.path.join(folder, loc['filename'])):\n",
    "                os.remove(os.path.join(folder, loc['filename']))\n",
    "            if not os.path.exists(folder):\n",
    "                os.makedirs(folder) \n",
    "            with tqdm(unit=\"B\", unit_scale=True, desc=loc['filename'], miniters=1) as progress_bar:\n",
    "                urllib.request.urlretrieve(loc['url'], os.path.join(folder, loc['filename']), lambda block_num, block_size, total_size: progress_bar.update(block_size))\n",
    "            progress_bar.display()\n",
    "        \n",
    "def download_dataset(loc, folder):\n",
    "    thread = Thread(target=download_dataset_thread, args=(loc, folder))\n",
    "    thread.start()\n",
    "    thread.join()\n",
    "        "
   ]
  },
  {
   "attachments": {},
   "cell_type": "markdown",
   "id": "49ab5e10",
   "metadata": {},
   "source": [
    "### Dataset: Downloading"
   ]
  },
  {
   "cell_type": "code",
   "execution_count": 6,
   "id": "3bf5d47c-e667-4356-a238-d10729cb744b",
   "metadata": {},
   "outputs": [],
   "source": [
    "# download datasets\n",
    "for dataset in [historic_arrest_loc,\n",
    "                historic_complaint_loc,\n",
    "                historic_court_summons_loc,\n",
    "                turnstile_loc,\n",
    "                subway_loc]:\n",
    "    download_dataset(dataset, data_dir)"
   ]
  },
  {
   "attachments": {},
   "cell_type": "markdown",
   "id": "ffeb78f4",
   "metadata": {},
   "source": [
    "### Providing Apache Spark backend"
   ]
  },
  {
   "cell_type": "code",
   "execution_count": 7,
   "id": "dfcf9e5b",
   "metadata": {},
   "outputs": [
    {
     "data": {
      "text/plain": [
       "'/opt/homebrew/Cellar/apache-spark/3.4.0/libexec'"
      ]
     },
     "execution_count": 7,
     "metadata": {},
     "output_type": "execute_result"
    }
   ],
   "source": [
    "findspark.init('/opt/homebrew/Cellar/apache-spark/3.4.0/libexec')\n",
    "findspark.find()"
   ]
  },
  {
   "attachments": {},
   "cell_type": "markdown",
   "id": "27077460",
   "metadata": {},
   "source": [
    "### Creating spark session using SparkSession builder"
   ]
  },
  {
   "cell_type": "code",
   "execution_count": 8,
   "id": "68e4059e",
   "metadata": {},
   "outputs": [
    {
     "name": "stderr",
     "output_type": "stream",
     "text": [
      "Setting default log level to \"WARN\".\n",
      "To adjust logging level use sc.setLogLevel(newLevel). For SparkR, use setLogLevel(newLevel).\n",
      "23/05/07 02:34:34 WARN NativeCodeLoader: Unable to load native-hadoop library for your platform... using builtin-java classes where applicable\n"
     ]
    },
    {
     "data": {
      "text/html": [
       "\n",
       "            <div>\n",
       "                <p><b>SparkSession - in-memory</b></p>\n",
       "                \n",
       "        <div>\n",
       "            <p><b>SparkContext</b></p>\n",
       "\n",
       "            <p><a href=\"http://devarshs-mbp.fios-router.home:4040\">Spark UI</a></p>\n",
       "\n",
       "            <dl>\n",
       "              <dt>Version</dt>\n",
       "                <dd><code>v3.4.0</code></dd>\n",
       "              <dt>Master</dt>\n",
       "                <dd><code>local[5]</code></dd>\n",
       "              <dt>AppName</dt>\n",
       "                <dd><code>main</code></dd>\n",
       "            </dl>\n",
       "        </div>\n",
       "        \n",
       "            </div>\n",
       "        "
      ],
      "text/plain": [
       "<pyspark.sql.session.SparkSession at 0x10371cbe0>"
      ]
     },
     "execution_count": 8,
     "metadata": {},
     "output_type": "execute_result"
    }
   ],
   "source": [
    "# spark session initialization\n",
    "spark = SparkSession.builder\\\n",
    "    .master(\"local[5]\")\\\n",
    "        .appName(\"main\")\\\n",
    "            .config(\"spark.sql.debug.maxToStringFields\", 50)\\\n",
    "                .config(\"spark.driver.memory\", '8g')\\\n",
    "                    .getOrCreate()\n",
    "                    \n",
    "spark"
   ]
  },
  {
   "attachments": {},
   "cell_type": "markdown",
   "id": "10296165",
   "metadata": {},
   "source": [
    "### Initializing spark dataframes"
   ]
  },
  {
   "cell_type": "code",
   "execution_count": 9,
   "id": "a03187c4-9ff0-4728-8926-3bcdda56315c",
   "metadata": {},
   "outputs": [
    {
     "name": "stderr",
     "output_type": "stream",
     "text": [
      "23/05/07 02:34:45 WARN GarbageCollectionMetrics: To enable non-built-in garbage collector(s) List(G1 Concurrent GC), users should configure it(them) to spark.eventLog.gcMetrics.youngGenerationGarbageCollectors or spark.eventLog.gcMetrics.oldGenerationGarbageCollectors\n",
      "                                                                                \r"
     ]
    }
   ],
   "source": [
    "# dataframes\n",
    "arrest_df = spark.read.json(os.path.join(data_dir, historic_arrest_loc['filename']), multiLine=True)\n",
    "complaint_df = spark.read.json(os.path.join(data_dir, historic_complaint_loc['filename']), multiLine=True)\n",
    "summons_df = spark.read.json(os.path.join(data_dir, historic_court_summons_loc['filename']), multiLine=True)\n",
    "turnstile_df = spark.read.json(os.path.join(data_dir, turnstile_loc['filename']), multiLine=True)\n",
    "subway_df = spark.read.csv(os.path.join(data_dir, subway_loc['filename']), header=True, inferSchema=True)"
   ]
  },
  {
   "attachments": {},
   "cell_type": "markdown",
   "id": "ad5133ca",
   "metadata": {},
   "source": [
    "### Dataset: Analysis & Cleansing"
   ]
  },
  {
   "attachments": {},
   "cell_type": "markdown",
   "id": "c14ca1f7",
   "metadata": {},
   "source": [
    "#### 1. Subway and Turnstile dataset analysis"
   ]
  },
  {
   "cell_type": "code",
   "execution_count": 10,
   "id": "a20abbdd",
   "metadata": {},
   "outputs": [],
   "source": [
    "# normalize udf for station id in subway and turnstile\n",
    "def normalize(unit):\n",
    "    type, *val = list(unit)\n",
    "    return type + str(int(''.join(val)))\n",
    "\n",
    "nUdf = F.udf(normalize, StringType())"
   ]
  },
  {
   "cell_type": "code",
   "execution_count": 11,
   "id": "f9caf462",
   "metadata": {},
   "outputs": [],
   "source": [
    "# normalize subway GTFS Stop ID\n",
    "subway_df = subway_df.withColumn('GTFS Stop ID', nUdf(F.col('GTFS Stop ID')))"
   ]
  },
  {
   "cell_type": "code",
   "execution_count": 12,
   "id": "2eec408e",
   "metadata": {},
   "outputs": [],
   "source": [
    "# normalize turnstile unit\n",
    "turnstile_df = turnstile_df.withColumn('unit', nUdf(F.col('unit')))"
   ]
  },
  {
   "cell_type": "code",
   "execution_count": 13,
   "id": "070e7fd4",
   "metadata": {},
   "outputs": [
    {
     "name": "stderr",
     "output_type": "stream",
     "text": [
      "                                                                                \r"
     ]
    }
   ],
   "source": [
    "# getting subways stations in turnstile and subway dataset\n",
    "s_list = subway_df.select(F.col('GTFS Stop ID')).distinct().toPandas().values.flatten()\n",
    "t_list = turnstile_df.select(F.col('unit')).distinct().toPandas().values.flatten()"
   ]
  },
  {
   "cell_type": "code",
   "execution_count": 14,
   "id": "9adb974f",
   "metadata": {},
   "outputs": [
    {
     "data": {
      "text/plain": [
       "['R16',\n",
       " 'R13',\n",
       " 'R6',\n",
       " 'R30',\n",
       " 'R8',\n",
       " 'R40',\n",
       " 'R23',\n",
       " 'R45',\n",
       " 'R20',\n",
       " 'R21',\n",
       " 'R43',\n",
       " 'R3',\n",
       " 'R36',\n",
       " 'R15',\n",
       " 'R24',\n",
       " 'R29',\n",
       " 'R33',\n",
       " 'R39',\n",
       " 'R4',\n",
       " 'R41',\n",
       " 'R27',\n",
       " 'R19',\n",
       " 'R5',\n",
       " 'R44',\n",
       " 'R22',\n",
       " 'R34',\n",
       " 'R32',\n",
       " 'R31',\n",
       " 'R42',\n",
       " 'R9',\n",
       " 'R11',\n",
       " 'R1',\n",
       " 'R18',\n",
       " 'R25',\n",
       " 'R14',\n",
       " 'R35',\n",
       " 'R17',\n",
       " 'R28']"
      ]
     },
     "execution_count": 14,
     "metadata": {},
     "output_type": "execute_result"
    }
   ],
   "source": [
    "# comparing common subway stations\n",
    "ts_intersect = [value for value in t_list if value in s_list]\n",
    "ts_intersect"
   ]
  },
  {
   "attachments": {},
   "cell_type": "markdown",
   "id": "e9bc0f14",
   "metadata": {},
   "source": [
    "### Dataset: Consolidating"
   ]
  },
  {
   "attachments": {},
   "cell_type": "markdown",
   "id": "0ce4b4db",
   "metadata": {},
   "source": [
    "1. Combine Subway to Turnstile"
   ]
  },
  {
   "cell_type": "code",
   "execution_count": 15,
   "id": "beb822e8",
   "metadata": {},
   "outputs": [
    {
     "name": "stderr",
     "output_type": "stream",
     "text": [
      "[Stage 12:>                                                         (0 + 1) / 1]\r"
     ]
    },
    {
     "name": "stdout",
     "output_type": "stream",
     "text": [
      "+----+----------------+----------------+\n",
      "|unit|         entries|           exits|\n",
      "+----+----------------+----------------+\n",
      "|R159| 9.7658670459E10| 3.6752142042E10|\n",
      "| R16| 7.9053401996E10| 9.4031973197E10|\n",
      "|R143|6.16250900125E11|7.75773326471E11|\n",
      "|R469| 1.0314052482E10|    9.79342886E8|\n",
      "|R100| 3.8355082149E10| 4.2813609167E10|\n",
      "|R167| 1.6874102816E11|1.96763060056E11|\n",
      "|R177|2.21718982614E11|1.91598461153E11|\n",
      "| R13| 9.9819375916E10|1.70757933631E11|\n",
      "|R290| 7.7285465068E10| 9.9919615555E10|\n",
      "|R432| 1.5507768821E10|   7.016570014E9|\n",
      "|R384|  2.283725805E10| 2.2146211814E10|\n",
      "| R37| 2.8851327936E11| 1.8206496699E10|\n",
      "| R80|2.69169144454E11| 1.5734215062E11|\n",
      "|R541| 2.0813861412E10| 1.6886431668E10|\n",
      "|R412|   9.997534418E9|    3.88309983E9|\n",
      "|R294| 4.0256229752E10| 2.4555010956E10|\n",
      "|R430|   9.052436119E9|  1.126470821E10|\n",
      "|  R6| 7.1331940846E10| 2.6958063183E10|\n",
      "| R95| 4.8301616614E10| 4.9211442273E10|\n",
      "|R329| 1.1117120569E10|   5.684716085E9|\n",
      "+----+----------------+----------------+\n",
      "only showing top 20 rows\n",
      "\n"
     ]
    },
    {
     "name": "stderr",
     "output_type": "stream",
     "text": [
      "                                                                                \r"
     ]
    }
   ],
   "source": [
    "gt_df = turnstile_df.groupBy(F.col('unit'))\\\n",
    "    .agg({ 'entries': 'sum', 'exits': 'sum'})\\\n",
    "        .select(F.col('unit'),\\\n",
    "            F.col('sum(entries)').alias('entries'),\\\n",
    "            F.col('sum(exits)').alias('exits'))\n",
    "gt_df.show()"
   ]
  },
  {
   "cell_type": "code",
   "execution_count": 16,
   "id": "ffe1cb57",
   "metadata": {},
   "outputs": [
    {
     "name": "stderr",
     "output_type": "stream",
     "text": [
      "[Stage 16:>                                                         (0 + 1) / 1]\r"
     ]
    },
    {
     "name": "stdout",
     "output_type": "stream",
     "text": [
      "+---+-------------------+-----------------+-------+---------+----------+--------------------+--------------------+-----------------+-----------------+\n",
      "| id|               line|        stop_name|borough|      lat|      long|             n_label|             s_label|          entries|            exits|\n",
      "+---+-------------------+-----------------+-------+---------+----------+--------------------+--------------------+-----------------+-----------------+\n",
      "|R16|Broadway - Brighton|   Times Sq-42 St|      M|40.754672|-73.986754|     Uptown & Queens| Downtown & Brooklyn|  7.9053401996E10|  9.4031973197E10|\n",
      "|R13|            Astoria|       5 Av/59 St|      M|40.764811|-73.973347|              Queens| Downtown & Brooklyn|  9.9819375916E10| 1.70757933631E11|\n",
      "| R6|            Astoria|            36 Av|      Q|40.756804|-73.929575|Astoria - Ditmars...|           Manhattan|  7.1331940846E10|  2.6958063183E10|\n",
      "|R30|Broadway - Brighton|        DeKalb Av|     Bk|40.690635|-73.981824|           Manhattan|Coney Island - Ba...|1.625048003534E12|1.334749653979E12|\n",
      "| R8|            Astoria|39 Av-Dutch Kills|      Q|40.752882|-73.932755|Astoria - Ditmars...|           Manhattan|  2.7676840763E10|  2.6753306073E10|\n",
      "|R40|             4th Av|            53 St|     Bk|40.645069|-74.014034|           Manhattan|   Bay Ridge - 95 St| 1.18343499418E11|  1.3138969255E10|\n",
      "|R23|           Broadway|         Canal St|      M|40.719527|-74.001775|     Uptown & Queens| Downtown & Brooklyn|3.034008171273E12|4.004890364733E12|\n",
      "|R45|             4th Av|  Bay Ridge-95 St|     Bk|40.616622|-74.030876|           Manhattan|                null| 1.45718172033E11|  1.1424377247E11|\n",
      "|R20|Broadway - Brighton|   14 St-Union Sq|      M|40.735736|-73.990568|     Uptown & Queens| Downtown & Brooklyn| 3.52359562127E11| 3.20595332347E11|\n",
      "|R21|Broadway - Brighton|         8 St-NYU|      M|40.730328|-73.992629|     Uptown & Queens| Downtown & Brooklyn|1.067086537847E12| 8.97730531215E11|\n",
      "|R43|             4th Av|            77 St|     Bk|40.629742| -74.02551|           Manhattan|               95 St| 7.74701516828E11| 1.27076914353E11|\n",
      "| R3|            Astoria|     Astoria Blvd|      Q|40.770258|-73.917843|        Ditmars Blvd|           Manhattan|  1.0233724436E10|    6.300884972E9|\n",
      "|R36|             4th Av|            36 St|     Bk|40.655144|-74.003549|           Manhattan|Coney Island - Ba...|    9.851525611E9|  1.4600105563E10|\n",
      "|R15|Broadway - Brighton|            49 St|      M|40.759901|-73.984139|     Uptown & Queens| Downtown & Brooklyn| 1.71540057484E11| 1.83989511603E11|\n",
      "|R24|           Broadway|        City Hall|      M|40.713282|-74.006978|     Uptown & Queens| Downtown & Brooklyn| 2.77143996739E11|  1.3558776869E11|\n",
      "|R29|           Broadway| Jay St-MetroTech|     Bk| 40.69218|-73.985942|           Manhattan|   Bay Ridge - 95 St| 6.20282148955E11| 4.43236158889E11|\n",
      "|R33|             4th Av|        4 Av-9 St|     Bk|40.670847|-73.988302|           Manhattan|   Bay Ridge - 95 St|3.697545906933E12|5.445914142777E12|\n",
      "|R39|             4th Av|            45 St|     Bk|40.648939|-74.010006|           Manhattan|   Bay Ridge - 95 St|  1.0134315912E10|    1.548481925E9|\n",
      "| R4|            Astoria|            30 Av|      Q|40.766779|-73.921479|Astoria - Ditmars...|           Manhattan|  3.1864562633E10|  3.1061851564E10|\n",
      "|R41|             4th Av|            59 St|     Bk|40.641362|-74.017881|           Manhattan|Coney Island - Ba...| 2.32108548046E11|  9.8903419027E10|\n",
      "+---+-------------------+-----------------+-------+---------+----------+--------------------+--------------------+-----------------+-----------------+\n",
      "only showing top 20 rows\n",
      "\n"
     ]
    },
    {
     "name": "stderr",
     "output_type": "stream",
     "text": [
      "                                                                                \r"
     ]
    }
   ],
   "source": [
    "# combine the total exits and entries for each station\n",
    "st_df = subway_df.join(gt_df, F.col('GTFS Stop ID') == F.col('unit'))\\\n",
    "    .select(F.col('GTFS Stop ID').alias('id'),\\\n",
    "        F.col('Line').alias('line'),\\\n",
    "        F.col('Stop Name').alias('stop_name'),\\\n",
    "        F.col('Borough').alias('borough'),\\\n",
    "        F.col('GTFS Latitude').alias('lat'),\\\n",
    "        F.col('GTFS Longitude').alias('long'),\\\n",
    "        F.col('North Direction Label').alias('n_label'),\\\n",
    "        F.col('South Direction Label').alias('s_label'),\\\n",
    "        F.col('entries'),\\\n",
    "        F.col('exits'))\n",
    "st_df.show()"
   ]
  },
  {
   "attachments": {},
   "cell_type": "markdown",
   "id": "ff1c8c5b",
   "metadata": {},
   "source": [
    "2. Combine Subway to Arrest"
   ]
  },
  {
   "cell_type": "code",
   "execution_count": null,
   "id": "7019de02",
   "metadata": {},
   "outputs": [],
   "source": []
  },
  {
   "cell_type": "code",
   "execution_count": null,
   "id": "f835e704",
   "metadata": {},
   "outputs": [],
   "source": []
  },
  {
   "attachments": {},
   "cell_type": "markdown",
   "id": "1156034a",
   "metadata": {},
   "source": [
    "3. Combine Subway to Criminal"
   ]
  },
  {
   "cell_type": "code",
   "execution_count": null,
   "id": "edb58d7f",
   "metadata": {},
   "outputs": [],
   "source": []
  },
  {
   "cell_type": "code",
   "execution_count": null,
   "id": "d6c7f13d",
   "metadata": {},
   "outputs": [],
   "source": []
  },
  {
   "attachments": {},
   "cell_type": "markdown",
   "id": "ca3a1294",
   "metadata": {},
   "source": [
    "4. Combine Subway to Summons"
   ]
  },
  {
   "cell_type": "code",
   "execution_count": null,
   "id": "f66a80a2",
   "metadata": {},
   "outputs": [],
   "source": []
  },
  {
   "cell_type": "code",
   "execution_count": null,
   "id": "a54c93f8",
   "metadata": {},
   "outputs": [],
   "source": []
  },
  {
   "attachments": {},
   "cell_type": "markdown",
   "id": "92e50f3e",
   "metadata": {},
   "source": [
    "### Conclusion"
   ]
  },
  {
   "attachments": {},
   "cell_type": "markdown",
   "id": "fa191a17",
   "metadata": {},
   "source": []
  }
 ],
 "metadata": {
  "kernelspec": {
   "display_name": "Python 3 (ipykernel)",
   "language": "python",
   "name": "python3"
  },
  "language_info": {
   "codemirror_mode": {
    "name": "ipython",
    "version": 3
   },
   "file_extension": ".py",
   "mimetype": "text/x-python",
   "name": "python",
   "nbconvert_exporter": "python",
   "pygments_lexer": "ipython3",
   "version": "3.8.16"
  }
 },
 "nbformat": 4,
 "nbformat_minor": 5
}
