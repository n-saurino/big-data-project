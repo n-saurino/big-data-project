{
 "cells": [
  {
   "cell_type": "code",
   "execution_count": 1,
   "id": "5be5532d-f960-4781-9bcd-46e9fc649520",
   "metadata": {},
   "outputs": [],
   "source": [
    "# pip\n",
    "# !pip install tqdm\n",
    "# !pip install dask"
   ]
  },
  {
   "cell_type": "code",
   "execution_count": 2,
   "id": "1161ce3c-f44d-4315-a465-e24bb275488f",
   "metadata": {},
   "outputs": [],
   "source": [
    "# conda\n",
    "# !conda install tqdm\n",
    "# !conda install dask"
   ]
  },
  {
   "cell_type": "markdown",
   "id": "c960ad5b",
   "metadata": {},
   "source": [
    "### Importing necessary libraries"
   ]
  },
  {
   "cell_type": "code",
   "execution_count": 3,
   "id": "20c7e655-046c-4da4-a507-d6c82a395dfe",
   "metadata": {},
   "outputs": [],
   "source": [
    "# configuration, worked on using python@3.10.9 \n",
    "import os\n",
    "import urllib\n",
    "import json\n",
    "from threading import Thread, Lock\n",
    "from tqdm import tqdm\n",
    "from pyspark.sql import SparkSession\n",
    "import pyspark.sql.functions as F\n",
    "from pyspark.sql.types import StringType, BooleanType\n",
    "from haversine import haversine, Unit\n",
    "\n",
    "from leafmap import leafmap\n",
    "import geopandas as gpd"
   ]
  },
  {
   "cell_type": "markdown",
   "id": "af63a460",
   "metadata": {},
   "source": [
    "### Dataset links and filename"
   ]
  },
  {
   "cell_type": "code",
   "execution_count": 4,
   "id": "78fd043a-320a-4e86-86a8-df4b0b177f7a",
   "metadata": {},
   "outputs": [],
   "source": [
    "# data folder\n",
    "data_dir = 'data'\n",
    "intr_dir = 'results'\n",
    "\n",
    "# data urls\n",
    "historic_arrest_loc = { 'url': 'https://data.cityofnewyork.us/resource/8h9b-rp9u.json?$limit=15000000', 'filename': 'arrest.json' }\n",
    "historic_complaint_loc = { 'url': 'https://data.cityofnewyork.us/resource/qgea-i56i.json?$limit=15000000', 'filename': 'complaint.json' }\n",
    "historic_court_summons_loc = { 'url': 'https://data.cityofnewyork.us/resource/sv2w-rv3k.json?$limit=15000000', 'filename': 'summons.json' }\n",
    "traffic_speed_loc = { 'url': 'https://data.cityofnewyork.us/resource/i4gi-tjb9.json?$limit=15000000', 'filename': 'speed.json' }\n",
    "turnstile_loc = { 'url': 'https://data.ny.gov/resource/i55r-43gk.json?$limit=15000000', 'filename': 'turnstile.json' }\n",
    "subway_loc = { 'url': 'http://web.mta.info/developers/data/nyct/subway/Stations.csv?$limit=10000', 'filename': 'subway.csv' }"
   ]
  },
  {
   "cell_type": "markdown",
   "id": "a0596959",
   "metadata": {},
   "source": [
    "### Dataset: Downloading handler"
   ]
  },
  {
   "cell_type": "code",
   "execution_count": 5,
   "id": "296b368d-abad-457e-9273-a4d58bb0164c",
   "metadata": {},
   "outputs": [],
   "source": [
    "# download flags\n",
    "downloadflag = True\n",
    "redownload = False\n",
    "\n",
    "thread_lock = Lock()\n",
    "\n",
    "# download utils\n",
    "def download_dataset_thread(loc, folder):\n",
    "    with thread_lock:\n",
    "        if ((not os.path.exists(os.path.join(folder, loc['filename']))) or redownload) and downloadflag:\n",
    "            if os.path.isfile(os.path.join(folder, loc['filename'])):\n",
    "                os.remove(os.path.join(folder, loc['filename']))\n",
    "            if not os.path.exists(folder):\n",
    "                os.makedirs(folder) \n",
    "            with tqdm(unit=\"B\", unit_scale=True, desc=loc['filename'], miniters=1) as progress_bar:\n",
    "                urllib.request.urlretrieve(loc['url'], os.path.join(folder, loc['filename']), lambda block_num, block_size, total_size: progress_bar.update(block_size))\n",
    "            progress_bar.display()\n",
    "        \n",
    "def download_dataset(loc, folder):\n",
    "    thread = Thread(target=download_dataset_thread, args=(loc, folder))\n",
    "    thread.start()\n",
    "    thread.join()\n",
    "        "
   ]
  },
  {
   "cell_type": "markdown",
   "id": "49ab5e10",
   "metadata": {},
   "source": [
    "### Dataset: Downloading"
   ]
  },
  {
   "cell_type": "code",
   "execution_count": 6,
   "id": "3bf5d47c-e667-4356-a238-d10729cb744b",
   "metadata": {},
   "outputs": [],
   "source": [
    "# download datasets\n",
    "for dataset in [historic_arrest_loc,\n",
    "                historic_complaint_loc,\n",
    "                historic_court_summons_loc,\n",
    "                turnstile_loc,\n",
    "                subway_loc]:\n",
    "    download_dataset(dataset, data_dir)"
   ]
  },
  {
   "cell_type": "markdown",
   "id": "27077460",
   "metadata": {},
   "source": [
    "### Creating spark session using SparkSession builder"
   ]
  },
  {
   "cell_type": "code",
   "execution_count": 7,
   "id": "68e4059e",
   "metadata": {},
   "outputs": [
    {
     "name": "stderr",
     "output_type": "stream",
     "text": [
      "Setting default log level to \""
     ]
    },
    {
     "data": {
      "text/html": [
       "\n",
       "            <div>\n",
       "                <p><b>SparkSession - in-memory</b></p>\n",
       "                \n",
       "        <div>\n",
       "            <p><b>SparkContext</b></p>\n",
       "\n",
       "            <p><a href=\"http://devarshs-mbp.fios-router.home:4041\">Spark UI</a></p>\n",
       "\n",
       "            <dl>\n",
       "              <dt>Version</dt>\n",
       "                <dd><code>v3.4.0</code></dd>\n",
       "              <dt>Master</dt>\n",
       "                <dd><code>local[5]</code></dd>\n",
       "              <dt>AppName</dt>\n",
       "                <dd><code>main</code></dd>\n",
       "            </dl>\n",
       "        </div>\n",
       "        \n",
       "            </div>\n",
       "        "
      ],
      "text/plain": [
       "<pyspark.sql.session.SparkSession at 0x1588bf880>"
      ]
     },
     "execution_count": 7,
     "metadata": {},
     "output_type": "execute_result"
    }
   ],
   "source": [
    "# spark session initialization\n",
    "spark = SparkSession.builder\\\n",
    "    .master(\"local[5]\")\\\n",
    "    .appName(\"main\")\\\n",
    "    .config(\"spark.sql.debug.maxToStringFields\", 100)\\\n",
    "    .config(\"spark.driver.memory\", '4g')\\\n",
    "    .config(\"spark.executor.instances\", 5)\\\n",
    "    .getOrCreate()\n",
    "\n",
    "spark"
   ]
  },
  {
   "cell_type": "markdown",
   "id": "10296165",
   "metadata": {},
   "source": [
    "### Initializing spark dataframes"
   ]
  },
  {
   "cell_type": "code",
   "execution_count": 8,
   "id": "a03187c4-9ff0-4728-8926-3bcdda56315c",
   "metadata": {},
   "outputs": [],
   "source": [
    "# dataframes\n",
    "arrest_df = spark.read.json(os.path.join(data_dir, historic_arrest_loc['filename']), multiLine=True).repartition(5)\n",
    "complaint_df = spark.read.json(os.path.join(data_dir, historic_complaint_loc['filename']), multiLine=True).repartition(5)\n",
    "summons_df = spark.read.json(os.path.join(data_dir, historic_court_summons_loc['filename']), multiLine=True).repartition(5)\n",
    "turnstile_df = spark.read.json(os.path.join(data_dir, turnstile_loc['filename']), multiLine=True).repartition(5)\n",
    "raw_lookup_df = spark.read.option('header', True).option('inferSchema', True).csv(os.path.join('remote_complex_lookup.csv')).repartition(5)\n",
    "raw_subway_df = spark.read.option('header', True).option('inferSchema', True).csv(os.path.join(data_dir, subway_loc['filename'])).repartition(5)"
   ]
  },
  {
   "cell_type": "markdown",
   "id": "b8a498ba-b1c2-45b1-aa7f-055e33e8218f",
   "metadata": {},
   "source": [
    "### UDFs"
   ]
  },
  {
   "cell_type": "code",
   "execution_count": 9,
   "id": "9241d8f2-53c4-4977-ad77-1ae0b2eae2e6",
   "metadata": {},
   "outputs": [],
   "source": [
    "# haversine distance comparison udf\n",
    "def withinMile(slat, slong, dlat, dlong):\n",
    "    srs = (slat, slong)\n",
    "    dst = (dlat, dlong)\n",
    "    distance = float(haversine(srs, dst,unit=Unit.MILES))\n",
    "    return bool(distance < 0.1)\n",
    "    \n",
    "withinMileUdf = F.udf(withinMile, BooleanType())"
   ]
  },
  {
   "cell_type": "markdown",
   "id": "1919419f-a35f-4512-94e4-e75e0c9cd049",
   "metadata": {},
   "source": [
    "### Dataset Pre-processing"
   ]
  },
  {
   "cell_type": "markdown",
   "id": "a36a9819-ceed-4048-a85f-6ec540c55357",
   "metadata": {},
   "source": [
    "#### 1. Subway and Lookup cleaning and filtering"
   ]
  },
  {
   "cell_type": "code",
   "execution_count": 10,
   "id": "4c1729a4-21a4-4c49-a380-9b5de085cefe",
   "metadata": {},
   "outputs": [
    {
     "name": "stdout",
     "output_type": "stream",
     "text": [
      "root\n",
      " |-- Station ID: integer (nullable = true)\n",
      " |-- Complex ID: integer (nullable = true)\n",
      " |-- GTFS Stop ID: string (nullable = true)\n",
      " |-- Division: string (nullable = true)\n",
      " |-- Line: string (nullable = true)\n",
      " |-- Stop Name: string (nullable = true)\n",
      " |-- Borough: string (nullable = true)\n",
      " |-- Daytime Routes: string (nullable = true)\n",
      " |-- Structure: string (nullable = true)\n",
      " |-- GTFS Latitude: double (nullable = true)\n",
      " |-- GTFS Longitude: double (nullable = true)\n",
      " |-- North Direction Label: string (nullable = true)\n",
      " |-- South Direction Label: string (nullable = true)\n",
      " |-- ADA: integer (nullable = true)\n",
      " |-- ADA Direction Notes: string (nullable = true)\n",
      " |-- ADA NB: integer (nullable = true)\n",
      " |-- ADA SB: integer (nullable = true)\n",
      " |-- Capital Outage NB: string (nullable = true)\n",
      " |-- Capital Outage SB: string (nullable = true)\n",
      "\n"
     ]
    }
   ],
   "source": [
    "raw_subway_df.printSchema()"
   ]
  },
  {
   "cell_type": "code",
   "execution_count": 11,
   "id": "5e9d0071-69ac-4985-baec-06c3c312f6d1",
   "metadata": {},
   "outputs": [],
   "source": [
    "lookup_df = raw_lookup_df.select(F.col('remote ').alias('unit'), F.col('complex_id')).dropDuplicates(['unit', 'complex_id'])"
   ]
  },
  {
   "cell_type": "code",
   "execution_count": 12,
   "id": "44301b6c-7453-4c78-b747-34a528b8aacc",
   "metadata": {},
   "outputs": [],
   "source": [
    "subway_df = raw_subway_df.join(lookup_df, F.col('Complex ID') == F.col('complex_id'), 'inner').dropDuplicates(['unit'])"
   ]
  },
  {
   "cell_type": "code",
   "execution_count": 13,
   "id": "03cfc871-2e8f-4552-9e60-a8f922bbfe17",
   "metadata": {},
   "outputs": [
    {
     "name": "stdout",
     "output_type": "stream",
     "text": [
      "root\n",
      " |-- Station ID: integer (nullable = true)\n",
      " |-- Complex ID: integer (nullable = true)\n",
      " |-- GTFS Stop ID: string (nullable = true)\n",
      " |-- Division: string (nullable = true)\n",
      " |-- Line: string (nullable = true)\n",
      " |-- Stop Name: string (nullable = true)\n",
      " |-- Borough: string (nullable = true)\n",
      " |-- Daytime Routes: string (nullable = true)\n",
      " |-- Structure: string (nullable = true)\n",
      " |-- GTFS Latitude: double (nullable = true)\n",
      " |-- GTFS Longitude: double (nullable = true)\n",
      " |-- North Direction Label: string (nullable = true)\n",
      " |-- South Direction Label: string (nullable = true)\n",
      " |-- ADA: integer (nullable = true)\n",
      " |-- ADA Direction Notes: string (nullable = true)\n",
      " |-- ADA NB: integer (nullable = true)\n",
      " |-- ADA SB: integer (nullable = true)\n",
      " |-- Capital Outage NB: string (nullable = true)\n",
      " |-- Capital Outage SB: string (nullable = true)\n",
      " |-- unit: string (nullable = true)\n",
      " |-- complex_id: integer (nullable = true)\n",
      "\n"
     ]
    }
   ],
   "source": [
    "subway_df.printSchema()"
   ]
  },
  {
   "cell_type": "markdown",
   "id": "341c5d18-fccf-4270-b968-b542d00e190e",
   "metadata": {},
   "source": [
    "#### 2. Arrest dataset cleaning"
   ]
  },
  {
   "cell_type": "code",
   "execution_count": 14,
   "id": "17dbc301-5ce5-4e96-ac30-0af6b9a88dd9",
   "metadata": {},
   "outputs": [
    {
     "name": "stdout",
     "output_type": "stream",
     "text": [
      "+-----------+--------------------+----------+------------------+------------------+\n",
      "|arrest_boro|         arrest_date|arrest_key|          latitude|         longitude|\n",
      "+-----------+--------------------+----------+------------------+------------------+\n",
      "|          B|2010-03-12T00:00:...|  71730512| 40.82095486800005|-73.85801740899994|\n",
      "|          M|2009-06-03T00:00:...|  62411068|40.863003221000035|-73.92425384299997|\n",
      "|          B|2007-12-29T00:00:...|  37340060|40.867263716000025|-73.89685776699997|\n",
      "|          K|2014-08-29T00:00:...| 138453053| 40.68746505200004|     -73.952855937|\n",
      "|          K|2009-05-21T00:00:...|  61995801| 40.69395702200006|-73.91183165399997|\n",
      "|          B|2012-05-30T00:00:...|  85006006|40.831974874000025|-73.89669204099994|\n",
      "|          M|2016-08-27T00:00:...| 156196665| 40.81021769500006|-73.93949694199993|\n",
      "|          Q|2016-03-11T00:00:...| 151134432| 40.70010913700002|-73.82421171499993|\n",
      "|          M|2013-08-07T00:00:...|  92014453| 40.70578749500004|-74.00838356999998|\n",
      "|          K|2007-10-25T00:00:...|  35286352| 40.67368625000006|-73.86575729099997|\n",
      "|          B|2016-07-14T00:00:...| 154856315| 40.86170890900007|-73.89138208599996|\n",
      "|          B|2015-08-14T00:00:...| 145333163| 40.85999649200004|-73.90408122399998|\n",
      "|          S|2012-11-08T00:00:...|  87603015| 40.62384888900005|-74.08197985899994|\n",
      "|          M|2008-02-09T00:00:...|  39013090| 40.74298079600004|-73.98323505999997|\n",
      "|          Q|2018-01-19T00:00:...| 173818792|40.580403286000035|-73.83153598499997|\n",
      "|          Q|2009-01-24T00:00:...|  55978379| 40.76142101200002|-73.88453904299998|\n",
      "|          K|2008-08-05T00:00:...|  49836502| 40.64555467100007|-73.95909079399996|\n",
      "|          M|2010-07-14T00:00:...|  73677202| 40.71236665600002|-74.00888578799999|\n",
      "|          B|2014-09-27T00:00:...| 138893716|40.874984151000035|-73.87945670399995|\n",
      "|          M|2016-01-21T00:00:...| 149596931|40.798293080000064|-73.94186988299998|\n",
      "+-----------+--------------------+----------+------------------+------------------+\n",
      "only showing top 20 rows\n",
      "\n"
     ]
    }
   ],
   "source": [
    "# preprocess arrest data\n",
    "arrest_df = arrest_df.select(\"arrest_boro\",\"arrest_date\", \"arrest_key\", \"latitude\", \"longitude\", )\\\n",
    "    .filter(F.col('latitude').isNotNull()\\\n",
    "        & F.col('longitude').isNotNull())\\\n",
    "    .withColumn(\"longitude\", F.col(\"longitude\").cast(\"double\"))\\\n",
    "    .withColumn(\"latitude\", F.col(\"latitude\").cast(\"double\"))\n",
    "arrest_df.show()"
   ]
  },
  {
   "cell_type": "markdown",
   "id": "fa0b71e9-9230-4146-b596-551aa425e9f3",
   "metadata": {},
   "source": [
    "#### 3. Complaint dataset cleaning"
   ]
  },
  {
   "cell_type": "code",
   "execution_count": 15,
   "id": "1f3d1f18-d109-43e6-b925-edcf481a1c95",
   "metadata": {},
   "outputs": [
    {
     "name": "stdout",
     "output_type": "stream",
     "text": [
      "+----------+-----------------+--------------------+------------+------------------+------------------+\n",
      "|cmplnt_num|loc_of_occur_desc|        cmplnt_to_dt|cmplnt_to_tm|          latitude|         longitude|\n",
      "+----------+-----------------+--------------------+------------+------------------+------------------+\n",
      "| 870010794|             null|2020-03-06T00:00:...|    01:00:00| 40.68900458000007|-73.78580605399996|\n",
      "| 532313042|         FRONT OF|2020-02-17T00:00:...|    20:36:00| 40.71224785000004|-73.76903757999997|\n",
      "| 106900823|           INSIDE|2006-02-12T00:00:...|    17:50:00|      40.699166247|     -73.792066606|\n",
      "| 408535776|           INSIDE|2006-04-11T00:00:...|    10:56:00|      40.680332821|     -73.905972878|\n",
      "| 583339129|             null|                null|        null|      40.688378278|      -73.94491166|\n",
      "| 562935534|         FRONT OF|2017-05-27T00:00:...|    21:30:00|        40.8551677|      -73.88790442|\n",
      "| 800736634|             null|2014-01-03T00:00:...|    20:00:00|      40.678830561|     -73.866269707|\n",
      "| 470753868|             null|                null|        null|      40.876190434|     -73.854449784|\n",
      "| 361625002|         FRONT OF|                null|        null|      40.805504347|     -73.916477252|\n",
      "| 651315379|         FRONT OF|2011-09-04T00:00:...|    01:00:00|      40.760191234|     -73.963319557|\n",
      "| 739557542|         FRONT OF|2020-10-08T00:00:...|    12:30:00|40.739695320000074|     -73.922712414|\n",
      "| 548929667|           INSIDE|2017-05-11T00:00:...|    02:00:00|      40.676314308|     -74.005935557|\n",
      "| 116374885|             null|2007-05-14T00:00:...|    07:45:00|      40.883382579|     -73.902333309|\n",
      "| 478139136|           INSIDE|2014-07-31T00:00:...|    16:46:00|      40.683241525|     -73.873652239|\n",
      "| 433296153|             null|2006-07-01T00:00:...|    21:25:00|      40.832616561|     -73.857515523|\n",
      "| 224112470|           INSIDE|2008-03-26T00:00:...|    19:50:00|      40.844921957|     -73.829789053|\n",
      "| 809840381|           INSIDE|                null|        null| 40.75771167700003|-73.98202575399995|\n",
      "| 947823506|           INSIDE|2017-04-30T00:00:...|    12:50:00|      40.867233937|     -73.820891974|\n",
      "| 221705377|         FRONT OF|                null|        null|      40.799645073|     -73.945104921|\n",
      "| 814051320|             null|2012-05-09T00:00:...|    15:36:00|      40.735417541|     -73.975143389|\n",
      "+----------+-----------------+--------------------+------------+------------------+------------------+\n",
      "only showing top 20 rows\n",
      "\n"
     ]
    }
   ],
   "source": [
    "# preprocess complaint data\n",
    "complaint_df = complaint_df.select(\"cmplnt_num\",\"loc_of_occur_desc\", \"cmplnt_to_dt\", \"cmplnt_to_tm\", \"latitude\", \"longitude\", )\\\n",
    "    .filter(F.col('latitude').isNotNull()\\\n",
    "        & F.col('longitude').isNotNull())\\\n",
    "    .withColumn(\"longitude\", F.col(\"longitude\").cast(\"double\"))\\\n",
    "    .withColumn(\"latitude\", F.col(\"latitude\").cast(\"double\"))\n",
    "complaint_df.show()"
   ]
  },
  {
   "cell_type": "markdown",
   "id": "5df4e92e-feff-4526-832f-2e21f4ab2a26",
   "metadata": {},
   "source": [
    "#### 4. Summons dataset cleaning"
   ]
  },
  {
   "cell_type": "code",
   "execution_count": 16,
   "id": "1eb4d6ef-8fdf-49b0-8a19-bf2fd66b30f6",
   "metadata": {},
   "outputs": [
    {
     "name": "stdout",
     "output_type": "stream",
     "text": [
      "+-----------------+-------------------+--------------------+-----------------+------------------+------------------+\n",
      "|jurisdiction_code|    law_description| offense_description|precinct_of_occur|          latitude|         longitude|\n",
      "+-----------------+-------------------+--------------------+-----------------+------------------+------------------+\n",
      "|                0|Administrative Code|VEND:RESTRICTIONS...|              109|40.757105780000074|-73.82896307099996|\n",
      "|                0|Administrative Code|  VENDOR: UNLICENSED|               94| 40.71812038400003|-73.95743012599996|\n",
      "|                0|Administrative Code|  VENDOR: UNLICENSED|               94| 40.71812038400003|-73.95743012599996|\n",
      "|                0|Administrative Code|  VENDOR: UNLICENSED|               94| 40.71812038400003|-73.95743012599996|\n",
      "|                0|Administrative Code|  VENDOR: UNLICENSED|               94| 40.71812038400003|-73.95743012599996|\n",
      "|                0|Administrative Code|  VENDOR: UNLICENSED|               94| 40.71812038400003|-73.95743012599996|\n",
      "|                0|                ABC|   UNDERAGE DRINKING|               70| 40.63224054700004|-73.94762406299998|\n",
      "|                0|          Penal Law|DISCON: REFUSE LA...|               25| 40.80337107400004|-73.93711198499993|\n",
      "|                0|Administrative Code|CONSUMPTION OF AL...|              106| 40.67979643700004|-73.85255656799995|\n",
      "|                0|        Health Code| URINATING IN PUBLIC|              104|40.701955336000026|-73.90500467599996|\n",
      "|                0|          Penal Law|  DISORDERLY CONDUCT|               48| 40.83920982000007|     -73.876988107|\n",
      "|                0|          Penal Law|  DISORDERLY CONDUCT|               48| 40.83920982000007|     -73.876988107|\n",
      "|                0|          Penal Law|  DISORDERLY CONDUCT|               48| 40.83920982000007|     -73.876988107|\n",
      "|                0|          Penal Law|  DISORDERLY CONDUCT|               48| 40.83920982000007|     -73.876988107|\n",
      "|                0|Administrative Code|CONSUMPTION OF AL...|              121| 40.63638702700007|-74.13452725899998|\n",
      "|                0|Administrative Code|CONSUMPTION OF AL...|              121| 40.63638702700007|-74.13452725899998|\n",
      "|                0|Administrative Code|CONSUMPTION OF AL...|              121| 40.63638702700007|-74.13452725899998|\n",
      "|                0|Administrative Code|CONSUMPTION OF AL...|              121| 40.63638702700007|-74.13452725899998|\n",
      "|                0|Administrative Code|CONSUMPTION OF AL...|              121| 40.63638702700007|-74.13452725899998|\n",
      "|                0|Administrative Code|CONSUMPTION OF AL...|              121| 40.63638702700007|-74.13452725899998|\n",
      "+-----------------+-------------------+--------------------+-----------------+------------------+------------------+\n",
      "only showing top 20 rows\n",
      "\n"
     ]
    }
   ],
   "source": [
    "# preprocess summons data\n",
    "summons_df = summons_df.select(\"jurisdiction_code\",\"law_description\", \"offense_description\", \"precinct_of_occur\", \"latitude\", \"longitude\", )\\\n",
    "    .filter(F.col('latitude').isNotNull()\\\n",
    "        & F.col('longitude').isNotNull())\\\n",
    "    .withColumn(\"longitude\", F.col(\"longitude\").cast(\"double\"))\\\n",
    "    .withColumn(\"latitude\", F.col(\"latitude\").cast(\"double\"))\n",
    "summons_df.show()"
   ]
  },
  {
   "cell_type": "markdown",
   "id": "e9bc0f14",
   "metadata": {},
   "source": [
    "### Dataset: Consolidating"
   ]
  },
  {
   "cell_type": "markdown",
   "id": "0ce4b4db",
   "metadata": {},
   "source": [
    "1. Combine Subway to Turnstile"
   ]
  },
  {
   "cell_type": "code",
   "execution_count": 17,
   "id": "beb822e8",
   "metadata": {},
   "outputs": [
    {
     "name": "stdout",
     "output_type": "stream",
     "text": [
      "+----+-----------------+-----------------+\n",
      "|unit|          entries|            exits|\n",
      "+----+-----------------+-----------------+\n",
      "|R159|  9.7658670459E10|  3.6752142042E10|\n",
      "|R143| 6.16250900125E11| 7.75773326471E11|\n",
      "|R469|  1.0314052482E10|     9.79342886E8|\n",
      "|R167|  1.6874102816E11| 1.96763060056E11|\n",
      "|R100|  3.8355082149E10|  4.2813609167E10|\n",
      "|R177| 2.21718982614E11| 1.91598461153E11|\n",
      "|R290|  7.7285465068E10|  9.9919615555E10|\n",
      "|R082|  4.0183520438E10|  5.4452586495E10|\n",
      "|R384|   2.283725805E10|  2.2146211814E10|\n",
      "|R432|  1.5507768821E10|    7.016570014E9|\n",
      "|R541|  2.0813861412E10|  1.6886431668E10|\n",
      "|R046| 4.16017591248E11| 2.68429971561E11|\n",
      "|R412|    9.997534418E9|     3.88309983E9|\n",
      "|R018|1.385354956576E12|1.019986375028E12|\n",
      "|R430|    9.052436119E9|   1.126470821E10|\n",
      "|R294|  4.0256229752E10|  2.4555010956E10|\n",
      "|R329|  1.1117120569E10|    5.684716085E9|\n",
      "|R431|1.094341262102E12|1.096776281978E12|\n",
      "|R125|  3.7882386986E10|  2.4059386949E10|\n",
      "|R462| 3.48375809509E11| 3.96053270441E11|\n",
      "+----+-----------------+-----------------+\n",
      "only showing top 20 rows\n",
      "\n"
     ]
    }
   ],
   "source": [
    "# filter and group turnstile dataset\n",
    "gt_df = turnstile_df.groupBy(F.col('unit'))\\\n",
    "    .agg({ 'entries': 'sum', 'exits': 'sum'})\\\n",
    "        .select(F.col('unit'),\\\n",
    "            F.col('sum(entries)').alias('entries'),\\\n",
    "            F.col('sum(exits)').alias('exits'))\n",
    "gt_df.show()"
   ]
  },
  {
   "cell_type": "code",
   "execution_count": 18,
   "id": "ffe1cb57",
   "metadata": {},
   "outputs": [],
   "source": [
    "# combine the total exits and entries for each station\n",
    "st_df = subway_df.join(gt_df, on='unit', how='inner')\\\n",
    "    .select(F.col('GTFS Stop ID').alias('id'),\\\n",
    "        F.col('Line').alias('line'),\\\n",
    "        F.col('Stop Name').alias('stop_name'),\\\n",
    "        F.col('Borough').alias('borough'),\\\n",
    "        F.col('GTFS Latitude').alias('lat'),\\\n",
    "        F.col('GTFS Longitude').alias('long'),\\\n",
    "        F.col('North Direction Label').alias('n_label'),\\\n",
    "        F.col('South Direction Label').alias('s_label'),\\\n",
    "        F.col('entries'),\\\n",
    "        F.col('exits'))\n",
    "\n",
    "st_df.write.option('header', True).mode('overwrite').csv(os.path.join(intr_dir, 'st_df.csv'))"
   ]
  },
  {
   "cell_type": "code",
   "execution_count": 19,
   "id": "2c58c9ca-fe94-412c-a9fc-a0ce4dad45c5",
   "metadata": {},
   "outputs": [
    {
     "name": "stdout",
     "output_type": "stream",
     "text": [
      "+---+-------------------+--------------------+-------+---------+----------+--------------------+--------------------+-----------------+-----------------+\n",
      "| id|               line|           stop_name|borough|      lat|      long|             n_label|             s_label|          entries|            exits|\n",
      "+---+-------------------+--------------------+-------+---------+----------+--------------------+--------------------+-----------------+-----------------+\n",
      "|117|     Broadway - 7Av|116 St-Columbia U...|      M|40.807722| -73.96411|  Uptown & The Bronx|            Downtown|  9.7658670459E10|  3.6752142042E10|\n",
      "|633|       Lexington Av|               28 St|      M| 40.74307|-73.984264|  Uptown & The Bronx|            Downtown| 6.16250900125E11| 7.75773326471E11|\n",
      "|121|     Broadway - 7Av|               86 St|      M|40.788644|-73.976218|  Uptown & The Bronx|            Downtown|  1.6874102816E11| 1.96763060056E11|\n",
      "|M01|          Myrtle Av|Middle Village-Me...|      Q|40.711396|-73.889601|           Manhattan|                null|  3.8355082149E10|  4.2813609167E10|\n",
      "|628|       Lexington Av|68 St-Hunter College|      M|40.768141| -73.96387|  Uptown & The Bronx|            Downtown| 2.21718982614E11| 1.91598461153E11|\n",
      "|134|     Broadway - 7Av|          Houston St|      M|40.728251|-74.005367|  Uptown & The Bronx|            Downtown|  7.7285465068E10|  9.9919615555E10|\n",
      "|R18|Broadway - Brighton|               28 St|      M|40.745494|-73.988691|     Uptown & Queens| Downtown & Brooklyn|  4.0183520438E10|  5.4452586495E10|\n",
      "|A60|         Liberty Av|               88 St|      Q|40.679843| -73.85147|           Manhattan|Lefferts - Rockaways|   2.283725805E10|  2.2146211814E10|\n",
      "|J28|            Jamaica|         Chauncey St|     Bk|40.682893|-73.910456|             Jamaica|           Manhattan|  1.5507768821E10|    7.016570014E9|\n",
      "|631|       Lexington Av| Grand Central-42 St|      M|40.751776|-73.976848|  Uptown & The Bronx| Downtown & Brooklyn| 4.16017591248E11| 2.68429971561E11|\n",
      "|S04|   Franklin Shuttle|      Botanic Garden|     Bk|40.670343|-73.959245|         Franklin Av|       Prospect Park|    9.997534418E9|     3.88309983E9|\n",
      "|G14|        Queens Blvd|Jackson Hts-Roose...|      Q|40.746644|-73.891338|Forest Hills - Ja...|           Manhattan|1.385354956576E12|1.019986375028E12|\n",
      "|504|            Dyre Av|         Pelham Pkwy|     Bx|40.858985|-73.855359|Eastchester - Dyr...|           Manhattan|    9.052436119E9|   1.126470821E10|\n",
      "|L14|           Canarsie|           Morgan Av|     Bk|40.706152|-73.933147|           Manhattan|Canarsie - Rockaw...|  4.0256229752E10|  2.4555010956E10|\n",
      "|505|            Dyre Av|         Morris Park|     Bx|40.854364|-73.860495|Eastchester - Dyr...|           Manhattan|  1.1117120569E10|    5.684716085E9|\n",
      "|501|            Dyre Av| Eastchester-Dyre Av|     Bx|  40.8883|-73.830834|                null|           Manhattan|1.094341262102E12|1.096776281978E12|\n",
      "|M23|            Jamaica|            Broad St|      M|40.706476|-74.011056|            Brooklyn|                null|  3.7882386986E10|  2.4059386949E10|\n",
      "|639|       Lexington Av|            Canal St|      M|40.718803|-74.000193|  Uptown & The Bronx|            Downtown| 3.48375809509E11| 3.96053270441E11|\n",
      "|G33|          Crosstown|Bedford-Nostrand Avs|     Bk|40.689627|-73.953522|              Queens|           Church Av| 2.04982531768E11|  3.1811091975E10|\n",
      "|B20|           West End|               20 Av|     Bk|40.604556|-73.998168|           Manhattan|        Coney Island|  2.6016886112E10|  2.7633803385E10|\n",
      "+---+-------------------+--------------------+-------+---------+----------+--------------------+--------------------+-----------------+-----------------+\n",
      "only showing top 20 rows\n",
      "\n"
     ]
    }
   ],
   "source": [
    "# get st_df from file\n",
    "st_df = spark.read.csv(os.path.join(intr_dir, 'st_df.csv'), header=True, inferSchema=True)\n",
    "st_df.show()"
   ]
  },
  {
   "cell_type": "markdown",
   "id": "ff1c8c5b",
   "metadata": {},
   "source": [
    "2. Combine Subway to Arrest"
   ]
  },
  {
   "cell_type": "code",
   "execution_count": 21,
   "id": "b11911c8-236f-4832-80f1-5571873993cc",
   "metadata": {},
   "outputs": [
    {
     "name": "stdout",
     "output_type": "stream",
     "text": [
      "root\n",
      " |-- arrest_boro: string (nullable = true)\n",
      " |-- arrest_date: string (nullable = true)\n",
      " |-- arrest_key: string (nullable = true)\n",
      " |-- latitude: double (nullable = true)\n",
      " |-- longitude: double (nullable = true)\n",
      "\n"
     ]
    }
   ],
   "source": [
    "# print arrest schema\n",
    "arrest_df.printSchema()"
   ]
  },
  {
   "cell_type": "code",
   "execution_count": 22,
   "id": "7019de02",
   "metadata": {},
   "outputs": [],
   "source": [
    "# perform inner join st_df and arrest_df\n",
    "sa_df = st_df.join(arrest_df, withinMileUdf(F.col('lat'), F.col('long'), F.col('latitude'), F.col('longitude')), 'inner')\\\n",
    "    .drop(F.col('latitude'))\\\n",
    "    .drop(F.col('longitude'))\\\n",
    "    .na.drop(subset=[\"stop_name\"])\\\n",
    "    .groupBy([F.col('id'),\\\n",
    "              F.col('line'),\\\n",
    "              F.col('stop_name'),\\\n",
    "              F.col('borough'),\\\n",
    "              F.col('lat'),\\\n",
    "              F.col('long'),\\\n",
    "              F.col('n_label'),\\\n",
    "              F.col('s_label'),\\\n",
    "              F.col('entries'),\\\n",
    "              F.col('exits')])\\\n",
    "    .count()\\\n",
    "    .withColumn('arrests', F.col('count'))\\\n",
    "    .drop(F.col('count'))\n",
    "\n",
    "# write sa_df to file\n",
    "sa_df.write.option('header', True).mode('overwrite').csv(os.path.join(intr_dir, 'sa_df.csv'))"
   ]
  },
  {
   "cell_type": "code",
   "execution_count": 23,
   "id": "9a84d368",
   "metadata": {},
   "outputs": [
    {
     "name": "stdout",
     "output_type": "stream",
     "text": [
      "+---+-------------------+--------------------+-------+---------+----------+--------------------+--------------------+-----------------+----------------+-------+\n",
      "| id|               line|           stop_name|borough|      lat|      long|             n_label|             s_label|          entries|           exits|arrests|\n",
      "+---+-------------------+--------------------+-------+---------+----------+--------------------+--------------------+-----------------+----------------+-------+\n",
      "|A28| 8th Av - Fulton St|  34 St-Penn Station|      M|40.752287|-73.993391|     Uptown - Queens| Downtown & Brooklyn|1.246297471441E12|4.94987479787E11|  22090|\n",
      "|725|           Flushing|      Times Sq-42 St|      M|40.755477|-73.987691|              Queens|34 St - Hudson Yards| 4.94357936177E11|1.84005946083E11|  11199|\n",
      "|D13|          Concourse|              145 St|      M|40.824783|-73.944216|  Uptown & The Bronx| Downtown & Brooklyn| 1.86300028625E11|1.86449494891E11|   6721|\n",
      "|136|     Broadway - 7Av|         Franklin St|      M|40.719318|-74.006886|  Uptown & The Bronx|            Downtown|  3.8166152489E10| 2.5090306735E10|   8498|\n",
      "|M09|          Myrtle Av|    Knickerbocker Av|     Bk|40.698664|-73.919711|           Manhattan|     Metropolitan Av|  1.3337599288E10| 1.1978250361E10|   2733|\n",
      "|237|        Eastern Pky|    Grand Army Plaza|     Bk|40.675235|-73.971046|           Manhattan| Flatbush - New Lots|  3.6081885157E10| 2.2023644036E10|    492|\n",
      "|F22|    6th Av - Culver|         Smith-9 Sts|     Bk| 40.67358|-73.995959|  Manhattan - Queens|Church Av - Coney...|  1.8071600309E10| 1.3422838876E10|    102|\n",
      "|F02|        Queens Blvd|              169 St|      Q| 40.71047|-73.793604|              179 St|           Manhattan|  4.0383561381E10| 4.6616246622E10|   2291|\n",
      "|255|        Eastern Pky|     Pennsylvania Av|     Bk|40.664635|-73.894895|           Manhattan|            New Lots|  5.0377566117E10| 1.9407416968E10|   3069|\n",
      "|411|          Jerome Av|          Mt Eden Av|     Bx|40.844434|-73.914685|            Woodlawn|           Manhattan|  2.1803950077E10| 1.6100927498E10|   3398|\n",
      "|R18|Broadway - Brighton|               28 St|      M|40.745494|-73.988691|     Uptown & Queens| Downtown & Brooklyn|  4.0183520438E10| 5.4452586495E10|   3182|\n",
      "|104|     Broadway - 7Av|              231 St|     Bx|40.878856|-73.904834|              242 St|           Manhattan| 1.18343499418E11| 1.3138969255E10|   1570|\n",
      "|637|       Lexington Av|         Bleecker St|      M|40.725915|-73.994659|  Uptown & The Bronx|            Downtown| 1.96565180833E11|1.53466659135E11|   3444|\n",
      "|D15|    6th Av - Culver|47-50 Sts-Rockefe...|      M|40.758663|-73.981329|Uptown & The Bron...| Downtown & Brooklyn| 3.52359562127E11|3.20595332347E11|   2684|\n",
      "|D11|          Concourse|161 St-Yankee Sta...|     Bx|40.827905|-73.925651|Bedford Pk Blvd &...|           Manhattan| 1.27361641796E11|1.00014347957E11|  11088|\n",
      "|409|          Jerome Av|         Burnside Av|     Bx|40.853453|-73.907684|            Woodlawn|           Manhattan|  2.2801965066E10| 1.9314917366E10|   6419|\n",
      "|405|          Jerome Av|Bedford Park Blvd...|     Bx|40.873412|-73.890064|            Woodlawn|           Manhattan|   1.645167699E10| 3.2114541645E10|    141|\n",
      "|101|     Broadway - 7Av|Van Cortlandt Par...|     Bx|40.889248|-73.898583|                null|           Manhattan|  3.7649385873E10| 1.2984410527E10|    655|\n",
      "|F29|    6th Av - Culver|           Ditmas Av|     Bk|40.636119|-73.978172|           Manhattan|        Coney Island|   1.517966457E10| 1.3461030546E10|    417|\n",
      "|622|       Lexington Av|              116 St|      M|40.798629|-73.941617|  Uptown & The Bronx|            Downtown|  9.3351856768E10| 7.1960825235E10|  11844|\n",
      "+---+-------------------+--------------------+-------+---------+----------+--------------------+--------------------+-----------------+----------------+-------+\n",
      "only showing top 20 rows\n",
      "\n"
     ]
    }
   ],
   "source": [
    "# fetch saved sa_df and display top rows\n",
    "sa_df = spark.read.csv(os.path.join(intr_dir, 'sa_df.csv'), header=True, inferSchema=True)\n",
    "sa_df.show()"
   ]
  },
  {
   "cell_type": "markdown",
   "id": "1156034a",
   "metadata": {},
   "source": [
    "3. Combine Subway to Criminal"
   ]
  },
  {
   "cell_type": "code",
   "execution_count": 24,
   "id": "edb58d7f",
   "metadata": {},
   "outputs": [
    {
     "name": "stdout",
     "output_type": "stream",
     "text": [
      "root\n",
      " |-- cmplnt_num: string (nullable = true)\n",
      " |-- loc_of_occur_desc: string (nullable = true)\n",
      " |-- cmplnt_to_dt: string (nullable = true)\n",
      " |-- cmplnt_to_tm: string (nullable = true)\n",
      " |-- latitude: double (nullable = true)\n",
      " |-- longitude: double (nullable = true)\n",
      "\n"
     ]
    }
   ],
   "source": [
    "# print complaint schema\n",
    "complaint_df.printSchema()"
   ]
  },
  {
   "cell_type": "code",
   "execution_count": 25,
   "id": "46febcc2-58d4-4f0f-b0ae-0b11602f8218",
   "metadata": {},
   "outputs": [],
   "source": [
    "# join complaints to the sa_df\n",
    "sc_df = sa_df.join(complaint_df, withinMileUdf(F.col('lat'), F.col('long'), F.col('latitude'), F.col('longitude')), 'inner')\\\n",
    "    .drop(F.col('latitude'))\\\n",
    "    .drop(F.col('longitude'))\\\n",
    "    .na.drop(subset=[\"stop_name\"])\\\n",
    "    .groupBy([F.col('id'),\\\n",
    "              F.col('line'),\\\n",
    "              F.col('stop_name'),\\\n",
    "              F.col('borough'),\\\n",
    "              F.col('lat'),\\\n",
    "              F.col('long'),\\\n",
    "              F.col('n_label'),\\\n",
    "              F.col('s_label'),\\\n",
    "              F.col('entries'),\\\n",
    "              F.col('exits'),\\\n",
    "              F.col('arrests')])\\\n",
    "    .count()\\\n",
    "    .withColumn('complaints', F.col('count'))\\\n",
    "    .drop(F.col('count'))\n",
    "\n",
    "# write sa_df to file\n",
    "sc_df.write.option('header', True).mode('overwrite').csv(os.path.join(intr_dir, 'sc_df.csv'))"
   ]
  },
  {
   "cell_type": "code",
   "execution_count": 26,
   "id": "d6c7f13d",
   "metadata": {},
   "outputs": [
    {
     "name": "stdout",
     "output_type": "stream",
     "text": [
      "+---+--------------------+--------------------+-------+---------+----------+--------------------+--------------------+-----------------+-----------------+-------+----------+\n",
      "| id|                line|           stop_name|borough|      lat|      long|             n_label|             s_label|          entries|            exits|arrests|complaints|\n",
      "+---+--------------------+--------------------+-------+---------+----------+--------------------+--------------------+-----------------+-----------------+-------+----------+\n",
      "|G13|         Queens Blvd|         Elmhurst Av|      Q|40.742454|-73.882017|        Forest Hills|           Manhattan| 6.65829665657E11|1.384726586825E12|   1651|      1954|\n",
      "|R41|              4th Av|               59 St|     Bk|40.641362|-74.017881|           Manhattan|Coney Island - Ba...|  8.2568001773E10|  6.6395366214E10|   2674|      3121|\n",
      "|129|      Broadway - 7Av|               28 St|      M|40.747215|-73.993365|  Uptown & The Bronx|            Downtown|  4.8326884814E10| 7.41157201349E11|   2188|      5794|\n",
      "|603|              Pelham|       Middletown Rd|     Bx|40.843863|-73.836322|     Pelham Bay Park|           Manhattan|  1.6027568106E10|    9.955781892E9|    442|      1094|\n",
      "|R26|            Broadway|           Rector St|      M| 40.70722|-74.013342|     Uptown & Queens| Downtown & Brooklyn|   4.881906061E10|  3.0005763008E10|    896|      2641|\n",
      "|639|        Lexington Av|            Canal St|      M|40.718803|-74.000193|  Uptown & The Bronx|            Downtown| 3.48375809509E11| 3.96053270441E11|  10095|      8706|\n",
      "|718|            Flushing|    Queensboro Plaza|      Q|40.750582|-73.940202|  Astoria - Flushing|           Manhattan|  6.4127104874E10|   2.386918433E10|   1937|      2130|\n",
      "|712|            Flushing|      Woodside-61 St|      Q| 40.74563|-73.902984|            Flushing|           Manhattan| 1.00546518973E11|   9.209996421E10|    963|      2012|\n",
      "|235|         Eastern Pky|Atlantic Av-Barcl...|     Bk|40.684359|-73.977666|           Manhattan| Flatbush - New Lots|2.968706005825E12|3.482492391943E12|   7944|      9405|\n",
      "|A06|  8th Av - Fulton St|              181 St|      M|40.851695|-73.937969|              207 St| Downtown & Brooklyn|   9.283133949E10|   7.831462441E10|   1275|      2180|\n",
      "|A64|          Liberty Av|              111 St|      Q|40.684331|-73.832163|           Manhattan|       Lefferts Blvd|  1.5021289845E10|   1.006112624E10|    681|      1539|\n",
      "|F29|     6th Av - Culver|           Ditmas Av|     Bk|40.636119|-73.978172|           Manhattan|        Coney Island|   1.517966457E10|  1.3461030546E10|    417|       945|\n",
      "|D08|           Concourse|         174-175 Sts|     Bx|  40.8459|-73.910136|Bedford Pk Blvd &...|           Manhattan|  2.4405278882E10|  1.9471370196E10|   4337|      4644|\n",
      "|G35|           Crosstown|Clinton-Washingto...|     Bk|40.688089|-73.966839|              Queens|           Church Av|  3.5610363857E10|    8.307576243E9|    510|      1343|\n",
      "|M22|             Jamaica|           Fulton St|      M|40.710374|-74.007582|            Brooklyn|            Broad St| 3.96133333974E12| 7.12490061939E11|   1957|      4775|\n",
      "|R45|              4th Av|     Bay Ridge-95 St|     Bk|40.616622|-74.030876|           Manhattan|                null| 5.73184034882E11|  3.2220541569E10|    718|      1908|\n",
      "|221|Lenox - White Pla...|         3 Av-149 St|     Bx|40.816109|-73.917757|Wakefield - Eastc...|           Manhattan|  9.4687425153E10|  6.9944004179E10|  15019|     10983|\n",
      "|633|        Lexington Av|               28 St|      M| 40.74307|-73.984264|  Uptown & The Bronx|            Downtown| 6.16250900125E11| 7.75773326471E11|   4743|      3804|\n",
      "|A05|  8th Av - Fulton St|              190 St|      M|40.859022| -73.93418|              207 St| Downtown & Brooklyn|  3.1990684653E10|  1.9090459102E10|    313|       720|\n",
      "|621|        Lexington Av|              125 St|      M|40.804138|-73.937594|           The Bronx| Downtown & Brooklyn|1.173632367167E12| 5.38978538693E11|  28673|     18162|\n",
      "+---+--------------------+--------------------+-------+---------+----------+--------------------+--------------------+-----------------+-----------------+-------+----------+\n",
      "only showing top 20 rows\n",
      "\n"
     ]
    }
   ],
   "source": [
    "# fetch saved sa_df and display top rows\n",
    "sc_df = spark.read.csv(os.path.join(intr_dir, 'sc_df.csv'), header=True, inferSchema=True)\n",
    "sc_df.show()"
   ]
  },
  {
   "cell_type": "markdown",
   "id": "ca3a1294",
   "metadata": {},
   "source": [
    "4. Combine Subway to Summons"
   ]
  },
  {
   "cell_type": "code",
   "execution_count": 27,
   "id": "f66a80a2",
   "metadata": {},
   "outputs": [
    {
     "name": "stdout",
     "output_type": "stream",
     "text": [
      "root\n",
      " |-- jurisdiction_code: string (nullable = true)\n",
      " |-- law_description: string (nullable = true)\n",
      " |-- offense_description: string (nullable = true)\n",
      " |-- precinct_of_occur: string (nullable = true)\n",
      " |-- latitude: double (nullable = true)\n",
      " |-- longitude: double (nullable = true)\n",
      "\n"
     ]
    }
   ],
   "source": [
    "summons_df.printSchema()"
   ]
  },
  {
   "cell_type": "code",
   "execution_count": 28,
   "id": "a54c93f8",
   "metadata": {},
   "outputs": [],
   "source": [
    "# join summons to the sc_df\n",
    "ss_df = sc_df.join(summons_df, withinMileUdf(F.col('lat'), F.col('long'), F.col('latitude'), F.col('longitude')), 'inner')\\\n",
    "    .drop(F.col('latitude'))\\\n",
    "    .drop(F.col('longitude'))\\\n",
    "    .na.drop(subset=[\"stop_name\"])\\\n",
    "    .groupBy([F.col('id'),\\\n",
    "              F.col('line'),\\\n",
    "              F.col('stop_name'),\\\n",
    "              F.col('borough'),\\\n",
    "              F.col('lat'),\\\n",
    "              F.col('long'),\\\n",
    "              F.col('n_label'),\\\n",
    "              F.col('s_label'),\\\n",
    "              F.col('entries'),\\\n",
    "              F.col('exits'),\\\n",
    "              F.col('arrests'),\\\n",
    "              F.col('complaints')])\\\n",
    "    .count()\\\n",
    "    .withColumn('summons', F.col('count'))\\\n",
    "    .drop(F.col('count'))\n",
    "\n",
    "# write sa_df to file\n",
    "ss_df.write.option('header', True).mode('overwrite').csv(os.path.join(intr_dir, 'ss_df.csv'))"
   ]
  },
  {
   "cell_type": "code",
   "execution_count": 29,
   "id": "ca46ecea-ee46-4122-bc75-5cbbc7eef8c4",
   "metadata": {},
   "outputs": [
    {
     "name": "stdout",
     "output_type": "stream",
     "text": [
      "+---+-------------------+--------------------+-------+---------+----------+------------------+--------------------+-----------------+-----------------+-------+----------+-------+\n",
      "| id|               line|           stop_name|borough|      lat|      long|           n_label|             s_label|          entries|            exits|arrests|complaints|summons|\n",
      "+---+-------------------+--------------------+-------+---------+----------+------------------+--------------------+-----------------+-----------------+-------+----------+-------+\n",
      "|F12|        Queens Blvd|          5 Av/53 St|      M|40.760167|-73.975224|            Queens| Downtown & Brooklyn| 1.71540057484E11| 1.83989511603E11|   1811|      3603|   1056|\n",
      "|637|       Lexington Av|         Bleecker St|      M|40.725915|-73.994659|Uptown & The Bronx|            Downtown| 1.96565180833E11| 1.53466659135E11|   3444|      5079|   1046|\n",
      "|603|             Pelham|       Middletown Rd|     Bx|40.843863|-73.836322|   Pelham Bay Park|           Manhattan|  1.6027568106E10|    9.955781892E9|    442|      1094|    842|\n",
      "|725|           Flushing|      Times Sq-42 St|      M|40.755477|-73.987691|            Queens|34 St - Hudson Yards| 4.94357936177E11| 1.84005946083E11|  11199|     12406|  14342|\n",
      "|606|             Pelham|           Zerega Av|     Bx|40.836488|-73.847036|   Pelham Bay Park|           Manhattan|    9.471627557E9|    5.313407168E9|    649|      1661|    996|\n",
      "|H12|           Rockaway|         Beach 90 St|      Q|40.588034|-73.813641|         Manhattan|       Rockaway Park|    9.282437234E9|  1.0399036521E10|   1223|      1715|    858|\n",
      "|R45|             4th Av|     Bay Ridge-95 St|     Bk|40.616622|-74.030876|         Manhattan|                null| 5.73184034882E11|  3.2220541569E10|    718|      1908|    380|\n",
      "|D40|Broadway - Brighton|      Brighton Beach|     Bk|40.577621|-73.961376|         Manhattan|        Coney Island|  1.3421971921E11| 1.29853126782E11|   2258|      3553|   1629|\n",
      "|R41|             4th Av|               59 St|     Bk|40.641362|-74.017881|         Manhattan|Coney Island - Ba...|  8.2568001773E10|  6.6395366214E10|   2674|      3121|   2027|\n",
      "|N03|          Sea Beach|  Fort Hamilton Pkwy|     Bk|40.631386|-74.005351|         Manhattan|        Coney Island|  2.2170524548E10|  1.4520606962E10|    306|       751|    360|\n",
      "|G22|          Crosstown|            Court Sq|      Q|40.746554|-73.943832|              null|            Brooklyn| 4.82716797127E11|  3.5964369312E10|    253|       871|    210|\n",
      "|G32|          Crosstown|Myrtle-Willoughby...|     Bk|40.694568|-73.949046|            Queens|           Church Av|   3.465443354E10|  2.3964479413E10|   2759|      2986|   4967|\n",
      "|A28| 8th Av - Fulton St|  34 St-Penn Station|      M|40.752287|-73.993391|   Uptown - Queens| Downtown & Brooklyn|  9.9819375916E10| 1.70757933631E11|  22090|     12041|   5343|\n",
      "|D18|    6th Av - Culver|               23 St|      M|40.742878|-73.992821|   Uptown & Queens| Downtown & Brooklyn|4.317803557209E12|4.534623614847E12|   2968|      5979|   2197|\n",
      "|R11|            Astoria|  Lexington Av/59 St|      M| 40.76266|-73.967258|            Queens| Downtown & Brooklyn| 2.57105386954E11| 2.08594554314E11|   8669|      9719|   1692|\n",
      "|711|           Flushing|               69 St|      Q|40.746325|-73.896403|          Flushing|           Manhattan|  6.5598906739E10|  5.0763211111E10|   1583|      1704|   2171|\n",
      "|A33| 8th Av - Fulton St|           Spring St|      M|40.726227|-74.003739|   Uptown - Queens| Downtown & Brooklyn| 4.66642894831E11| 1.19900802984E11|    740|      2196|    667|\n",
      "|A52| 8th Av - Fulton St|          Liberty Av|     Bk|40.674542|-73.896548|         Manhattan|           Euclid Av|  1.8620626053E10|   1.100283281E10|   2081|      2181|   2418|\n",
      "|J28|            Jamaica|         Chauncey St|     Bk|40.682893|-73.910456|           Jamaica|           Manhattan|  1.5507768821E10|    7.016570014E9|   3586|      2896|   1820|\n",
      "|L06|           Canarsie|                1 Av|      M|40.730953|-73.981628|              8 Av|            Brooklyn|  8.2099544596E10|  1.1128450234E11|   2515|      3658|   1300|\n",
      "+---+-------------------+--------------------+-------+---------+----------+------------------+--------------------+-----------------+-----------------+-------+----------+-------+\n",
      "only showing top 20 rows\n",
      "\n"
     ]
    }
   ],
   "source": [
    "# fetch saved ss_df and display top rows\n",
    "ss_df = spark.read.csv(os.path.join(intr_dir, 'ss_df.csv'), header=True, inferSchema=True)\n",
    "ss_df.show()"
   ]
  },
  {
   "cell_type": "markdown",
   "id": "92e50f3e",
   "metadata": {},
   "source": [
    "### Conclusion"
   ]
  },
  {
   "cell_type": "code",
   "execution_count": 30,
   "id": "039e50b2-3d03-4c23-b768-0ea2fc114a7c",
   "metadata": {},
   "outputs": [
    {
     "data": {
      "text/html": [
       "<div>\n",
       "<style scoped>\n",
       "    .dataframe tbody tr th:only-of-type {\n",
       "        vertical-align: middle;\n",
       "    }\n",
       "\n",
       "    .dataframe tbody tr th {\n",
       "        vertical-align: top;\n",
       "    }\n",
       "\n",
       "    .dataframe thead th {\n",
       "        text-align: right;\n",
       "    }\n",
       "</style>\n",
       "<table border=\"1\" class=\"dataframe\">\n",
       "  <thead>\n",
       "    <tr style=\"text-align: right;\">\n",
       "      <th></th>\n",
       "      <th>id</th>\n",
       "      <th>line</th>\n",
       "      <th>stop_name</th>\n",
       "      <th>borough</th>\n",
       "      <th>lat</th>\n",
       "      <th>long</th>\n",
       "      <th>n_label</th>\n",
       "      <th>s_label</th>\n",
       "      <th>entries</th>\n",
       "      <th>exits</th>\n",
       "      <th>arrests</th>\n",
       "      <th>complaints</th>\n",
       "      <th>summons</th>\n",
       "    </tr>\n",
       "  </thead>\n",
       "  <tbody>\n",
       "    <tr>\n",
       "      <th>0</th>\n",
       "      <td>F12</td>\n",
       "      <td>Queens Blvd</td>\n",
       "      <td>5 Av/53 St</td>\n",
       "      <td>M</td>\n",
       "      <td>40.760167</td>\n",
       "      <td>-73.975224</td>\n",
       "      <td>Queens</td>\n",
       "      <td>Downtown &amp; Brooklyn</td>\n",
       "      <td>1.715401e+11</td>\n",
       "      <td>1.839895e+11</td>\n",
       "      <td>1811</td>\n",
       "      <td>3603</td>\n",
       "      <td>1056</td>\n",
       "    </tr>\n",
       "    <tr>\n",
       "      <th>1</th>\n",
       "      <td>637</td>\n",
       "      <td>Lexington Av</td>\n",
       "      <td>Bleecker St</td>\n",
       "      <td>M</td>\n",
       "      <td>40.725915</td>\n",
       "      <td>-73.994659</td>\n",
       "      <td>Uptown &amp; The Bronx</td>\n",
       "      <td>Downtown</td>\n",
       "      <td>1.965652e+11</td>\n",
       "      <td>1.534667e+11</td>\n",
       "      <td>3444</td>\n",
       "      <td>5079</td>\n",
       "      <td>1046</td>\n",
       "    </tr>\n",
       "    <tr>\n",
       "      <th>2</th>\n",
       "      <td>603</td>\n",
       "      <td>Pelham</td>\n",
       "      <td>Middletown Rd</td>\n",
       "      <td>Bx</td>\n",
       "      <td>40.843863</td>\n",
       "      <td>-73.836322</td>\n",
       "      <td>Pelham Bay Park</td>\n",
       "      <td>Manhattan</td>\n",
       "      <td>1.602757e+10</td>\n",
       "      <td>9.955782e+09</td>\n",
       "      <td>442</td>\n",
       "      <td>1094</td>\n",
       "      <td>842</td>\n",
       "    </tr>\n",
       "    <tr>\n",
       "      <th>3</th>\n",
       "      <td>725</td>\n",
       "      <td>Flushing</td>\n",
       "      <td>Times Sq-42 St</td>\n",
       "      <td>M</td>\n",
       "      <td>40.755477</td>\n",
       "      <td>-73.987691</td>\n",
       "      <td>Queens</td>\n",
       "      <td>34 St - Hudson Yards</td>\n",
       "      <td>4.943579e+11</td>\n",
       "      <td>1.840059e+11</td>\n",
       "      <td>11199</td>\n",
       "      <td>12406</td>\n",
       "      <td>14342</td>\n",
       "    </tr>\n",
       "    <tr>\n",
       "      <th>4</th>\n",
       "      <td>606</td>\n",
       "      <td>Pelham</td>\n",
       "      <td>Zerega Av</td>\n",
       "      <td>Bx</td>\n",
       "      <td>40.836488</td>\n",
       "      <td>-73.847036</td>\n",
       "      <td>Pelham Bay Park</td>\n",
       "      <td>Manhattan</td>\n",
       "      <td>9.471628e+09</td>\n",
       "      <td>5.313407e+09</td>\n",
       "      <td>649</td>\n",
       "      <td>1661</td>\n",
       "      <td>996</td>\n",
       "    </tr>\n",
       "  </tbody>\n",
       "</table>\n",
       "</div>"
      ],
      "text/plain": [
       "    id          line       stop_name borough        lat       long   \n",
       "0  F12   Queens Blvd      5 Av/53 St       M  40.760167 -73.975224  \\\n",
       "1  637  Lexington Av     Bleecker St       M  40.725915 -73.994659   \n",
       "2  603        Pelham   Middletown Rd      Bx  40.843863 -73.836322   \n",
       "3  725      Flushing  Times Sq-42 St       M  40.755477 -73.987691   \n",
       "4  606        Pelham       Zerega Av      Bx  40.836488 -73.847036   \n",
       "\n",
       "              n_label               s_label       entries         exits   \n",
       "0              Queens   Downtown & Brooklyn  1.715401e+11  1.839895e+11  \\\n",
       "1  Uptown & The Bronx              Downtown  1.965652e+11  1.534667e+11   \n",
       "2     Pelham Bay Park             Manhattan  1.602757e+10  9.955782e+09   \n",
       "3              Queens  34 St - Hudson Yards  4.943579e+11  1.840059e+11   \n",
       "4     Pelham Bay Park             Manhattan  9.471628e+09  5.313407e+09   \n",
       "\n",
       "   arrests  complaints  summons  \n",
       "0     1811        3603     1056  \n",
       "1     3444        5079     1046  \n",
       "2      442        1094      842  \n",
       "3    11199       12406    14342  \n",
       "4      649        1661      996  "
      ]
     },
     "execution_count": 30,
     "metadata": {},
     "output_type": "execute_result"
    }
   ],
   "source": [
    "ss_df.toPandas().head()"
   ]
  },
  {
   "cell_type": "code",
   "execution_count": null,
   "id": "a3d5b756-30aa-4458-aea1-87f6abed2a1b",
   "metadata": {},
   "outputs": [],
   "source": []
  }
 ],
 "metadata": {
  "kernelspec": {
   "display_name": "Python 3 (ipykernel)",
   "language": "python",
   "name": "python3"
  },
  "language_info": {
   "codemirror_mode": {
    "name": "ipython",
    "version": 3
   },
   "file_extension": ".py",
   "mimetype": "text/x-python",
   "name": "python",
   "nbconvert_exporter": "python",
   "pygments_lexer": "ipython3",
   "version": "3.8.16"
  }
 },
 "nbformat": 4,
 "nbformat_minor": 5
}
