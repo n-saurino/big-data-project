{
 "cells": [
  {
   "cell_type": "code",
   "execution_count": 1,
   "id": "5be5532d-f960-4781-9bcd-46e9fc649520",
   "metadata": {
    "tags": []
   },
   "outputs": [],
   "source": [
    "# pip\n",
    "#!pip install tqdm\n",
    "#!pip install dask\n",
    "import findspark\n",
    "findspark.init()"
   ]
  },
  {
   "cell_type": "code",
   "execution_count": 2,
   "id": "1161ce3c-f44d-4315-a465-e24bb275488f",
   "metadata": {},
   "outputs": [],
   "source": [
    "# conda\n",
    "# !conda install tqdm\n",
    "# !conda install dask"
   ]
  },
  {
   "cell_type": "code",
   "execution_count": 3,
   "id": "20c7e655-046c-4da4-a507-d6c82a395dfe",
   "metadata": {
    "tags": []
   },
   "outputs": [],
   "source": [
    "# configuration, worked on using python@3.10.9 \n",
    "import os\n",
    "import urllib\n",
    "import json\n",
    "from threading import Thread, Lock\n",
    "from tqdm import tqdm\n",
    "import pyspark\n",
    "import pandas\n",
    "from pyspark import SQLContext\n"
   ]
  },
  {
   "cell_type": "code",
   "execution_count": 5,
   "id": "0745851c-98cb-468f-8422-527aa52bcb08",
   "metadata": {},
   "outputs": [
    {
     "data": {
      "text/html": [
       "\n",
       "            <div>\n",
       "                <p><b>SparkSession - in-memory</b></p>\n",
       "                \n",
       "        <div>\n",
       "            <p><b>SparkContext</b></p>\n",
       "\n",
       "            <p><a href=\"http://10.20.246.100:4040\">Spark UI</a></p>\n",
       "\n",
       "            <dl>\n",
       "              <dt>Version</dt>\n",
       "                <dd><code>v3.4.0</code></dd>\n",
       "              <dt>Master</dt>\n",
       "                <dd><code>local[*]</code></dd>\n",
       "              <dt>AppName</dt>\n",
       "                <dd><code>pyspark-shell</code></dd>\n",
       "            </dl>\n",
       "        </div>\n",
       "        \n",
       "            </div>\n",
       "        "
      ],
      "text/plain": [
       "<pyspark.sql.session.SparkSession at 0x20e6b020dc0>"
      ]
     },
     "execution_count": 5,
     "metadata": {},
     "output_type": "execute_result"
    }
   ],
   "source": [
    "conf = pyspark.SparkConf()\n",
    "\n",
    "sc = pyspark.SparkContext(conf=conf)\n",
    "spark = pyspark.sql.SparkSession(sc)\n",
    "spark.conf.set(\"spark.sql.shuffle.partitions\", \"5\")\n",
    "spark"
   ]
  },
  {
   "cell_type": "code",
   "execution_count": null,
   "id": "c0176948-f20c-45af-a761-428e1c21618d",
   "metadata": {
    "tags": []
   },
   "outputs": [],
   "source": []
  },
  {
   "cell_type": "code",
   "execution_count": 6,
   "id": "78fd043a-320a-4e86-86a8-df4b0b177f7a",
   "metadata": {},
   "outputs": [],
   "source": [
    "# data folder\n",
    "data_dir = 'data'\n",
    "\n",
    "# data urls\n",
    "historic_arrest_loc = { 'url': 'https://data.cityofnewyork.us/resource/8h9b-rp9u.json?$limit=15000000', 'filename': 'arrest.json' }\n",
    "historic_complaint_loc = { 'url': 'https://data.cityofnewyork.us/resource/qgea-i56i.csv?$limit=15000000', 'filename': 'complaint.csv' }\n",
    "historic_court_summons_loc = { 'url': 'https://data.cityofnewyork.us/resource/sv2w-rv3k.json?$limit=15000000', 'filename': 'summons.json' }\n",
    "traffic_speed_loc = { 'url': 'https://data.cityofnewyork.us/resource/i4gi-tjb9.json?$limit=15000000', 'filename': 'speed.json' }\n",
    "turnstile_loc = { 'url': 'https://data.ny.gov/resource/bjcb-yee3.csv?$limit=15000000', 'filename': 'turnstile.csv' }\n",
    "subway_loc = { 'url': 'http://web.mta.info/developers/data/nyct/subway/Stations.csv?$limit=10000', 'filename': 'subway.csv' }"
   ]
  },
  {
   "cell_type": "code",
   "execution_count": 7,
   "id": "296b368d-abad-457e-9273-a4d58bb0164c",
   "metadata": {},
   "outputs": [],
   "source": [
    "# download flags\n",
    "downloadflag = True\n",
    "redownload = False\n",
    "\n",
    "thread_lock = Lock()\n",
    "\n",
    "# download utils\n",
    "def download_dataset_thread(loc, folder):\n",
    "    with thread_lock:\n",
    "         if ((not os.path.exists(os.path.join(folder, loc['filename']))) or redownload) and downloadflag:\n",
    "            if os.path.isfile(os.path.join(folder, loc['filename'])):\n",
    "                os.remove(os.path.join(folder, loc['filename']))\n",
    "            if not os.path.exists(folder):\n",
    "                os.makedirs(folder) \n",
    "            with tqdm(unit=\"B\", unit_scale=True, desc=loc['filename'], miniters=1) as progress_bar:\n",
    "                urllib.request.urlretrieve(loc['url'], os.path.join(folder, loc['filename']), lambda block_num, block_size, total_size: progress_bar.update(block_size))\n",
    "            progress_bar.display()\n",
    "        \n",
    "def download_dataset(loc, folder):\n",
    "    thread = Thread(target=download_dataset_thread, args=(loc, folder))\n",
    "    thread.start()\n",
    "    thread.join()\n",
    "        "
   ]
  },
  {
   "cell_type": "code",
   "execution_count": 8,
   "id": "3bf5d47c-e667-4356-a238-d10729cb744b",
   "metadata": {},
   "outputs": [],
   "source": [
    "# download datasets\n",
    "for dataset in [historic_arrest_loc,\n",
    "                historic_complaint_loc,\n",
    "                historic_court_summons_loc,\n",
    "                turnstile_loc,\n",
    "                subway_loc]:\n",
    "    download_dataset(dataset, data_dir)"
   ]
  },
  {
   "cell_type": "code",
   "execution_count": 9,
   "id": "a03187c4-9ff0-4728-8926-3bcdda56315c",
   "metadata": {},
   "outputs": [],
   "source": [
    "# dataframes\n",
    "#arrest_df = spark.read.json(os.path.join(data_dir, historic_arrest_loc['filename']), multiLine=True)\n",
    "#complaint_rdd = spark.read.csv(os.path.join(data_dir, historic_complaint_loc['filename']),header=True, inferSchema=True)\n",
    "#summons_rdd = spark.read.json(os.path.join(data_dir, historic_court_summons_loc['filename']), multiLine=True)\n",
    "#turnstile_rdd = spark.read.csv(os.path.join(data_dir, turnstile_loc['filename']), multiLine=True, header=True,inferSchema=True)\n",
    "subway_df = spark.read.csv(os.path.join(data_dir, subway_loc['filename']), header=True, inferSchema=True).repartition(5)"
   ]
  },
  {
   "cell_type": "code",
   "execution_count": 10,
   "id": "55b29ff0-4812-4fd5-9e3d-267f51352243",
   "metadata": {},
   "outputs": [],
   "source": [
    "from pyspark.sql.types import *"
   ]
  },
  {
   "cell_type": "code",
   "execution_count": 11,
   "id": "7ecddb38-1aa3-48c3-9225-908bb51b3800",
   "metadata": {},
   "outputs": [
    {
     "data": {
      "text/plain": [
       "DataFrame[cmplnt_num: string, cmplnt_fr_dt: timestamp, cmplnt_fr_tm: timestamp, cmplnt_to_dt: timestamp, cmplnt_to_tm: string, addr_pct_cd: int, rpt_dt: timestamp, ky_cd: int, ofns_desc: string, pd_cd: double, pd_desc: string, crm_atpt_cptd_cd: string, law_cat_cd: string, boro_nm: string, loc_of_occur_desc: string, prem_typ_desc: string, juris_desc: string, jurisdiction_code: double, parks_nm: string, hadevelopt: string, housing_psa: string, x_coord_cd: int, y_coord_cd: int, susp_age_group: string, susp_race: string, susp_sex: string, transit_district: double, latitude: double, longitude: double, lat_lon: string, patrol_boro: string, station_name: string, vic_age_group: string, vic_race: string, vic_sex: string]"
      ]
     },
     "metadata": {},
     "output_type": "display_data"
    }
   ],
   "source": [
    "file_location = \"D:\\\\Bigdata_project\\\\big-data-project\\\\data\\\\complaint.csv\"\n",
    "file_type = \"csv\"\n",
    "\n",
    "# CSV options\n",
    "infer_schema = \"true\"\n",
    "first_row_is_header = \"true\"\n",
    "delimiter = \",\"\n",
    "\n",
    "# The applied options are for CSV files. For other file types, these will be ignored.\n",
    "df = spark.read.format(file_type) \\\n",
    "  .option(\"inferSchema\", infer_schema) \\\n",
    "  .option(\"header\", first_row_is_header) \\\n",
    "  .option(\"sep\", delimiter) \\\n",
    "  .load(file_location)\n",
    "\n",
    "display(df)"
   ]
  },
  {
   "cell_type": "code",
   "execution_count": 12,
   "id": "b962dc8d-8a0a-4173-829b-32585577263c",
   "metadata": {
    "tags": []
   },
   "outputs": [],
   "source": [
    "#temp_table_name = \"sample_csv\"\n",
    "\n",
    "#df.createOrReplaceTempView(temp_table_name)"
   ]
  },
  {
   "cell_type": "code",
   "execution_count": 13,
   "id": "1bc7514d-d441-4a00-b6bf-b28b9b7ef2c0",
   "metadata": {
    "tags": []
   },
   "outputs": [],
   "source": [
    "# Drop unnecessary columns\n",
    "df = df.drop(\"PARKS_NM\", \"VIC_AGE_GROUP\", \"VIC_RACE\", \"VIC_SEX\", \"STATION_NAME\", \"PATROL_BORO\", \"TRANSIT_DISTRICT\", \n",
    "             \"SUSP_SEX\", \"SUSP_RACE\", \"SUSP_AGE_GROUP\", \"X_COORD_CD\", \"Y_COORD_CD\", \"HOUSING_PSA\", \"HADEVELOPT\", \n",
    "             \"JURISDICTION_CODE\", \"JURIS_DESC\", \"JURIS_DESC\", \"RPT_DT\", \"JURIS_DESC\", \"PREM_TYP_DESC\",\n",
    "             \"PD_CD\", \"PD_DESC\", \"LOC_OF_OCCUR_DESC\", \"CMPLNT_TO_TM\", \"CMPLNT_TO_DT\")"
   ]
  },
  {
   "cell_type": "code",
   "execution_count": 14,
   "id": "ef77b630-8b31-46aa-82d6-c08b8e492f15",
   "metadata": {
    "tags": []
   },
   "outputs": [],
   "source": [
    "# Rename columns\n",
    "df = df.toDF('Complaint_ID', 'Start_Date','Start_Time', 'Neighborhood', 'Offence_Code', 'Offence_Type',\n",
    "        'Status','Offence_Level','Borough','Latitude','Longitude','Lat_Lon')\n"
   ]
  },
  {
   "cell_type": "code",
   "execution_count": 27,
   "id": "c4603e16-cb85-41af-afc1-58a6bb276196",
   "metadata": {
    "tags": []
   },
   "outputs": [
    {
     "data": {
      "text/plain": [
       "6910316"
      ]
     },
     "execution_count": 27,
     "metadata": {},
     "output_type": "execute_result"
    }
   ],
   "source": [
    "# Conver start date and end date to timestamp\n",
    "from pyspark.sql import Row, SparkSession\n",
    "from pyspark.sql.functions import *\n",
    "\n",
    "df = df.withColumn('Start_Date', to_timestamp('Start_Date', 'MM/dd/yyyy'))\n",
    "#df = df.filter(df['Start_Date'] >= lit('2006-01-01 00:00:00')).filter(df['Start_Date'] <= lit('2020-01-01 00:00:00'))\n",
    "df = df.dropna()\n",
    "df.count()"
   ]
  },
  {
   "cell_type": "code",
   "execution_count": 16,
   "id": "d287c01b-ac00-4632-901c-f2d921083e78",
   "metadata": {
    "tags": []
   },
   "outputs": [
    {
     "data": {
      "text/plain": [
       "DataFrame[Complaint_ID: string, Start_Date: timestamp, Start_Time: timestamp, Neighborhood: int, Offence_Code: int, Offence_Type: string, Status: string, Offence_Level: string, Borough: string, Latitude: double, Longitude: double, Lat_Lon: string, Date: date, Hour: int, YEAR: int, MONTH: int]"
      ]
     },
     "metadata": {},
     "output_type": "display_data"
    }
   ],
   "source": [
    "from pyspark.sql.functions import to_date \n",
    "from pyspark.sql.functions import year, month \n",
    "# Cast the data type to Date\n",
    "df = df.withColumn('Date', to_date('Start_Date'))\n",
    "df = df.withColumn('Hour', hour(df['Start_Time']))\n",
    "# Create a new column of year number\n",
    "df = df.withColumn('YEAR', year('Date')) \n",
    "# Create a new column of month number\n",
    "df = df.withColumn('MONTH', month('Date'))\n",
    "\n",
    "\n",
    "display(df)"
   ]
  },
  {
   "cell_type": "code",
   "execution_count": 28,
   "id": "6d9efd71-9f61-4ec1-ae40-b5b090f55a48",
   "metadata": {
    "tags": []
   },
   "outputs": [],
   "source": [
    "from pyspark.sql.functions import count\n",
    "\n",
    "total_complaints = df.groupBy(\"Latitude\", \"Longitude\").agg(count(\"Complaint_ID\").alias(\"Total_Complaints\"))\n",
    "total_complaints = total_complaints.na.drop()"
   ]
  },
  {
   "cell_type": "code",
   "execution_count": 18,
   "id": "0e27a521-c7ee-4f26-acfe-999f8e5bef34",
   "metadata": {
    "tags": []
   },
   "outputs": [
    {
     "data": {
      "text/plain": [
       "DataFrame[Station ID: int, Complex ID: int, GTFS Stop ID: string, Division: string, Line: string, Stop Name: string, Borough: string, Daytime Routes: string, Structure: string, GTFS Latitude: double, GTFS Longitude: double, North Direction Label: string, South Direction Label: string, ADA: int, ADA Direction Notes: string, ADA NB: int, ADA SB: int, Capital Outage NB: string, Capital Outage SB: string]"
      ]
     },
     "metadata": {},
     "output_type": "display_data"
    }
   ],
   "source": [
    "#turnstile_rdd = turnstile_rdd.select(col('unit'), col('station'), col('date'), col('entries'), col('exits'))\n",
    "#turnstile_rdd.toPandas() \n",
    "display(subway_df)"
   ]
  },
  {
   "cell_type": "code",
   "execution_count": 29,
   "id": "7fcf1d9c-c753-41c4-bb85-64d7b2749f0f",
   "metadata": {
    "tags": []
   },
   "outputs": [
    {
     "data": {
      "text/plain": [
       "199377"
      ]
     },
     "execution_count": 29,
     "metadata": {},
     "output_type": "execute_result"
    }
   ],
   "source": [
    "#subway_rdd = spark.read.csv(os.path.join(data_dir, subway_loc['filename']), header=True, inferSchema=True, ignoreLeadingWhiteSpace=True, ignoreTrailingWhiteSpace=True, nullValue='')\n",
    "#turnstile_rdd.show()\n",
    "total_complaints.count()\n"
   ]
  },
  {
   "cell_type": "code",
   "execution_count": 20,
   "id": "028033bb-af8d-42ff-bcb5-e96c32df83ff",
   "metadata": {
    "tags": []
   },
   "outputs": [
    {
     "name": "stdout",
     "output_type": "stream",
     "text": [
      "root\n",
      " |-- GTFS Stop ID: string (nullable = true)\n",
      " |-- station: string (nullable = true)\n",
      " |-- latitude: double (nullable = true)\n",
      " |-- longitude: double (nullable = true)\n",
      "\n"
     ]
    }
   ],
   "source": [
    "\n",
    "subway_df = subway_df.withColumnRenamed(\"Complex ID\", \"complex_id\").withColumnRenamed(\"Stop Name\", \"station\").withColumnRenamed(\"GTFS Latitude\", \"latitude\").withColumnRenamed(\"GTFS Longitude\", \"longitude\")\n",
    "subway_df = subway_df.select('GTFS Stop ID', 'station', 'latitude','longitude')\\\n",
    "                     .filter(col('latitude').isNotNull() & col('longitude').isNotNull())\n",
    "#subway_rdd = subway_rdd.select(\"complex_id\", \"latitude\", \"longitude\")\n",
    "subway_df.printSchema()"
   ]
  },
  {
   "cell_type": "code",
   "execution_count": 98,
   "id": "8cfa8d12-46b6-443e-bf1f-9c1e39b2631c",
   "metadata": {
    "tags": []
   },
   "outputs": [],
   "source": [
    "#from pyspark.sql.functions import sum\n",
    "\n",
    "#turnstile_rdd = turnstile_rdd.groupBy(['unit','station', 'date']) \\\n",
    "#                           .agg(sum('entries').alias('entries'), sum('exits').alias('exits'))\n",
    "\n",
    "\n"
   ]
  },
  {
   "cell_type": "code",
   "execution_count": 46,
   "id": "8a60a01d-27b3-431b-82db-4b617bb11357",
   "metadata": {
    "tags": []
   },
   "outputs": [
    {
     "ename": "NameError",
     "evalue": "name 'c_list' is not defined",
     "output_type": "error",
     "traceback": [
      "\u001b[1;31m---------------------------------------------------------------------------\u001b[0m",
      "\u001b[1;31mNameError\u001b[0m                                 Traceback (most recent call last)",
      "Cell \u001b[1;32mIn[46], line 4\u001b[0m\n\u001b[0;32m      1\u001b[0m \u001b[38;5;66;03m#sway_rdd = spark.read.csv(\"D:\\\\Bigdata_project\\\\remote_complex_lookup.csv\", header=True, inferSchema=True, ignoreLeadingWhiteSpace=True, ignoreTrailingWhiteSpace=True, nullValue='')\u001b[39;00m\n\u001b[0;32m      2\u001b[0m \u001b[38;5;66;03m#sway_rdd = sway_rdd.select(\"complex_id\", \"remote\")\u001b[39;00m\n\u001b[0;32m      3\u001b[0m \u001b[38;5;66;03m#turnstile_rdd.show()\u001b[39;00m\n\u001b[1;32m----> 4\u001b[0m \u001b[38;5;28mprint\u001b[39m(\u001b[43mc_list\u001b[49m)\n",
      "\u001b[1;31mNameError\u001b[0m: name 'c_list' is not defined"
     ]
    }
   ],
   "source": [
    "#sway_rdd = spark.read.csv(\"D:\\\\Bigdata_project\\\\remote_complex_lookup.csv\", header=True, inferSchema=True, ignoreLeadingWhiteSpace=True, ignoreTrailingWhiteSpace=True, nullValue='')\n",
    "#sway_rdd = sway_rdd.select(\"complex_id\", \"remote\")\n",
    "#turnstile_rdd.show()\n"
   ]
  },
  {
   "cell_type": "code",
   "execution_count": 96,
   "id": "5003ece3-c31b-457a-93cc-d9dfdf0f5119",
   "metadata": {
    "tags": []
   },
   "outputs": [
    {
     "data": {
      "text/plain": [
       "array([[ 40.87722464, -73.90704324,  75.        ],\n",
       "       [ 40.74648594, -73.98389823,  36.        ],\n",
       "       [ 40.80755882, -73.95290453,  31.        ],\n",
       "       ...,\n",
       "       [ 40.72724499, -73.78300605,   1.        ],\n",
       "       [ 40.60662356, -74.09493819,   1.        ],\n",
       "       [ 40.75722236, -73.81903649,   1.        ]])"
      ]
     },
     "execution_count": 96,
     "metadata": {},
     "output_type": "execute_result"
    }
   ],
   "source": []
  },
  {
   "cell_type": "code",
   "execution_count": null,
   "id": "88f257d1-58f7-4f5c-8844-7b3040d2d1a7",
   "metadata": {
    "tags": []
   },
   "outputs": [],
   "source": [
    "#df = df.withColumnRenamed(\"remote\", \"unit\")\n",
    "#df.toPandas()\n"
   ]
  },
  {
   "cell_type": "code",
   "execution_count": 30,
   "id": "4bb4a48d-8b78-4eec-92d0-35f3f9116d62",
   "metadata": {},
   "outputs": [],
   "source": [
    "from pyspark.sql.functions import col, sum\n",
    "from pyspark.sql.types import DoubleType\n",
    "from haversine import haversine, Unit\n",
    "\n",
    "#def calculate_distance(slat, slong, dlat, dlong):\n",
    "#    srs = (slat, slong)\n",
    "#    dst = (dlat, dlong)\n",
    "    #print(type(srs[0]),type(srs[1]))\n",
    "    #print(srs[0],srs[1])\n",
    "    #print(type(dst[0]),type(dst[1]))\n",
    "    #print(dst[0],dst[1])\n",
    "#    distance = float(haversine(srs, dst,unit=Unit.METERS))\n",
    "    #print(distance)\n",
    "#    return distance \n",
    "    #return bool(distance < 402)\n"
   ]
  },
  {
   "cell_type": "code",
   "execution_count": 36,
   "id": "422a8899-ccda-4ee1-9382-ce249e995a57",
   "metadata": {
    "tags": []
   },
   "outputs": [],
   "source": [
    "#df3 = df2.dropDuplicates([\"latitude\", \"longitude\"])\n",
    "#df3 = joined_df.distinct()\n",
    "@udf(returnType=DoubleType())\n",
    "def calculate_distance(lat1, lon1, lat2, lon2):\n",
    "    return haversine((lat1, lon1), (lat2, lon2), unit=Unit.METERS)"
   ]
  },
  {
   "cell_type": "code",
   "execution_count": 37,
   "id": "74cfb063-bd7a-4611-b1f4-97f0f6905cb9",
   "metadata": {
    "tags": []
   },
   "outputs": [],
   "source": [
    "joined_df = subway_df.crossJoin(total_complaints) \\\n",
    "    .filter(calculate_distance(subway_df.latitude, subway_df.longitude, total_complaints.Latitude, total_complaints.Longitude) <= 160.934) \\\n",
    "    .groupBy(subway_df[\"GTFS Stop ID\"], subway_df[\"station\"], subway_df[\"latitude\"], subway_df[\"longitude\"]) \\\n",
    "    .agg({\"Total_Complaints\": \"sum\"}) \\\n",
    "    .withColumnRenamed(\"sum(Total_Complaints)\", \"Total Complaints\")"
   ]
  },
  {
   "cell_type": "code",
   "execution_count": 38,
   "id": "b336e1bf-cba9-4146-877a-d8b978fa9cb6",
   "metadata": {
    "tags": []
   },
   "outputs": [
    {
     "name": "stdout",
     "output_type": "stream",
     "text": [
      "+------------+--------------------+---------+----------+----------------+\n",
      "|GTFS Stop ID|             station| latitude| longitude|Total Complaints|\n",
      "+------------+--------------------+---------+----------+----------------+\n",
      "|         614|         Longwood Av|40.816104|-73.896435|            5529|\n",
      "|         247|Flatbush Av-Brook...|40.632836|-73.947642|            4098|\n",
      "|         721|Vernon Blvd-Jacks...|40.742626|-73.953581|            6212|\n",
      "|         208|         Gun Hill Rd| 40.87785|-73.866256|            2208|\n",
      "|         A25|               50 St|40.762456|-73.985984|            4762|\n",
      "|         B10|               57 St|40.763972| -73.97745|            3656|\n",
      "|         233|             Hoyt St|40.690545|-73.985065|           10144|\n",
      "|         D24|Atlantic Av-Barcl...| 40.68446| -73.97689|            7953|\n",
      "|         D29|         Beverley Rd|40.644031|-73.964492|             977|\n",
      "|         R15|               49 St|40.759901|-73.984139|            6034|\n",
      "|         G15|               65 St|40.749669|-73.898453|            1046|\n",
      "|         R23|            Canal St|40.719527|-74.001775|            8954|\n",
      "|         218|        Intervale Av|40.822181|-73.896736|            4092|\n",
      "|         234|           Nevins St|40.688246|-73.980492|            3982|\n",
      "|         G16|       Northern Blvd|40.752885|-73.906006|             858|\n",
      "|         A61|       Rockaway Blvd|40.680429|-73.843853|            1774|\n",
      "|         R08|   39 Av-Dutch Kills|40.752882|-73.932755|             836|\n",
      "|         D18|               23 St|40.742878|-73.992821|            5217|\n",
      "|         E01|  World Trade Center|40.712582|-74.009781|            2515|\n",
      "|         A16|              116 St|40.805085|-73.954882|            4266|\n",
      "+------------+--------------------+---------+----------+----------------+\n",
      "only showing top 20 rows\n",
      "\n"
     ]
    }
   ],
   "source": [
    "#c_list = joined_df.distinct().toPandas().values\n",
    "\n",
    "joined_df.show()\n",
    "#from pyspark.sql.functions import first\n",
    "#from pyspark.sql.window import Window\n",
    "#from pyspark.sql import functions as F\n",
    "# create a window partitioned by station and ordered by date\n",
    "#station_window = Window.partitionBy('station').orderBy('date')\n",
    "\n",
    "# create a new dataframe with aggregated entries and exits by station and date\n",
    "#station_day_sum = (\n",
    "#    df3.groupBy('station', 'date')\n",
    "#      .agg(sum('entries').alias('entries'), sum('exits').alias('exits'),\n",
    "#           first('latitude').alias('latitude'), first('longitude').alias('longitude'))\n",
    "#      .withColumn('date', df3.date.cast('date'))\n",
    "#      .withColumn('row_num', F.row_number().over(station_window))\n",
    "#)\n",
    "\n",
    "# filter to only include the first row of each station (i.e. the earliest date for that station)\n",
    "#station_day_sum = station_day_sum.filter(F.col('row_num') == 1).drop('row_num')\n"
   ]
  },
  {
   "cell_type": "code",
   "execution_count": null,
   "id": "f4e126c7-e7f4-43c7-abe9-d1cbaacf5a9a",
   "metadata": {
    "tags": []
   },
   "outputs": [],
   "source": [
    "#station_day_sum.toPandas()"
   ]
  },
  {
   "cell_type": "code",
   "execution_count": 40,
   "id": "4597c90f-0902-4018-a227-1bd917c9e008",
   "metadata": {
    "tags": []
   },
   "outputs": [
    {
     "name": "stdout",
     "output_type": "stream",
     "text": [
      "+------------+------------+---------+----------+----------------+\n",
      "|GTFS Stop ID|     station| latitude| longitude|Total Complaints|\n",
      "+------------+------------+---------+----------+----------------+\n",
      "|         R42|Bay Ridge Av|40.634967|-74.023377|            2136|\n",
      "+------------+------------+---------+----------+----------------+\n",
      "\n"
     ]
    }
   ],
   "source": [
    "joined_df.filter(joined_df[\"GTFS Stop Id\"] == \"R42\").show()\n"
   ]
  },
  {
   "cell_type": "code",
   "execution_count": null,
   "id": "a7e08231-269f-4996-a0d9-d250583b9363",
   "metadata": {
    "tags": []
   },
   "outputs": [],
   "source": [
    "\n"
   ]
  },
  {
   "cell_type": "code",
   "execution_count": 52,
   "id": "4e4dec10-a7b8-4e81-8f56-9aad9ff39338",
   "metadata": {
    "tags": []
   },
   "outputs": [],
   "source": [
    "#!pip install seaborn\n",
    "import matplotlib.pyplot as plt\n",
    "import seaborn as sns\n",
    "import pandas as pd\n",
    "import datetime"
   ]
  },
  {
   "cell_type": "code",
   "execution_count": 53,
   "id": "a1d81684-554b-46d1-8a0d-f553614bbeeb",
   "metadata": {},
   "outputs": [],
   "source": [
    "group_by_year = df.withColumn('Year', trunc('Date', 'YYYY'))"
   ]
  },
  {
   "cell_type": "code",
   "execution_count": null,
   "id": "7640034e",
   "metadata": {},
   "outputs": [],
   "source": []
  },
  {
   "cell_type": "code",
   "execution_count": null,
   "id": "aadf6ded",
   "metadata": {},
   "outputs": [],
   "source": [
    "\n"
   ]
  },
  {
   "cell_type": "code",
   "execution_count": 75,
   "id": "1376a57a",
   "metadata": {},
   "outputs": [],
   "source": [
    "# group by Borough with count of crimes\n",
    "count_crime_borough = group_by_year.select('Borough')\\\n",
    "            .groupBy(['Borough']).count()\n",
    "\n",
    "# convert to pandas df\n",
    "borough_pddf = pd.DataFrame(count_crime_borough.rdd.map(lambda x: x.asDict()).collect()).dropna().sort_values(by='count', ascending=False)\n",
    "\n"
   ]
  },
  {
   "cell_type": "code",
   "execution_count": 76,
   "id": "c19b4156",
   "metadata": {},
   "outputs": [
    {
     "name": "stdout",
     "output_type": "stream",
     "text": [
      "+-------------+-------+\n",
      "|      Borough|  count|\n",
      "+-------------+-------+\n",
      "|    MANHATTAN|1663207|\n",
      "|     BROOKLYN|2056126|\n",
      "|STATEN ISLAND| 324224|\n",
      "|        BRONX|1500490|\n",
      "|       QUEENS|1366269|\n",
      "+-------------+-------+\n",
      "\n"
     ]
    }
   ],
   "source": [
    "count_crime_borough.show()\n"
   ]
  },
  {
   "cell_type": "code",
   "execution_count": 77,
   "id": "1f8a5e36",
   "metadata": {},
   "outputs": [
    {
     "data": {
      "text/plain": [
       "<Axes: title={'center': 'Number of Crimes per Borough'}, xlabel='Borough', ylabel='Number of Crimes'>"
      ]
     },
     "metadata": {},
     "output_type": "display_data"
    },
    {
     "data": {
      "image/png": "[encoded data removed]",
      "text/plain": [
       "<Figure size 640x480 with 1 Axes>"
      ]
     },
     "metadata": {},
     "output_type": "display_data"
    }
   ],
   "source": [
    "# plotting total number of crimes per borough\n",
    "sns.set_style('darkgrid')\n",
    "custom_palette = sns.color_palette(['#FF5733', '#C70039', '#900C3F'])\n",
    "g=sns.barplot(x='Borough',y='count',data=borough_pddf,palette=custom_palette);\n",
    "plt.ylabel('Number of Crimes');\n",
    "plt.title(\"Number of Crimes per Borough\");\n",
    "display(g)"
   ]
  },
  {
   "cell_type": "code",
   "execution_count": null,
   "id": "b5717d7d",
   "metadata": {},
   "outputs": [],
   "source": []
  },
  {
   "cell_type": "code",
   "execution_count": null,
   "id": "cdaaa659",
   "metadata": {},
   "outputs": [],
   "source": []
  }
 ],
 "metadata": {
  "kernelspec": {
   "display_name": "Python 3 (ipykernel)",
   "language": "python",
   "name": "python3"
  },
  "language_info": {
   "codemirror_mode": {
    "name": "ipython",
    "version": 3
   },
   "file_extension": ".py",
   "mimetype": "text/x-python",
   "name": "python",
   "nbconvert_exporter": "python",
   "pygments_lexer": "ipython3",
   "version": "3.9.13"
  }
 },
 "nbformat": 4,
 "nbformat_minor": 5
}
