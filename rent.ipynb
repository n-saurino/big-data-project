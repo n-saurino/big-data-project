{
 "cells": [
  {
   "cell_type": "markdown",
   "id": "0b1994b6-c297-4733-8ae8-e36dcd7aec48",
   "metadata": {},
   "source": [
    "# New York Rent Analysis Model"
   ]
  },
  {
   "cell_type": "markdown",
   "id": "69c861a1-b7b7-4e61-ad9f-762aee248ad0",
   "metadata": {},
   "source": [
    "### Initialize Spark Session"
   ]
  },
  {
   "cell_type": "code",
   "execution_count": 1,
   "id": "b4396665-a652-4551-95be-01395af7fdb8",
   "metadata": {},
   "outputs": [],
   "source": [
    "# libraries\n",
    "import os\n",
    "import matplotlib.pyplot as plt\n",
    "from pyspark.sql import SparkSession, functions as F\n",
    "from pyspark.ml.feature import VectorAssembler\n",
    "from pyspark.ml.regression import RandomForestRegressor\n",
    "from pyspark.ml import Pipeline\n",
    "from pyspark.ml.tuning import ParamGridBuilder\n",
    "from pyspark.ml.tuning import CrossValidator\n",
    "from pyspark.ml.evaluation import RegressionEvaluator\n"
   ]
  },
  {
   "cell_type": "code",
   "execution_count": 2,
   "id": "ece57a8d-a3f6-4b43-8035-8090229cc4f7",
   "metadata": {},
   "outputs": [
    {
     "name": "stderr",
     "output_type": "stream",
     "text": [
      "Setting default log level to \"WARN\".\n",
      "To adjust logging level use sc.setLogLevel(newLevel). For SparkR, use setLogLevel(newLevel).\n",
      "23/05/08 22:18:59 WARN NativeCodeLoader: Unable to load native-hadoop library for your platform... using builtin-java classes where applicable\n",
      "23/05/08 22:18:59 WARN Utils: Service 'SparkUI' could not bind on port 4040. Attempting port 4041.\n",
      "23/05/08 22:18:59 WARN Utils: Service 'SparkUI' could not bind on port 4041. Attempting port 4042.\n"
     ]
    },
    {
     "data": {
      "text/html": [
       "\n",
       "            <div>\n",
       "                <p><b>SparkSession - in-memory</b></p>\n",
       "                \n",
       "        <div>\n",
       "            <p><b>SparkContext</b></p>\n",
       "\n",
       "            <p><a href=\"http://devarshs-mbp.fios-router.home:4042\">Spark UI</a></p>\n",
       "\n",
       "            <dl>\n",
       "              <dt>Version</dt>\n",
       "                <dd><code>v3.4.0</code></dd>\n",
       "              <dt>Master</dt>\n",
       "                <dd><code>local[5]</code></dd>\n",
       "              <dt>AppName</dt>\n",
       "                <dd><code>main</code></dd>\n",
       "            </dl>\n",
       "        </div>\n",
       "        \n",
       "            </div>\n",
       "        "
      ],
      "text/plain": [
       "<pyspark.sql.session.SparkSession at 0x139591190>"
      ]
     },
     "execution_count": 2,
     "metadata": {},
     "output_type": "execute_result"
    }
   ],
   "source": [
    "# spark session initialization\n",
    "spark = SparkSession.builder\\\n",
    "    .master(\"local[5]\")\\\n",
    "    .appName(\"main\")\\\n",
    "    .config(\"spark.sql.debug.maxToStringFields\", 100)\\\n",
    "    .config(\"spark.driver.memory\", '4g')\\\n",
    "    .config(\"spark.executor.instances\", 5)\\\n",
    "    .getOrCreate()\n",
    "\n",
    "spark"
   ]
  },
  {
   "cell_type": "markdown",
   "id": "ed0f9ae3-7f7f-4536-a871-703f7d56b8bd",
   "metadata": {},
   "source": [
    "### Dataset\n",
    "\n",
    "The model here deals with daily rental price and require latitute and longitude to predict the price"
   ]
  },
  {
   "cell_type": "code",
   "execution_count": 3,
   "id": "8413dd24-7a62-4284-a861-5d3659c783b2",
   "metadata": {},
   "outputs": [],
   "source": [
    "# import dataset\n",
    "raw_rent_df = spark.read.csv('new_york.csv', header=True, inferSchema=True)\n",
    "raw_ss_df = spark.read.csv('results/ss_df.csv', header=True, inferSchema=True)"
   ]
  },
  {
   "cell_type": "code",
   "execution_count": 4,
   "id": "13352e5a-a538-4eb9-8469-8fa444096a67",
   "metadata": {},
   "outputs": [
    {
     "name": "stdout",
     "output_type": "stream",
     "text": [
      "root\n",
      " |-- id: string (nullable = true)\n",
      " |-- name: string (nullable = true)\n",
      " |-- host_id: string (nullable = true)\n",
      " |-- host_name: string (nullable = true)\n",
      " |-- neighbourhood_group: string (nullable = true)\n",
      " |-- neighbourhood: string (nullable = true)\n",
      " |-- latitude: string (nullable = true)\n",
      " |-- longitude: string (nullable = true)\n",
      " |-- room_type: string (nullable = true)\n",
      " |-- price: string (nullable = true)\n",
      " |-- minimum_nights: string (nullable = true)\n",
      " |-- number_of_reviews: string (nullable = true)\n",
      " |-- last_review: string (nullable = true)\n",
      " |-- reviews_per_month: string (nullable = true)\n",
      " |-- calculated_host_listings_count: string (nullable = true)\n",
      " |-- availability_365: integer (nullable = true)\n",
      "\n"
     ]
    }
   ],
   "source": [
    "# rent schema\n",
    "raw_rent_df.printSchema()"
   ]
  },
  {
   "cell_type": "markdown",
   "id": "409d16f7-4ca3-4443-8546-4a26fb1da34f",
   "metadata": {},
   "source": [
    "### Data Preprocessing"
   ]
  },
  {
   "cell_type": "code",
   "execution_count": 5,
   "id": "f0267952-3f90-4e58-846c-a93b5033f9d7",
   "metadata": {},
   "outputs": [
    {
     "name": "stdout",
     "output_type": "stream",
     "text": [
      "root\n",
      " |-- id: string (nullable = true)\n",
      " |-- line: string (nullable = true)\n",
      " |-- stop_name: string (nullable = true)\n",
      " |-- borough: string (nullable = true)\n",
      " |-- lat: double (nullable = true)\n",
      " |-- long: double (nullable = true)\n",
      " |-- n_label: string (nullable = true)\n",
      " |-- s_label: string (nullable = true)\n",
      " |-- entries: double (nullable = true)\n",
      " |-- exits: double (nullable = true)\n",
      " |-- arrests: integer (nullable = true)\n",
      " |-- complaints: integer (nullable = true)\n",
      " |-- summons: integer (nullable = true)\n",
      "\n"
     ]
    }
   ],
   "source": [
    "raw_ss_df.printSchema()"
   ]
  },
  {
   "cell_type": "code",
   "execution_count": 6,
   "id": "74d29bc1-3e5c-4200-b8a8-eb17a1d1dbb1",
   "metadata": {},
   "outputs": [
    {
     "data": {
      "text/html": [
       "<div>\n",
       "<style scoped>\n",
       "    .dataframe tbody tr th:only-of-type {\n",
       "        vertical-align: middle;\n",
       "    }\n",
       "\n",
       "    .dataframe tbody tr th {\n",
       "        vertical-align: top;\n",
       "    }\n",
       "\n",
       "    .dataframe thead th {\n",
       "        text-align: right;\n",
       "    }\n",
       "</style>\n",
       "<table border=\"1\" class=\"dataframe\">\n",
       "  <thead>\n",
       "    <tr style=\"text-align: right;\">\n",
       "      <th></th>\n",
       "      <th>id</th>\n",
       "      <th>line</th>\n",
       "      <th>stop_name</th>\n",
       "      <th>borough</th>\n",
       "      <th>n_label</th>\n",
       "      <th>s_label</th>\n",
       "      <th>entries</th>\n",
       "      <th>exits</th>\n",
       "      <th>arrests</th>\n",
       "      <th>complaints</th>\n",
       "      <th>summons</th>\n",
       "      <th>latitude</th>\n",
       "      <th>longitude</th>\n",
       "    </tr>\n",
       "  </thead>\n",
       "  <tbody>\n",
       "    <tr>\n",
       "      <th>0</th>\n",
       "      <td>F12</td>\n",
       "      <td>Queens Blvd</td>\n",
       "      <td>5 Av/53 St</td>\n",
       "      <td>M</td>\n",
       "      <td>Queens</td>\n",
       "      <td>Downtown &amp; Brooklyn</td>\n",
       "      <td>1.715401e+11</td>\n",
       "      <td>1.839895e+11</td>\n",
       "      <td>1811</td>\n",
       "      <td>3603</td>\n",
       "      <td>1056</td>\n",
       "      <td>40.760167</td>\n",
       "      <td>-73.975224</td>\n",
       "    </tr>\n",
       "    <tr>\n",
       "      <th>1</th>\n",
       "      <td>637</td>\n",
       "      <td>Lexington Av</td>\n",
       "      <td>Bleecker St</td>\n",
       "      <td>M</td>\n",
       "      <td>Uptown &amp; The Bronx</td>\n",
       "      <td>Downtown</td>\n",
       "      <td>1.965652e+11</td>\n",
       "      <td>1.534667e+11</td>\n",
       "      <td>3444</td>\n",
       "      <td>5079</td>\n",
       "      <td>1046</td>\n",
       "      <td>40.725915</td>\n",
       "      <td>-73.994659</td>\n",
       "    </tr>\n",
       "    <tr>\n",
       "      <th>2</th>\n",
       "      <td>603</td>\n",
       "      <td>Pelham</td>\n",
       "      <td>Middletown Rd</td>\n",
       "      <td>Bx</td>\n",
       "      <td>Pelham Bay Park</td>\n",
       "      <td>Manhattan</td>\n",
       "      <td>1.602757e+10</td>\n",
       "      <td>9.955782e+09</td>\n",
       "      <td>442</td>\n",
       "      <td>1094</td>\n",
       "      <td>842</td>\n",
       "      <td>40.843863</td>\n",
       "      <td>-73.836322</td>\n",
       "    </tr>\n",
       "    <tr>\n",
       "      <th>3</th>\n",
       "      <td>725</td>\n",
       "      <td>Flushing</td>\n",
       "      <td>Times Sq-42 St</td>\n",
       "      <td>M</td>\n",
       "      <td>Queens</td>\n",
       "      <td>34 St - Hudson Yards</td>\n",
       "      <td>4.943579e+11</td>\n",
       "      <td>1.840059e+11</td>\n",
       "      <td>11199</td>\n",
       "      <td>12406</td>\n",
       "      <td>14342</td>\n",
       "      <td>40.755477</td>\n",
       "      <td>-73.987691</td>\n",
       "    </tr>\n",
       "    <tr>\n",
       "      <th>4</th>\n",
       "      <td>606</td>\n",
       "      <td>Pelham</td>\n",
       "      <td>Zerega Av</td>\n",
       "      <td>Bx</td>\n",
       "      <td>Pelham Bay Park</td>\n",
       "      <td>Manhattan</td>\n",
       "      <td>9.471628e+09</td>\n",
       "      <td>5.313407e+09</td>\n",
       "      <td>649</td>\n",
       "      <td>1661</td>\n",
       "      <td>996</td>\n",
       "      <td>40.836488</td>\n",
       "      <td>-73.847036</td>\n",
       "    </tr>\n",
       "  </tbody>\n",
       "</table>\n",
       "</div>"
      ],
      "text/plain": [
       "    id          line       stop_name borough             n_label   \n",
       "0  F12   Queens Blvd      5 Av/53 St       M              Queens  \\\n",
       "1  637  Lexington Av     Bleecker St       M  Uptown & The Bronx   \n",
       "2  603        Pelham   Middletown Rd      Bx     Pelham Bay Park   \n",
       "3  725      Flushing  Times Sq-42 St       M              Queens   \n",
       "4  606        Pelham       Zerega Av      Bx     Pelham Bay Park   \n",
       "\n",
       "                s_label       entries         exits  arrests  complaints   \n",
       "0   Downtown & Brooklyn  1.715401e+11  1.839895e+11     1811        3603  \\\n",
       "1              Downtown  1.965652e+11  1.534667e+11     3444        5079   \n",
       "2             Manhattan  1.602757e+10  9.955782e+09      442        1094   \n",
       "3  34 St - Hudson Yards  4.943579e+11  1.840059e+11    11199       12406   \n",
       "4             Manhattan  9.471628e+09  5.313407e+09      649        1661   \n",
       "\n",
       "   summons   latitude  longitude  \n",
       "0     1056  40.760167 -73.975224  \n",
       "1     1046  40.725915 -73.994659  \n",
       "2      842  40.843863 -73.836322  \n",
       "3    14342  40.755477 -73.987691  \n",
       "4      996  40.836488 -73.847036  "
      ]
     },
     "execution_count": 6,
     "metadata": {},
     "output_type": "execute_result"
    }
   ],
   "source": [
    "ss_df = raw_ss_df.withColumn('latitude', F.col('lat'))\\\n",
    "    .withColumn('longitude', F.col('long'))\\\n",
    "    .drop('lat')\\\n",
    "    .drop('long')\n",
    "ss_df.toPandas().head()"
   ]
  },
  {
   "cell_type": "code",
   "execution_count": 7,
   "id": "38d65b4e-020a-4ffb-9e08-e697f30b044c",
   "metadata": {},
   "outputs": [
    {
     "name": "stdout",
     "output_type": "stream",
     "text": [
      "root\n",
      " |-- latitude: double (nullable = true)\n",
      " |-- longitude: double (nullable = true)\n",
      " |-- price: double (nullable = true)\n",
      "\n"
     ]
    }
   ],
   "source": [
    "# select required columns\n",
    "rent_df = raw_rent_df.select(F.col('latitude'), F.col('longitude'), F.col('price'))\\\n",
    "    .filter(F.col('latitude').isNotNull()\\\n",
    "        & F.col('longitude').isNotNull()\\\n",
    "        & F.col('price').isNotNull())\\\n",
    "    .withColumn(\"longitude\", F.col(\"longitude\").cast(\"double\"))\\\n",
    "    .withColumn(\"latitude\", F.col(\"latitude\").cast(\"double\"))\\\n",
    "    .withColumn(\"price\", F.col(\"price\").cast(\"double\"))\\\n",
    "    .na.drop()\n",
    "\n",
    "# print selected schema\n",
    "rent_df.printSchema()"
   ]
  },
  {
   "cell_type": "code",
   "execution_count": 8,
   "id": "ff56e2ec-b5a9-46f1-9e10-3dd2cf3ca686",
   "metadata": {},
   "outputs": [
    {
     "name": "stdout",
     "output_type": "stream",
     "text": [
      "+--------+---------+-----+\n",
      "|latitude|longitude|price|\n",
      "+--------+---------+-----+\n",
      "|40.64749|-73.97237|149.0|\n",
      "|40.75362|-73.98377|225.0|\n",
      "|40.80902| -73.9419|150.0|\n",
      "|40.68514|-73.95976| 89.0|\n",
      "|40.79851|-73.94399| 80.0|\n",
      "+--------+---------+-----+\n",
      "only showing top 5 rows\n",
      "\n"
     ]
    }
   ],
   "source": [
    "# top 5 rows of dataset\n",
    "rent_df.show(5)"
   ]
  },
  {
   "cell_type": "markdown",
   "id": "f7050711-e0cd-442c-888a-5de4d3a616fa",
   "metadata": {},
   "source": [
    "### Analysis Model\n",
    "Here we will use PySpark native library to develop a model called Vector Assembler"
   ]
  },
  {
   "cell_type": "code",
   "execution_count": 9,
   "id": "9a852169-894d-408d-8898-9582cd6df7ce",
   "metadata": {},
   "outputs": [],
   "source": [
    "# required features\n",
    "features = ['latitude', 'longitude']\n",
    "target = 'features'"
   ]
  },
  {
   "cell_type": "code",
   "execution_count": 10,
   "id": "a92d23db-dd20-4978-b1cd-94a60223b716",
   "metadata": {},
   "outputs": [],
   "source": [
    "# vectorize data\n",
    "rent_assembler = VectorAssembler(inputCols=features, outputCol=target)"
   ]
  },
  {
   "cell_type": "code",
   "execution_count": 11,
   "id": "27fd4d80-98b1-4591-b733-5a42537359d7",
   "metadata": {},
   "outputs": [],
   "source": [
    "# regression model\n",
    "rent_regress = RandomForestRegressor(featuresCol = target, labelCol = 'price')"
   ]
  },
  {
   "cell_type": "code",
   "execution_count": 12,
   "id": "bb466993-5022-4f49-9723-3b21e59a9519",
   "metadata": {},
   "outputs": [],
   "source": [
    "# create pipeline\n",
    "rent_pipeline  = Pipeline(stages = [rent_assembler,rent_regress])\n"
   ]
  },
  {
   "cell_type": "code",
   "execution_count": 13,
   "id": "aec59ad8-cbc4-46fb-87b0-9978cfbd9057",
   "metadata": {},
   "outputs": [],
   "source": [
    "# save pipeline\n",
    "rent_pipeline.write().overwrite().save('rent_pipeline')"
   ]
  },
  {
   "cell_type": "code",
   "execution_count": 14,
   "id": "237f5449-bdc0-431e-ac3f-95a46fae5a7a",
   "metadata": {},
   "outputs": [],
   "source": [
    "# get saved pipeline\n",
    "rent_pipeline_model = Pipeline.load('./rent_pipeline')"
   ]
  },
  {
   "cell_type": "code",
   "execution_count": 15,
   "id": "443b1214-0be5-41df-b3cf-cb9891f751ab",
   "metadata": {},
   "outputs": [],
   "source": [
    "# hyperparameter space\n",
    "rent_hyper_space = ParamGridBuilder()\\\n",
    "    .addGrid(rent_regress.numTrees,[100,500])\\\n",
    "    .build()"
   ]
  },
  {
   "cell_type": "code",
   "execution_count": 16,
   "id": "c33778b7-ed46-4ab0-825a-671b9f525838",
   "metadata": {},
   "outputs": [],
   "source": [
    "# define cross validator\n",
    "rent_cross_val = CrossValidator(estimator = rent_pipeline_model,\\\n",
    "                                estimatorParamMaps = rent_hyper_space,\\\n",
    "                                evaluator = RegressionEvaluator(labelCol='price'),\\\n",
    "                                numFolds = 3)"
   ]
  },
  {
   "cell_type": "code",
   "execution_count": 17,
   "id": "9016a477-79be-440f-b49d-460ebce07156",
   "metadata": {},
   "outputs": [],
   "source": [
    "# divide train and test data\n",
    "rent_train_df , rent_test_df = rent_df.randomSplit([0.8,0.2], seed = 1432)"
   ]
  },
  {
   "cell_type": "code",
   "execution_count": 18,
   "id": "0a9cdc64-a265-44f8-864c-6a4d6384f75e",
   "metadata": {},
   "outputs": [
    {
     "name": "stderr",
     "output_type": "stream",
     "text": [
      "23/05/08 22:19:10 WARN DAGScheduler: Broadcasting large task binary with size 1143.9 KiB\n",
      "23/05/08 22:19:11 WARN DAGScheduler: Broadcasting large task binary with size 2.2 MiB\n",
      "23/05/08 22:19:11 WARN GarbageCollectionMetrics: To enable non-built-in garbage collector(s) List(G1 Concurrent GC), users should configure it(them) to spark.eventLog.gcMetrics.youngGenerationGarbageCollectors or spark.eventLog.gcMetrics.oldGenerationGarbageCollectors\n",
      "23/05/08 22:19:18 WARN DAGScheduler: Broadcasting large task binary with size 1141.7 KiB\n",
      "23/05/08 22:19:19 WARN DAGScheduler: Broadcasting large task binary with size 2.2 MiB\n",
      "23/05/08 22:19:26 WARN DAGScheduler: Broadcasting large task binary with size 1146.4 KiB\n",
      "23/05/08 22:19:27 WARN DAGScheduler: Broadcasting large task binary with size 2.2 MiB\n",
      "                                                                                \r"
     ]
    }
   ],
   "source": [
    "# train data using cross valuation\n",
    "rent_model = rent_cross_val.fit(rent_train_df)"
   ]
  },
  {
   "cell_type": "code",
   "execution_count": 19,
   "id": "30ee3a70-fc93-48b4-bf41-8826b00b1c83",
   "metadata": {},
   "outputs": [
    {
     "data": {
      "text/plain": [
       "[VectorAssembler_2941afb1fce4,\n",
       " RandomForestRegressionModel: uid=RandomForestRegressor_ded5f2a83f1a, numTrees=100, numFeatures=2]"
      ]
     },
     "execution_count": 19,
     "metadata": {},
     "output_type": "execute_result"
    }
   ],
   "source": [
    "# get best fitted model\n",
    "rent_best_model = rent_model.bestModel\n",
    "rent_best_model.stages"
   ]
  },
  {
   "cell_type": "code",
   "execution_count": 20,
   "id": "bbc9bcf6-c0de-4185-a8b2-9c359e38082b",
   "metadata": {},
   "outputs": [],
   "source": [
    "# transform test data\n",
    "rent_pred = rent_model.transform(rent_test_df)\n"
   ]
  },
  {
   "cell_type": "code",
   "execution_count": 21,
   "id": "6d6773cf-d7ca-4631-b9d9-ee0aa5c15ea4",
   "metadata": {},
   "outputs": [],
   "source": [
    "# evaluate model performance\n",
    "rent_eval = RegressionEvaluator(labelCol='price')"
   ]
  },
  {
   "cell_type": "code",
   "execution_count": 22,
   "id": "44d2357b-25f6-466a-9894-02fd3816bf51",
   "metadata": {},
   "outputs": [
    {
     "name": "stdout",
     "output_type": "stream",
     "text": [
      "RMSE: 233.906\n"
     ]
    }
   ],
   "source": [
    "# rmse error calculation\n",
    "rent_model_rmse = rent_eval.evaluate(rent_pred, {rent_eval.metricName:'rmse'})\n",
    "print(\"RMSE: %.3f\" % rent_model_rmse)"
   ]
  },
  {
   "cell_type": "code",
   "execution_count": 23,
   "id": "60a961ad-30e0-434b-a354-d2eb0eb65d6b",
   "metadata": {},
   "outputs": [
    {
     "name": "stdout",
     "output_type": "stream",
     "text": [
      "MAE: 79.350\n"
     ]
    }
   ],
   "source": [
    "# mae score\n",
    "rent_model_mae = rent_eval.evaluate(rent_pred, {rent_eval.metricName:\"mae\"})\n",
    "print(\"MAE: %.3f\" %rent_model_mae)"
   ]
  },
  {
   "cell_type": "code",
   "execution_count": 24,
   "id": "3c841b9b-749e-42a0-b906-f80fc0e04f57",
   "metadata": {},
   "outputs": [
    {
     "name": "stdout",
     "output_type": "stream",
     "text": [
      "R2: 0.063\n"
     ]
    }
   ],
   "source": [
    "# r2 score\n",
    "rent_model_r2 = rent_eval.evaluate(rent_pred, {rent_eval.metricName:'r2'})\n",
    "print(\"R2: %.3f\" %rent_model_r2)"
   ]
  },
  {
   "cell_type": "markdown",
   "id": "d0977f68-696f-4a04-bd69-e0f5d9e57a6d",
   "metadata": {},
   "source": [
    "### Predict price"
   ]
  },
  {
   "cell_type": "code",
   "execution_count": 25,
   "id": "d0debdf2-e855-4f90-a8f1-3abb5bf9110f",
   "metadata": {},
   "outputs": [],
   "source": [
    "# predict prices\n",
    "final_rent_eval = rent_model.transform(ss_df)\\\n",
    "    .withColumn('pred_price', F.col('prediction'))\\\n",
    "    .drop('prediction')\\\n",
    "    .drop('features')"
   ]
  },
  {
   "cell_type": "code",
   "execution_count": 26,
   "id": "4c5d1930-c918-4840-ba5d-d753b1beb079",
   "metadata": {},
   "outputs": [
    {
     "name": "stdout",
     "output_type": "stream",
     "text": [
      "+---+-------------------+--------------------+-------+------------------+--------------------+-----------------+-----------------+-------+----------+-------+---------+----------+------------------+\n",
      "| id|               line|           stop_name|borough|           n_label|             s_label|          entries|            exits|arrests|complaints|summons| latitude| longitude|        pred_price|\n",
      "+---+-------------------+--------------------+-------+------------------+--------------------+-----------------+-----------------+-------+----------+-------+---------+----------+------------------+\n",
      "|F12|        Queens Blvd|          5 Av/53 St|      M|            Queens| Downtown & Brooklyn| 1.71540057484E11| 1.83989511603E11|   1811|      3603|   1056|40.760167|-73.975224| 229.7236260322771|\n",
      "|637|       Lexington Av|         Bleecker St|      M|Uptown & The Bronx|            Downtown| 1.96565180833E11| 1.53466659135E11|   3444|      5079|   1046|40.725915|-73.994659|215.20943593671655|\n",
      "|603|             Pelham|       Middletown Rd|     Bx|   Pelham Bay Park|           Manhattan|  1.6027568106E10|    9.955781892E9|    442|      1094|    842|40.843863|-73.836322| 93.02191810191586|\n",
      "|725|           Flushing|      Times Sq-42 St|      M|            Queens|34 St - Hudson Yards| 4.94357936177E11| 1.84005946083E11|  11199|     12406|  14342|40.755477|-73.987691|226.52046944869585|\n",
      "|606|             Pelham|           Zerega Av|     Bx|   Pelham Bay Park|           Manhattan|    9.471627557E9|    5.313407168E9|    649|      1661|    996|40.836488|-73.847036| 93.02191810191586|\n",
      "|H12|           Rockaway|         Beach 90 St|      Q|         Manhattan|       Rockaway Park|    9.282437234E9|  1.0399036521E10|   1223|      1715|    858|40.588034|-73.813641|122.66071774639377|\n",
      "|R45|             4th Av|     Bay Ridge-95 St|     Bk|         Manhattan|                null| 5.73184034882E11|  3.2220541569E10|    718|      1908|    380|40.616622|-74.030876|120.72768913877793|\n",
      "|D40|Broadway - Brighton|      Brighton Beach|     Bk|         Manhattan|        Coney Island|  1.3421971921E11| 1.29853126782E11|   2258|      3553|   1629|40.577621|-73.961376|103.95660130611257|\n",
      "|R41|             4th Av|               59 St|     Bk|         Manhattan|Coney Island - Ba...|  8.2568001773E10|  6.6395366214E10|   2674|      3121|   2027|40.641362|-74.017881|125.24944774998923|\n",
      "|N03|          Sea Beach|  Fort Hamilton Pkwy|     Bk|         Manhattan|        Coney Island|  2.2170524548E10|  1.4520606962E10|    306|       751|    360|40.631386|-74.005351|115.19775241414457|\n",
      "|G22|          Crosstown|            Court Sq|      Q|              null|            Brooklyn| 4.82716797127E11|  3.5964369312E10|    253|       871|    210|40.746554|-73.943832|130.91390958320588|\n",
      "|G32|          Crosstown|Myrtle-Willoughby...|     Bk|            Queens|           Church Av|   3.465443354E10|  2.3964479413E10|   2759|      2986|   4967|40.694568|-73.949046|100.27881051611604|\n",
      "|A28| 8th Av - Fulton St|  34 St-Penn Station|      M|   Uptown - Queens| Downtown & Brooklyn|  9.9819375916E10| 1.70757933631E11|  22090|     12041|   5343|40.752287|-73.993391|227.08866252776303|\n",
      "|D18|    6th Av - Culver|               23 St|      M|   Uptown & Queens| Downtown & Brooklyn|4.317803557209E12|4.534623614847E12|   2968|      5979|   2197|40.742878|-73.992821|228.14321968830302|\n",
      "|R11|            Astoria|  Lexington Av/59 St|      M|            Queens| Downtown & Brooklyn| 2.57105386954E11| 2.08594554314E11|   8669|      9719|   1692| 40.76266|-73.967258| 232.5182073787973|\n",
      "|711|           Flushing|               69 St|      Q|          Flushing|           Manhattan|  6.5598906739E10|  5.0763211111E10|   1583|      1704|   2171|40.746325|-73.896403| 99.53057728759364|\n",
      "|A33| 8th Av - Fulton St|           Spring St|      M|   Uptown - Queens| Downtown & Brooklyn| 4.66642894831E11| 1.19900802984E11|    740|      2196|    667|40.726227|-74.003739| 275.6595756214152|\n",
      "|A52| 8th Av - Fulton St|          Liberty Av|     Bk|         Manhattan|           Euclid Av|  1.8620626053E10|   1.100283281E10|   2081|      2181|   2418|40.674542|-73.896548| 97.60116490196214|\n",
      "|J28|            Jamaica|         Chauncey St|     Bk|           Jamaica|           Manhattan|  1.5507768821E10|    7.016570014E9|   3586|      2896|   1820|40.682893|-73.910456| 98.45020255692272|\n",
      "|L06|           Canarsie|                1 Av|      M|              8 Av|            Brooklyn|  8.2099544596E10|  1.1128450234E11|   2515|      3658|   1300|40.730953|-73.981628|  224.631621513374|\n",
      "+---+-------------------+--------------------+-------+------------------+--------------------+-----------------+-----------------+-------+----------+-------+---------+----------+------------------+\n",
      "only showing top 20 rows\n",
      "\n"
     ]
    }
   ],
   "source": [
    "# save prediction prices\n",
    "final_rent_eval.write.option('header', True).mode('overwrite').csv(os.path.join('results', 'prediction.csv'))\n",
    "final_rent_eval.show()"
   ]
  },
  {
   "cell_type": "code",
   "execution_count": null,
   "id": "777ce75b-758f-4225-a5b0-b163adfa5730",
   "metadata": {},
   "outputs": [],
   "source": []
  }
 ],
 "metadata": {
  "kernelspec": {
   "display_name": "Python 3 (ipykernel)",
   "language": "python",
   "name": "python3"
  },
  "language_info": {
   "codemirror_mode": {
    "name": "ipython",
    "version": 3
   },
   "file_extension": ".py",
   "mimetype": "text/x-python",
   "name": "python",
   "nbconvert_exporter": "python",
   "pygments_lexer": "ipython3",
   "version": "3.8.16"
  }
 },
 "nbformat": 4,
 "nbformat_minor": 5
}
