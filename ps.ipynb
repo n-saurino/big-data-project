{
 "cells": [
  {
   "cell_type": "code",
   "execution_count": 45,
   "id": "562b51d9-222b-48a9-a5ba-dcc7ed9b3f3e",
   "metadata": {},
   "outputs": [],
   "source": [
    "from kafka import KafkaProducer\n",
    "import json"
   ]
  },
  {
   "cell_type": "code",
   "execution_count": 51,
   "id": "c3288633-27a7-499e-ab09-9909db831832",
   "metadata": {},
   "outputs": [],
   "source": [
    "producer = KafkaProducer(bootstrap_servers=['localhost:9092'], value_serializer=lambda m: json.dumps(m).encode('ascii'))"
   ]
  },
  {
   "cell_type": "code",
   "execution_count": 52,
   "id": "e1f6ac83-2ee2-4626-b57c-df851168fb7c",
   "metadata": {},
   "outputs": [],
   "source": [
    "val = json.dumps([1, 2, 3,])"
   ]
  },
  {
   "cell_type": "code",
   "execution_count": 53,
   "id": "44319c74-1851-440a-90dd-2e9b5ba5d047",
   "metadata": {},
   "outputs": [
    {
     "data": {
      "text/plain": [
       "'[1, 2, 3]'"
      ]
     },
     "execution_count": 53,
     "metadata": {},
     "output_type": "execute_result"
    }
   ],
   "source": [
    "val"
   ]
  },
  {
   "cell_type": "code",
   "execution_count": 57,
   "id": "d747f880-984c-42bd-8f9a-f97209e7fd1c",
   "metadata": {},
   "outputs": [
    {
     "data": {
      "text/plain": [
       "<kafka.producer.future.FutureRecordMetadata at 0x127d219a0>"
      ]
     },
     "execution_count": 57,
     "metadata": {},
     "output_type": "execute_result"
    }
   ],
   "source": [
    "producer.send('topic-1', { 'sam': 'san' })"
   ]
  },
  {
   "cell_type": "code",
   "execution_count": null,
   "id": "7ee883e5-8a5a-4945-b1e4-00851035cf9f",
   "metadata": {},
   "outputs": [],
   "source": []
  }
 ],
 "metadata": {
  "kernelspec": {
   "display_name": "Python 3 (ipykernel)",
   "language": "python",
   "name": "python3"
  },
  "language_info": {
   "codemirror_mode": {
    "name": "ipython",
    "version": 3
   },
   "file_extension": ".py",
   "mimetype": "text/x-python",
   "name": "python",
   "nbconvert_exporter": "python",
   "pygments_lexer": "ipython3",
   "version": "3.8.16"
  }
 },
 "nbformat": 4,
 "nbformat_minor": 5
}
